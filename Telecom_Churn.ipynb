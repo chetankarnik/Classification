{
 "cells": [
  {
   "cell_type": "markdown",
   "id": "f668af51",
   "metadata": {},
   "source": [
    "# TELECOM CHURN CASE STUDY\n",
    "\n",
    "### CHETAN KARNIK"
   ]
  },
  {
   "cell_type": "markdown",
   "id": "071f91a4",
   "metadata": {},
   "source": [
    "### Problem Statement\n",
    "\n",
    "- The telecommunications industry experiences an average of 15-25% annual churn rate.It costs 5-10 times more to acquire a new \n",
    "  customer than to retain an existing one, customer retention has now become very important aspect than customer acquisition.\n",
    "- Analyst required to analyse customer-level data of a leading telecom firm, build predictive models to identify customers at\n",
    "  high risk of churn and identify the main indicators of churn.\n",
    "- Define high-value customers based on a certain metric (mentioned later below) and predict churn only on high-value customers\n",
    "\n",
    "###   Key Challenges :\n",
    "\n",
    "- Telecom companies need to predict which customers are at high risk of churn.\n",
    "- Retaining high profitable customers is Top most business goal.."
   ]
  },
  {
   "cell_type": "markdown",
   "id": "54ecd36e",
   "metadata": {},
   "source": [
    "###  Business Objective / End Expectation from Telecom Churn Case Study\n",
    "\n",
    "#### Goal of the Data Analysis:\n",
    "\n",
    "The company wants to know:\n",
    "-  Predict the churn in the last (i.e. the ninth) month using the data (features) previous last three three months. \n",
    "-  **Usage-based churn**: Customers who have not done any usage, either incoming or outgoing - in terms of calls, internet etc.\n",
    "   over a period of time.\n",
    "-  Variables that are significant in predicting the Churn based on the customer behaviours.\n",
    "-  How well those variables impact the Churning.\n",
    "\n",
    "#### Broader Strategy :\n",
    "- **Make a Informed decision:** - Analyse customer-level data, build predictive models to identify customers at high risk of \n",
    "   churn and identify the main indicators of churn\n",
    "-  Approximately 80% of revenue comes from the top 20% customers (called high-value customers).\n",
    "-  Reduce churn of the high-value customers, we will be able to reduce significant revenue leakage..\n",
    " \n",
    "#### Key outcome\n",
    "- Identify the pattern of \"Churn\" early based on the given data set.\n",
    "- Required to model the customer behaviour with the available independent variables in the past few months \n",
    "- The inferences used to predict whether a high-value customer will churn or not, in near future (i.e. churn phase). \n",
    "- With this insight, the company can take action steps such as providing special plans, discounts on recharge etc.\n",
    "- It will be used by the management to understand & identify important variables that are strong predictors of churn. \n",
    "- These variables may also indicate why customers choose to switch to other networks. \n",
    "- They can accordingly manipulate the business strategy to meet the demand levels and meet the customer's expectations. \n",
    "- The model will be a good way for management to understand the demand dynamics of a new market. "
   ]
  },
  {
   "cell_type": "code",
   "execution_count": 1,
   "id": "af0484af",
   "metadata": {},
   "outputs": [],
   "source": [
    "# Importing Pandas and NumPy\n",
    "import pandas as pd\n",
    "import numpy as np\n",
    "import matplotlib.pyplot as plt\n",
    "import seaborn as sns\n",
    "\n",
    "import datetime as dt\n",
    "import os\n",
    "import sys\n",
    "\n",
    "from sklearn.model_selection import GridSearchCV\n",
    "from sklearn.linear_model import LogisticRegression\n",
    "from sklearn import metrics\n",
    "from sklearn.model_selection import KFold\n",
    "from sklearn.ensemble import RandomForestClassifier\n",
    "from sklearn.metrics import precision_score, recall_score"
   ]
  },
  {
   "cell_type": "code",
   "execution_count": 2,
   "id": "8d48557c",
   "metadata": {},
   "outputs": [],
   "source": [
    "import warnings\n",
    "warnings.filterwarnings('ignore')\n",
    "%matplotlib inline"
   ]
  },
  {
   "cell_type": "markdown",
   "id": "87641ac7",
   "metadata": {},
   "source": [
    "## 1.0  Reading File "
   ]
  },
  {
   "cell_type": "markdown",
   "id": "743c531d",
   "metadata": {},
   "source": [
    "####  Note :\n",
    " * Correct encoding \"iso-8859-1' followed to read the file.\n",
    " * {'encoding': 'ascii', 'confidence': 1.0, 'language': ''}"
   ]
  },
  {
   "cell_type": "code",
   "execution_count": 3,
   "id": "397f83c5",
   "metadata": {},
   "outputs": [],
   "source": [
    "# Importing dataset\n",
    "base_data = pd.read_csv(\"telecom_churn_data.csv\")\n",
    "\n",
    "# Keep a copy of Telecom master file\n",
    "base_data_master = base_data.copy()"
   ]
  },
  {
   "cell_type": "markdown",
   "id": "d1add77c",
   "metadata": {},
   "source": [
    "### Check the basics of the dataset"
   ]
  },
  {
   "cell_type": "code",
   "execution_count": 4,
   "id": "5ff4d0c7",
   "metadata": {},
   "outputs": [
    {
     "data": {
      "text/plain": [
       "(99999, 226)"
      ]
     },
     "execution_count": 4,
     "metadata": {},
     "output_type": "execute_result"
    }
   ],
   "source": [
    "#Lets check the shape and first few rows of the dataset\n",
    "base_data.shape"
   ]
  },
  {
   "cell_type": "code",
   "execution_count": 5,
   "id": "6eef4dc6",
   "metadata": {},
   "outputs": [
    {
     "data": {
      "text/html": [
       "<div>\n",
       "<style scoped>\n",
       "    .dataframe tbody tr th:only-of-type {\n",
       "        vertical-align: middle;\n",
       "    }\n",
       "\n",
       "    .dataframe tbody tr th {\n",
       "        vertical-align: top;\n",
       "    }\n",
       "\n",
       "    .dataframe thead th {\n",
       "        text-align: right;\n",
       "    }\n",
       "</style>\n",
       "<table border=\"1\" class=\"dataframe\">\n",
       "  <thead>\n",
       "    <tr style=\"text-align: right;\">\n",
       "      <th></th>\n",
       "      <th>mobile_number</th>\n",
       "      <th>circle_id</th>\n",
       "      <th>loc_og_t2o_mou</th>\n",
       "      <th>std_og_t2o_mou</th>\n",
       "      <th>loc_ic_t2o_mou</th>\n",
       "      <th>last_date_of_month_6</th>\n",
       "      <th>last_date_of_month_7</th>\n",
       "      <th>last_date_of_month_8</th>\n",
       "      <th>last_date_of_month_9</th>\n",
       "      <th>arpu_6</th>\n",
       "      <th>...</th>\n",
       "      <th>sachet_3g_9</th>\n",
       "      <th>fb_user_6</th>\n",
       "      <th>fb_user_7</th>\n",
       "      <th>fb_user_8</th>\n",
       "      <th>fb_user_9</th>\n",
       "      <th>aon</th>\n",
       "      <th>aug_vbc_3g</th>\n",
       "      <th>jul_vbc_3g</th>\n",
       "      <th>jun_vbc_3g</th>\n",
       "      <th>sep_vbc_3g</th>\n",
       "    </tr>\n",
       "  </thead>\n",
       "  <tbody>\n",
       "    <tr>\n",
       "      <th>0</th>\n",
       "      <td>7000842753</td>\n",
       "      <td>109</td>\n",
       "      <td>0.0</td>\n",
       "      <td>0.0</td>\n",
       "      <td>0.0</td>\n",
       "      <td>6/30/2014</td>\n",
       "      <td>7/31/2014</td>\n",
       "      <td>8/31/2014</td>\n",
       "      <td>9/30/2014</td>\n",
       "      <td>197.385</td>\n",
       "      <td>...</td>\n",
       "      <td>0</td>\n",
       "      <td>1.0</td>\n",
       "      <td>1.0</td>\n",
       "      <td>1.0</td>\n",
       "      <td>NaN</td>\n",
       "      <td>968</td>\n",
       "      <td>30.4</td>\n",
       "      <td>0.0</td>\n",
       "      <td>101.20</td>\n",
       "      <td>3.58</td>\n",
       "    </tr>\n",
       "    <tr>\n",
       "      <th>1</th>\n",
       "      <td>7001865778</td>\n",
       "      <td>109</td>\n",
       "      <td>0.0</td>\n",
       "      <td>0.0</td>\n",
       "      <td>0.0</td>\n",
       "      <td>6/30/2014</td>\n",
       "      <td>7/31/2014</td>\n",
       "      <td>8/31/2014</td>\n",
       "      <td>9/30/2014</td>\n",
       "      <td>34.047</td>\n",
       "      <td>...</td>\n",
       "      <td>0</td>\n",
       "      <td>NaN</td>\n",
       "      <td>1.0</td>\n",
       "      <td>1.0</td>\n",
       "      <td>NaN</td>\n",
       "      <td>1006</td>\n",
       "      <td>0.0</td>\n",
       "      <td>0.0</td>\n",
       "      <td>0.00</td>\n",
       "      <td>0.00</td>\n",
       "    </tr>\n",
       "    <tr>\n",
       "      <th>2</th>\n",
       "      <td>7001625959</td>\n",
       "      <td>109</td>\n",
       "      <td>0.0</td>\n",
       "      <td>0.0</td>\n",
       "      <td>0.0</td>\n",
       "      <td>6/30/2014</td>\n",
       "      <td>7/31/2014</td>\n",
       "      <td>8/31/2014</td>\n",
       "      <td>9/30/2014</td>\n",
       "      <td>167.690</td>\n",
       "      <td>...</td>\n",
       "      <td>0</td>\n",
       "      <td>NaN</td>\n",
       "      <td>NaN</td>\n",
       "      <td>NaN</td>\n",
       "      <td>1.0</td>\n",
       "      <td>1103</td>\n",
       "      <td>0.0</td>\n",
       "      <td>0.0</td>\n",
       "      <td>4.17</td>\n",
       "      <td>0.00</td>\n",
       "    </tr>\n",
       "    <tr>\n",
       "      <th>3</th>\n",
       "      <td>7001204172</td>\n",
       "      <td>109</td>\n",
       "      <td>0.0</td>\n",
       "      <td>0.0</td>\n",
       "      <td>0.0</td>\n",
       "      <td>6/30/2014</td>\n",
       "      <td>7/31/2014</td>\n",
       "      <td>8/31/2014</td>\n",
       "      <td>9/30/2014</td>\n",
       "      <td>221.338</td>\n",
       "      <td>...</td>\n",
       "      <td>0</td>\n",
       "      <td>NaN</td>\n",
       "      <td>NaN</td>\n",
       "      <td>NaN</td>\n",
       "      <td>NaN</td>\n",
       "      <td>2491</td>\n",
       "      <td>0.0</td>\n",
       "      <td>0.0</td>\n",
       "      <td>0.00</td>\n",
       "      <td>0.00</td>\n",
       "    </tr>\n",
       "    <tr>\n",
       "      <th>4</th>\n",
       "      <td>7000142493</td>\n",
       "      <td>109</td>\n",
       "      <td>0.0</td>\n",
       "      <td>0.0</td>\n",
       "      <td>0.0</td>\n",
       "      <td>6/30/2014</td>\n",
       "      <td>7/31/2014</td>\n",
       "      <td>8/31/2014</td>\n",
       "      <td>9/30/2014</td>\n",
       "      <td>261.636</td>\n",
       "      <td>...</td>\n",
       "      <td>0</td>\n",
       "      <td>0.0</td>\n",
       "      <td>NaN</td>\n",
       "      <td>NaN</td>\n",
       "      <td>NaN</td>\n",
       "      <td>1526</td>\n",
       "      <td>0.0</td>\n",
       "      <td>0.0</td>\n",
       "      <td>0.00</td>\n",
       "      <td>0.00</td>\n",
       "    </tr>\n",
       "  </tbody>\n",
       "</table>\n",
       "<p>5 rows × 226 columns</p>\n",
       "</div>"
      ],
      "text/plain": [
       "   mobile_number  circle_id  loc_og_t2o_mou  std_og_t2o_mou  loc_ic_t2o_mou  \\\n",
       "0     7000842753        109             0.0             0.0             0.0   \n",
       "1     7001865778        109             0.0             0.0             0.0   \n",
       "2     7001625959        109             0.0             0.0             0.0   \n",
       "3     7001204172        109             0.0             0.0             0.0   \n",
       "4     7000142493        109             0.0             0.0             0.0   \n",
       "\n",
       "  last_date_of_month_6 last_date_of_month_7 last_date_of_month_8  \\\n",
       "0            6/30/2014            7/31/2014            8/31/2014   \n",
       "1            6/30/2014            7/31/2014            8/31/2014   \n",
       "2            6/30/2014            7/31/2014            8/31/2014   \n",
       "3            6/30/2014            7/31/2014            8/31/2014   \n",
       "4            6/30/2014            7/31/2014            8/31/2014   \n",
       "\n",
       "  last_date_of_month_9   arpu_6  ...  sachet_3g_9  fb_user_6  fb_user_7  \\\n",
       "0            9/30/2014  197.385  ...            0        1.0        1.0   \n",
       "1            9/30/2014   34.047  ...            0        NaN        1.0   \n",
       "2            9/30/2014  167.690  ...            0        NaN        NaN   \n",
       "3            9/30/2014  221.338  ...            0        NaN        NaN   \n",
       "4            9/30/2014  261.636  ...            0        0.0        NaN   \n",
       "\n",
       "   fb_user_8  fb_user_9   aon  aug_vbc_3g  jul_vbc_3g  jun_vbc_3g  sep_vbc_3g  \n",
       "0        1.0        NaN   968        30.4         0.0      101.20        3.58  \n",
       "1        1.0        NaN  1006         0.0         0.0        0.00        0.00  \n",
       "2        NaN        1.0  1103         0.0         0.0        4.17        0.00  \n",
       "3        NaN        NaN  2491         0.0         0.0        0.00        0.00  \n",
       "4        NaN        NaN  1526         0.0         0.0        0.00        0.00  \n",
       "\n",
       "[5 rows x 226 columns]"
      ]
     },
     "execution_count": 5,
     "metadata": {},
     "output_type": "execute_result"
    }
   ],
   "source": [
    "base_data.head()"
   ]
  },
  {
   "cell_type": "code",
   "execution_count": 6,
   "id": "39c0214d",
   "metadata": {},
   "outputs": [
    {
     "data": {
      "text/plain": [
       "99999"
      ]
     },
     "execution_count": 6,
     "metadata": {},
     "output_type": "execute_result"
    }
   ],
   "source": [
    "#Check if the mobile_number cloumn is the identifier\n",
    "len(base_data.mobile_number.unique())"
   ]
  },
  {
   "cell_type": "code",
   "execution_count": 7,
   "id": "aa8bdb76",
   "metadata": {},
   "outputs": [
    {
     "name": "stdout",
     "output_type": "stream",
     "text": [
      "Index(['mobile_number', 'circle_id', 'loc_og_t2o_mou', 'std_og_t2o_mou',\n",
      "       'loc_ic_t2o_mou', 'last_date_of_month_6', 'last_date_of_month_7',\n",
      "       'last_date_of_month_8', 'last_date_of_month_9', 'arpu_6',\n",
      "       ...\n",
      "       'sachet_3g_9', 'fb_user_6', 'fb_user_7', 'fb_user_8', 'fb_user_9',\n",
      "       'aon', 'aug_vbc_3g', 'jul_vbc_3g', 'jun_vbc_3g', 'sep_vbc_3g'],\n",
      "      dtype='object', length=226)\n"
     ]
    }
   ],
   "source": [
    "print(base_data.columns)"
   ]
  },
  {
   "cell_type": "markdown",
   "id": "3ae76f58",
   "metadata": {},
   "source": [
    "## 2.0 Data Preparation"
   ]
  },
  {
   "cell_type": "code",
   "execution_count": 8,
   "id": "531c1169",
   "metadata": {},
   "outputs": [
    {
     "data": {
      "text/html": [
       "<div>\n",
       "<style scoped>\n",
       "    .dataframe tbody tr th:only-of-type {\n",
       "        vertical-align: middle;\n",
       "    }\n",
       "\n",
       "    .dataframe tbody tr th {\n",
       "        vertical-align: top;\n",
       "    }\n",
       "\n",
       "    .dataframe thead th {\n",
       "        text-align: right;\n",
       "    }\n",
       "</style>\n",
       "<table border=\"1\" class=\"dataframe\">\n",
       "  <thead>\n",
       "    <tr style=\"text-align: right;\">\n",
       "      <th></th>\n",
       "      <th>last_date_of_month_6</th>\n",
       "      <th>last_date_of_month_7</th>\n",
       "      <th>last_date_of_month_8</th>\n",
       "      <th>last_date_of_month_9</th>\n",
       "      <th>date_of_last_rech_6</th>\n",
       "      <th>date_of_last_rech_7</th>\n",
       "      <th>date_of_last_rech_8</th>\n",
       "      <th>date_of_last_rech_9</th>\n",
       "      <th>date_of_last_rech_data_6</th>\n",
       "      <th>date_of_last_rech_data_7</th>\n",
       "      <th>date_of_last_rech_data_8</th>\n",
       "      <th>date_of_last_rech_data_9</th>\n",
       "    </tr>\n",
       "  </thead>\n",
       "  <tbody>\n",
       "    <tr>\n",
       "      <th>0</th>\n",
       "      <td>6/30/2014</td>\n",
       "      <td>7/31/2014</td>\n",
       "      <td>8/31/2014</td>\n",
       "      <td>9/30/2014</td>\n",
       "      <td>6/21/2014</td>\n",
       "      <td>7/16/2014</td>\n",
       "      <td>8/8/2014</td>\n",
       "      <td>9/28/2014</td>\n",
       "      <td>6/21/2014</td>\n",
       "      <td>7/16/2014</td>\n",
       "      <td>8/8/2014</td>\n",
       "      <td>NaN</td>\n",
       "    </tr>\n",
       "    <tr>\n",
       "      <th>1</th>\n",
       "      <td>6/30/2014</td>\n",
       "      <td>7/31/2014</td>\n",
       "      <td>8/31/2014</td>\n",
       "      <td>9/30/2014</td>\n",
       "      <td>6/29/2014</td>\n",
       "      <td>7/31/2014</td>\n",
       "      <td>8/28/2014</td>\n",
       "      <td>9/30/2014</td>\n",
       "      <td>NaN</td>\n",
       "      <td>7/25/2014</td>\n",
       "      <td>8/10/2014</td>\n",
       "      <td>NaN</td>\n",
       "    </tr>\n",
       "    <tr>\n",
       "      <th>2</th>\n",
       "      <td>6/30/2014</td>\n",
       "      <td>7/31/2014</td>\n",
       "      <td>8/31/2014</td>\n",
       "      <td>9/30/2014</td>\n",
       "      <td>6/17/2014</td>\n",
       "      <td>7/24/2014</td>\n",
       "      <td>8/14/2014</td>\n",
       "      <td>9/29/2014</td>\n",
       "      <td>NaN</td>\n",
       "      <td>NaN</td>\n",
       "      <td>NaN</td>\n",
       "      <td>9/17/2014</td>\n",
       "    </tr>\n",
       "    <tr>\n",
       "      <th>3</th>\n",
       "      <td>6/30/2014</td>\n",
       "      <td>7/31/2014</td>\n",
       "      <td>8/31/2014</td>\n",
       "      <td>9/30/2014</td>\n",
       "      <td>6/28/2014</td>\n",
       "      <td>7/31/2014</td>\n",
       "      <td>8/31/2014</td>\n",
       "      <td>9/30/2014</td>\n",
       "      <td>NaN</td>\n",
       "      <td>NaN</td>\n",
       "      <td>NaN</td>\n",
       "      <td>NaN</td>\n",
       "    </tr>\n",
       "    <tr>\n",
       "      <th>4</th>\n",
       "      <td>6/30/2014</td>\n",
       "      <td>7/31/2014</td>\n",
       "      <td>8/31/2014</td>\n",
       "      <td>9/30/2014</td>\n",
       "      <td>6/26/2014</td>\n",
       "      <td>7/28/2014</td>\n",
       "      <td>8/9/2014</td>\n",
       "      <td>9/28/2014</td>\n",
       "      <td>6/4/2014</td>\n",
       "      <td>NaN</td>\n",
       "      <td>NaN</td>\n",
       "      <td>NaN</td>\n",
       "    </tr>\n",
       "    <tr>\n",
       "      <th>...</th>\n",
       "      <td>...</td>\n",
       "      <td>...</td>\n",
       "      <td>...</td>\n",
       "      <td>...</td>\n",
       "      <td>...</td>\n",
       "      <td>...</td>\n",
       "      <td>...</td>\n",
       "      <td>...</td>\n",
       "      <td>...</td>\n",
       "      <td>...</td>\n",
       "      <td>...</td>\n",
       "      <td>...</td>\n",
       "    </tr>\n",
       "    <tr>\n",
       "      <th>99994</th>\n",
       "      <td>6/30/2014</td>\n",
       "      <td>7/31/2014</td>\n",
       "      <td>8/31/2014</td>\n",
       "      <td>9/30/2014</td>\n",
       "      <td>6/3/2014</td>\n",
       "      <td>7/20/2014</td>\n",
       "      <td>8/26/2014</td>\n",
       "      <td>9/25/2014</td>\n",
       "      <td>NaN</td>\n",
       "      <td>NaN</td>\n",
       "      <td>NaN</td>\n",
       "      <td>NaN</td>\n",
       "    </tr>\n",
       "    <tr>\n",
       "      <th>99995</th>\n",
       "      <td>6/30/2014</td>\n",
       "      <td>7/31/2014</td>\n",
       "      <td>8/31/2014</td>\n",
       "      <td>9/30/2014</td>\n",
       "      <td>6/17/2014</td>\n",
       "      <td>7/17/2014</td>\n",
       "      <td>8/24/2014</td>\n",
       "      <td>9/26/2014</td>\n",
       "      <td>NaN</td>\n",
       "      <td>NaN</td>\n",
       "      <td>NaN</td>\n",
       "      <td>NaN</td>\n",
       "    </tr>\n",
       "    <tr>\n",
       "      <th>99996</th>\n",
       "      <td>6/30/2014</td>\n",
       "      <td>7/31/2014</td>\n",
       "      <td>8/31/2014</td>\n",
       "      <td>9/30/2014</td>\n",
       "      <td>6/13/2014</td>\n",
       "      <td>7/26/2014</td>\n",
       "      <td>NaN</td>\n",
       "      <td>9/2/2014</td>\n",
       "      <td>6/13/2014</td>\n",
       "      <td>NaN</td>\n",
       "      <td>NaN</td>\n",
       "      <td>NaN</td>\n",
       "    </tr>\n",
       "    <tr>\n",
       "      <th>99997</th>\n",
       "      <td>6/30/2014</td>\n",
       "      <td>7/31/2014</td>\n",
       "      <td>8/31/2014</td>\n",
       "      <td>9/30/2014</td>\n",
       "      <td>6/17/2014</td>\n",
       "      <td>7/19/2014</td>\n",
       "      <td>8/20/2014</td>\n",
       "      <td>9/17/2014</td>\n",
       "      <td>6/17/2014</td>\n",
       "      <td>7/19/2014</td>\n",
       "      <td>8/20/2014</td>\n",
       "      <td>9/17/2014</td>\n",
       "    </tr>\n",
       "    <tr>\n",
       "      <th>99998</th>\n",
       "      <td>6/30/2014</td>\n",
       "      <td>7/31/2014</td>\n",
       "      <td>8/31/2014</td>\n",
       "      <td>9/30/2014</td>\n",
       "      <td>6/16/2014</td>\n",
       "      <td>NaN</td>\n",
       "      <td>NaN</td>\n",
       "      <td>NaN</td>\n",
       "      <td>6/11/2014</td>\n",
       "      <td>NaN</td>\n",
       "      <td>NaN</td>\n",
       "      <td>NaN</td>\n",
       "    </tr>\n",
       "  </tbody>\n",
       "</table>\n",
       "<p>99999 rows × 12 columns</p>\n",
       "</div>"
      ],
      "text/plain": [
       "      last_date_of_month_6 last_date_of_month_7 last_date_of_month_8  \\\n",
       "0                6/30/2014            7/31/2014            8/31/2014   \n",
       "1                6/30/2014            7/31/2014            8/31/2014   \n",
       "2                6/30/2014            7/31/2014            8/31/2014   \n",
       "3                6/30/2014            7/31/2014            8/31/2014   \n",
       "4                6/30/2014            7/31/2014            8/31/2014   \n",
       "...                    ...                  ...                  ...   \n",
       "99994            6/30/2014            7/31/2014            8/31/2014   \n",
       "99995            6/30/2014            7/31/2014            8/31/2014   \n",
       "99996            6/30/2014            7/31/2014            8/31/2014   \n",
       "99997            6/30/2014            7/31/2014            8/31/2014   \n",
       "99998            6/30/2014            7/31/2014            8/31/2014   \n",
       "\n",
       "      last_date_of_month_9 date_of_last_rech_6 date_of_last_rech_7  \\\n",
       "0                9/30/2014           6/21/2014           7/16/2014   \n",
       "1                9/30/2014           6/29/2014           7/31/2014   \n",
       "2                9/30/2014           6/17/2014           7/24/2014   \n",
       "3                9/30/2014           6/28/2014           7/31/2014   \n",
       "4                9/30/2014           6/26/2014           7/28/2014   \n",
       "...                    ...                 ...                 ...   \n",
       "99994            9/30/2014            6/3/2014           7/20/2014   \n",
       "99995            9/30/2014           6/17/2014           7/17/2014   \n",
       "99996            9/30/2014           6/13/2014           7/26/2014   \n",
       "99997            9/30/2014           6/17/2014           7/19/2014   \n",
       "99998            9/30/2014           6/16/2014                 NaN   \n",
       "\n",
       "      date_of_last_rech_8 date_of_last_rech_9 date_of_last_rech_data_6  \\\n",
       "0                8/8/2014           9/28/2014                6/21/2014   \n",
       "1               8/28/2014           9/30/2014                      NaN   \n",
       "2               8/14/2014           9/29/2014                      NaN   \n",
       "3               8/31/2014           9/30/2014                      NaN   \n",
       "4                8/9/2014           9/28/2014                 6/4/2014   \n",
       "...                   ...                 ...                      ...   \n",
       "99994           8/26/2014           9/25/2014                      NaN   \n",
       "99995           8/24/2014           9/26/2014                      NaN   \n",
       "99996                 NaN            9/2/2014                6/13/2014   \n",
       "99997           8/20/2014           9/17/2014                6/17/2014   \n",
       "99998                 NaN                 NaN                6/11/2014   \n",
       "\n",
       "      date_of_last_rech_data_7 date_of_last_rech_data_8  \\\n",
       "0                    7/16/2014                 8/8/2014   \n",
       "1                    7/25/2014                8/10/2014   \n",
       "2                          NaN                      NaN   \n",
       "3                          NaN                      NaN   \n",
       "4                          NaN                      NaN   \n",
       "...                        ...                      ...   \n",
       "99994                      NaN                      NaN   \n",
       "99995                      NaN                      NaN   \n",
       "99996                      NaN                      NaN   \n",
       "99997                7/19/2014                8/20/2014   \n",
       "99998                      NaN                      NaN   \n",
       "\n",
       "      date_of_last_rech_data_9  \n",
       "0                          NaN  \n",
       "1                          NaN  \n",
       "2                    9/17/2014  \n",
       "3                          NaN  \n",
       "4                          NaN  \n",
       "...                        ...  \n",
       "99994                      NaN  \n",
       "99995                      NaN  \n",
       "99996                      NaN  \n",
       "99997                9/17/2014  \n",
       "99998                      NaN  \n",
       "\n",
       "[99999 rows x 12 columns]"
      ]
     },
     "execution_count": 8,
     "metadata": {},
     "output_type": "execute_result"
    }
   ],
   "source": [
    "#Lets check how many columns we have with dtype = object\n",
    "base_data.select_dtypes(include=object)"
   ]
  },
  {
   "cell_type": "code",
   "execution_count": 9,
   "id": "59c02e6f",
   "metadata": {},
   "outputs": [
    {
     "data": {
      "text/html": [
       "<div>\n",
       "<style scoped>\n",
       "    .dataframe tbody tr th:only-of-type {\n",
       "        vertical-align: middle;\n",
       "    }\n",
       "\n",
       "    .dataframe tbody tr th {\n",
       "        vertical-align: top;\n",
       "    }\n",
       "\n",
       "    .dataframe thead th {\n",
       "        text-align: right;\n",
       "    }\n",
       "</style>\n",
       "<table border=\"1\" class=\"dataframe\">\n",
       "  <thead>\n",
       "    <tr style=\"text-align: right;\">\n",
       "      <th></th>\n",
       "      <th>mobile_number</th>\n",
       "      <th>circle_id</th>\n",
       "      <th>loc_og_t2o_mou</th>\n",
       "      <th>std_og_t2o_mou</th>\n",
       "      <th>loc_ic_t2o_mou</th>\n",
       "      <th>arpu_6</th>\n",
       "      <th>arpu_7</th>\n",
       "      <th>arpu_8</th>\n",
       "      <th>arpu_9</th>\n",
       "      <th>onnet_mou_6</th>\n",
       "      <th>...</th>\n",
       "      <th>sachet_3g_9</th>\n",
       "      <th>fb_user_6</th>\n",
       "      <th>fb_user_7</th>\n",
       "      <th>fb_user_8</th>\n",
       "      <th>fb_user_9</th>\n",
       "      <th>aon</th>\n",
       "      <th>aug_vbc_3g</th>\n",
       "      <th>jul_vbc_3g</th>\n",
       "      <th>jun_vbc_3g</th>\n",
       "      <th>sep_vbc_3g</th>\n",
       "    </tr>\n",
       "  </thead>\n",
       "  <tbody>\n",
       "    <tr>\n",
       "      <th>0</th>\n",
       "      <td>7000842753</td>\n",
       "      <td>109</td>\n",
       "      <td>0.0</td>\n",
       "      <td>0.0</td>\n",
       "      <td>0.0</td>\n",
       "      <td>197.385</td>\n",
       "      <td>214.816</td>\n",
       "      <td>213.803</td>\n",
       "      <td>21.100</td>\n",
       "      <td>NaN</td>\n",
       "      <td>...</td>\n",
       "      <td>0</td>\n",
       "      <td>1.0</td>\n",
       "      <td>1.0</td>\n",
       "      <td>1.0</td>\n",
       "      <td>NaN</td>\n",
       "      <td>968</td>\n",
       "      <td>30.40</td>\n",
       "      <td>0.00</td>\n",
       "      <td>101.20</td>\n",
       "      <td>3.58</td>\n",
       "    </tr>\n",
       "    <tr>\n",
       "      <th>1</th>\n",
       "      <td>7001865778</td>\n",
       "      <td>109</td>\n",
       "      <td>0.0</td>\n",
       "      <td>0.0</td>\n",
       "      <td>0.0</td>\n",
       "      <td>34.047</td>\n",
       "      <td>355.074</td>\n",
       "      <td>268.321</td>\n",
       "      <td>86.285</td>\n",
       "      <td>24.11</td>\n",
       "      <td>...</td>\n",
       "      <td>0</td>\n",
       "      <td>NaN</td>\n",
       "      <td>1.0</td>\n",
       "      <td>1.0</td>\n",
       "      <td>NaN</td>\n",
       "      <td>1006</td>\n",
       "      <td>0.00</td>\n",
       "      <td>0.00</td>\n",
       "      <td>0.00</td>\n",
       "      <td>0.00</td>\n",
       "    </tr>\n",
       "    <tr>\n",
       "      <th>2</th>\n",
       "      <td>7001625959</td>\n",
       "      <td>109</td>\n",
       "      <td>0.0</td>\n",
       "      <td>0.0</td>\n",
       "      <td>0.0</td>\n",
       "      <td>167.690</td>\n",
       "      <td>189.058</td>\n",
       "      <td>210.226</td>\n",
       "      <td>290.714</td>\n",
       "      <td>11.54</td>\n",
       "      <td>...</td>\n",
       "      <td>0</td>\n",
       "      <td>NaN</td>\n",
       "      <td>NaN</td>\n",
       "      <td>NaN</td>\n",
       "      <td>1.0</td>\n",
       "      <td>1103</td>\n",
       "      <td>0.00</td>\n",
       "      <td>0.00</td>\n",
       "      <td>4.17</td>\n",
       "      <td>0.00</td>\n",
       "    </tr>\n",
       "    <tr>\n",
       "      <th>3</th>\n",
       "      <td>7001204172</td>\n",
       "      <td>109</td>\n",
       "      <td>0.0</td>\n",
       "      <td>0.0</td>\n",
       "      <td>0.0</td>\n",
       "      <td>221.338</td>\n",
       "      <td>251.102</td>\n",
       "      <td>508.054</td>\n",
       "      <td>389.500</td>\n",
       "      <td>99.91</td>\n",
       "      <td>...</td>\n",
       "      <td>0</td>\n",
       "      <td>NaN</td>\n",
       "      <td>NaN</td>\n",
       "      <td>NaN</td>\n",
       "      <td>NaN</td>\n",
       "      <td>2491</td>\n",
       "      <td>0.00</td>\n",
       "      <td>0.00</td>\n",
       "      <td>0.00</td>\n",
       "      <td>0.00</td>\n",
       "    </tr>\n",
       "    <tr>\n",
       "      <th>4</th>\n",
       "      <td>7000142493</td>\n",
       "      <td>109</td>\n",
       "      <td>0.0</td>\n",
       "      <td>0.0</td>\n",
       "      <td>0.0</td>\n",
       "      <td>261.636</td>\n",
       "      <td>309.876</td>\n",
       "      <td>238.174</td>\n",
       "      <td>163.426</td>\n",
       "      <td>50.31</td>\n",
       "      <td>...</td>\n",
       "      <td>0</td>\n",
       "      <td>0.0</td>\n",
       "      <td>NaN</td>\n",
       "      <td>NaN</td>\n",
       "      <td>NaN</td>\n",
       "      <td>1526</td>\n",
       "      <td>0.00</td>\n",
       "      <td>0.00</td>\n",
       "      <td>0.00</td>\n",
       "      <td>0.00</td>\n",
       "    </tr>\n",
       "    <tr>\n",
       "      <th>...</th>\n",
       "      <td>...</td>\n",
       "      <td>...</td>\n",
       "      <td>...</td>\n",
       "      <td>...</td>\n",
       "      <td>...</td>\n",
       "      <td>...</td>\n",
       "      <td>...</td>\n",
       "      <td>...</td>\n",
       "      <td>...</td>\n",
       "      <td>...</td>\n",
       "      <td>...</td>\n",
       "      <td>...</td>\n",
       "      <td>...</td>\n",
       "      <td>...</td>\n",
       "      <td>...</td>\n",
       "      <td>...</td>\n",
       "      <td>...</td>\n",
       "      <td>...</td>\n",
       "      <td>...</td>\n",
       "      <td>...</td>\n",
       "      <td>...</td>\n",
       "    </tr>\n",
       "    <tr>\n",
       "      <th>99994</th>\n",
       "      <td>7001548952</td>\n",
       "      <td>109</td>\n",
       "      <td>0.0</td>\n",
       "      <td>0.0</td>\n",
       "      <td>0.0</td>\n",
       "      <td>18.471</td>\n",
       "      <td>69.161</td>\n",
       "      <td>57.530</td>\n",
       "      <td>29.950</td>\n",
       "      <td>5.40</td>\n",
       "      <td>...</td>\n",
       "      <td>0</td>\n",
       "      <td>NaN</td>\n",
       "      <td>NaN</td>\n",
       "      <td>NaN</td>\n",
       "      <td>NaN</td>\n",
       "      <td>3199</td>\n",
       "      <td>0.00</td>\n",
       "      <td>0.00</td>\n",
       "      <td>0.00</td>\n",
       "      <td>0.00</td>\n",
       "    </tr>\n",
       "    <tr>\n",
       "      <th>99995</th>\n",
       "      <td>7000607688</td>\n",
       "      <td>109</td>\n",
       "      <td>0.0</td>\n",
       "      <td>0.0</td>\n",
       "      <td>0.0</td>\n",
       "      <td>112.201</td>\n",
       "      <td>77.811</td>\n",
       "      <td>79.081</td>\n",
       "      <td>140.835</td>\n",
       "      <td>29.26</td>\n",
       "      <td>...</td>\n",
       "      <td>0</td>\n",
       "      <td>NaN</td>\n",
       "      <td>NaN</td>\n",
       "      <td>NaN</td>\n",
       "      <td>NaN</td>\n",
       "      <td>2052</td>\n",
       "      <td>0.00</td>\n",
       "      <td>0.00</td>\n",
       "      <td>0.00</td>\n",
       "      <td>0.00</td>\n",
       "    </tr>\n",
       "    <tr>\n",
       "      <th>99996</th>\n",
       "      <td>7000087541</td>\n",
       "      <td>109</td>\n",
       "      <td>0.0</td>\n",
       "      <td>0.0</td>\n",
       "      <td>0.0</td>\n",
       "      <td>229.187</td>\n",
       "      <td>0.000</td>\n",
       "      <td>0.000</td>\n",
       "      <td>0.000</td>\n",
       "      <td>1.11</td>\n",
       "      <td>...</td>\n",
       "      <td>0</td>\n",
       "      <td>1.0</td>\n",
       "      <td>NaN</td>\n",
       "      <td>NaN</td>\n",
       "      <td>NaN</td>\n",
       "      <td>185</td>\n",
       "      <td>0.00</td>\n",
       "      <td>0.00</td>\n",
       "      <td>0.00</td>\n",
       "      <td>0.00</td>\n",
       "    </tr>\n",
       "    <tr>\n",
       "      <th>99997</th>\n",
       "      <td>7000498689</td>\n",
       "      <td>109</td>\n",
       "      <td>0.0</td>\n",
       "      <td>0.0</td>\n",
       "      <td>0.0</td>\n",
       "      <td>322.991</td>\n",
       "      <td>303.386</td>\n",
       "      <td>606.817</td>\n",
       "      <td>731.010</td>\n",
       "      <td>0.00</td>\n",
       "      <td>...</td>\n",
       "      <td>0</td>\n",
       "      <td>1.0</td>\n",
       "      <td>1.0</td>\n",
       "      <td>1.0</td>\n",
       "      <td>1.0</td>\n",
       "      <td>478</td>\n",
       "      <td>1445.74</td>\n",
       "      <td>1151.03</td>\n",
       "      <td>1173.18</td>\n",
       "      <td>0.00</td>\n",
       "    </tr>\n",
       "    <tr>\n",
       "      <th>99998</th>\n",
       "      <td>7001905007</td>\n",
       "      <td>109</td>\n",
       "      <td>0.0</td>\n",
       "      <td>0.0</td>\n",
       "      <td>0.0</td>\n",
       "      <td>687.065</td>\n",
       "      <td>0.000</td>\n",
       "      <td>0.000</td>\n",
       "      <td>0.000</td>\n",
       "      <td>84.34</td>\n",
       "      <td>...</td>\n",
       "      <td>0</td>\n",
       "      <td>1.0</td>\n",
       "      <td>NaN</td>\n",
       "      <td>NaN</td>\n",
       "      <td>NaN</td>\n",
       "      <td>751</td>\n",
       "      <td>0.00</td>\n",
       "      <td>0.00</td>\n",
       "      <td>0.00</td>\n",
       "      <td>0.00</td>\n",
       "    </tr>\n",
       "  </tbody>\n",
       "</table>\n",
       "<p>99999 rows × 214 columns</p>\n",
       "</div>"
      ],
      "text/plain": [
       "       mobile_number  circle_id  loc_og_t2o_mou  std_og_t2o_mou  \\\n",
       "0         7000842753        109             0.0             0.0   \n",
       "1         7001865778        109             0.0             0.0   \n",
       "2         7001625959        109             0.0             0.0   \n",
       "3         7001204172        109             0.0             0.0   \n",
       "4         7000142493        109             0.0             0.0   \n",
       "...              ...        ...             ...             ...   \n",
       "99994     7001548952        109             0.0             0.0   \n",
       "99995     7000607688        109             0.0             0.0   \n",
       "99996     7000087541        109             0.0             0.0   \n",
       "99997     7000498689        109             0.0             0.0   \n",
       "99998     7001905007        109             0.0             0.0   \n",
       "\n",
       "       loc_ic_t2o_mou   arpu_6   arpu_7   arpu_8   arpu_9  onnet_mou_6  ...  \\\n",
       "0                 0.0  197.385  214.816  213.803   21.100          NaN  ...   \n",
       "1                 0.0   34.047  355.074  268.321   86.285        24.11  ...   \n",
       "2                 0.0  167.690  189.058  210.226  290.714        11.54  ...   \n",
       "3                 0.0  221.338  251.102  508.054  389.500        99.91  ...   \n",
       "4                 0.0  261.636  309.876  238.174  163.426        50.31  ...   \n",
       "...               ...      ...      ...      ...      ...          ...  ...   \n",
       "99994             0.0   18.471   69.161   57.530   29.950         5.40  ...   \n",
       "99995             0.0  112.201   77.811   79.081  140.835        29.26  ...   \n",
       "99996             0.0  229.187    0.000    0.000    0.000         1.11  ...   \n",
       "99997             0.0  322.991  303.386  606.817  731.010         0.00  ...   \n",
       "99998             0.0  687.065    0.000    0.000    0.000        84.34  ...   \n",
       "\n",
       "       sachet_3g_9  fb_user_6  fb_user_7  fb_user_8  fb_user_9   aon  \\\n",
       "0                0        1.0        1.0        1.0        NaN   968   \n",
       "1                0        NaN        1.0        1.0        NaN  1006   \n",
       "2                0        NaN        NaN        NaN        1.0  1103   \n",
       "3                0        NaN        NaN        NaN        NaN  2491   \n",
       "4                0        0.0        NaN        NaN        NaN  1526   \n",
       "...            ...        ...        ...        ...        ...   ...   \n",
       "99994            0        NaN        NaN        NaN        NaN  3199   \n",
       "99995            0        NaN        NaN        NaN        NaN  2052   \n",
       "99996            0        1.0        NaN        NaN        NaN   185   \n",
       "99997            0        1.0        1.0        1.0        1.0   478   \n",
       "99998            0        1.0        NaN        NaN        NaN   751   \n",
       "\n",
       "       aug_vbc_3g  jul_vbc_3g  jun_vbc_3g  sep_vbc_3g  \n",
       "0           30.40        0.00      101.20        3.58  \n",
       "1            0.00        0.00        0.00        0.00  \n",
       "2            0.00        0.00        4.17        0.00  \n",
       "3            0.00        0.00        0.00        0.00  \n",
       "4            0.00        0.00        0.00        0.00  \n",
       "...           ...         ...         ...         ...  \n",
       "99994        0.00        0.00        0.00        0.00  \n",
       "99995        0.00        0.00        0.00        0.00  \n",
       "99996        0.00        0.00        0.00        0.00  \n",
       "99997     1445.74     1151.03     1173.18        0.00  \n",
       "99998        0.00        0.00        0.00        0.00  \n",
       "\n",
       "[99999 rows x 214 columns]"
      ]
     },
     "execution_count": 9,
     "metadata": {},
     "output_type": "execute_result"
    }
   ],
   "source": [
    "# We have 12 object type columns. All of them are related to dates\n",
    "# Now, lets check how many numeric columns we have\n",
    "base_data.select_dtypes(include=np.number)"
   ]
  },
  {
   "cell_type": "code",
   "execution_count": 10,
   "id": "abad9c3a",
   "metadata": {},
   "outputs": [],
   "source": [
    "#Rest all are numeric columns. All numeric columns are about quantity and price"
   ]
  },
  {
   "cell_type": "code",
   "execution_count": 11,
   "id": "2fe34b08",
   "metadata": {},
   "outputs": [
    {
     "data": {
      "text/plain": [
       "mobile_number        0\n",
       "circle_id            0\n",
       "loc_og_t2o_mou    1018\n",
       "std_og_t2o_mou    1018\n",
       "loc_ic_t2o_mou    1018\n",
       "                  ... \n",
       "aon                  0\n",
       "aug_vbc_3g           0\n",
       "jul_vbc_3g           0\n",
       "jun_vbc_3g           0\n",
       "sep_vbc_3g           0\n",
       "Length: 226, dtype: int64"
      ]
     },
     "execution_count": 11,
     "metadata": {},
     "output_type": "execute_result"
    }
   ],
   "source": [
    "#Lets check the nulls in this dataset\n",
    "base_data.isnull().sum()"
   ]
  },
  {
   "cell_type": "code",
   "execution_count": 12,
   "id": "099d0772",
   "metadata": {},
   "outputs": [
    {
     "name": "stdout",
     "output_type": "stream",
     "text": [
      "<class 'pandas.core.frame.DataFrame'>\n",
      "RangeIndex: 99999 entries, 0 to 99998\n",
      "Columns: 226 entries, mobile_number to sep_vbc_3g\n",
      "dtypes: float64(179), int64(35), object(12)\n",
      "memory usage: 172.4+ MB\n"
     ]
    }
   ],
   "source": [
    "base_data.info()"
   ]
  },
  {
   "cell_type": "code",
   "execution_count": 13,
   "id": "738b51dc",
   "metadata": {},
   "outputs": [],
   "source": [
    "pd.set_option(\"max_rows\", None)"
   ]
  },
  {
   "cell_type": "code",
   "execution_count": 14,
   "id": "a098e846",
   "metadata": {},
   "outputs": [
    {
     "name": "stdout",
     "output_type": "stream",
     "text": [
      "mobile_number          0.00\n",
      "circle_id              0.00\n",
      "loc_og_t2o_mou         1.02\n",
      "std_og_t2o_mou         1.02\n",
      "loc_ic_t2o_mou         1.02\n",
      "arpu_6                 0.00\n",
      "arpu_7                 0.00\n",
      "arpu_8                 0.00\n",
      "arpu_9                 0.00\n",
      "onnet_mou_6            3.94\n",
      "onnet_mou_7            3.86\n",
      "onnet_mou_8            5.38\n",
      "onnet_mou_9            7.75\n",
      "offnet_mou_6           3.94\n",
      "offnet_mou_7           3.86\n",
      "offnet_mou_8           5.38\n",
      "offnet_mou_9           7.75\n",
      "roam_ic_mou_6          3.94\n",
      "roam_ic_mou_7          3.86\n",
      "roam_ic_mou_8          5.38\n",
      "roam_ic_mou_9          7.75\n",
      "roam_og_mou_6          3.94\n",
      "roam_og_mou_7          3.86\n",
      "roam_og_mou_8          5.38\n",
      "roam_og_mou_9          7.75\n",
      "loc_og_t2t_mou_6       3.94\n",
      "loc_og_t2t_mou_7       3.86\n",
      "loc_og_t2t_mou_8       5.38\n",
      "loc_og_t2t_mou_9       7.75\n",
      "loc_og_t2m_mou_6       3.94\n",
      "loc_og_t2m_mou_7       3.86\n",
      "loc_og_t2m_mou_8       5.38\n",
      "loc_og_t2m_mou_9       7.75\n",
      "loc_og_t2f_mou_6       3.94\n",
      "loc_og_t2f_mou_7       3.86\n",
      "loc_og_t2f_mou_8       5.38\n",
      "loc_og_t2f_mou_9       7.75\n",
      "loc_og_t2c_mou_6       3.94\n",
      "loc_og_t2c_mou_7       3.86\n",
      "loc_og_t2c_mou_8       5.38\n",
      "loc_og_t2c_mou_9       7.75\n",
      "loc_og_mou_6           3.94\n",
      "loc_og_mou_7           3.86\n",
      "loc_og_mou_8           5.38\n",
      "loc_og_mou_9           7.75\n",
      "std_og_t2t_mou_6       3.94\n",
      "std_og_t2t_mou_7       3.86\n",
      "std_og_t2t_mou_8       5.38\n",
      "std_og_t2t_mou_9       7.75\n",
      "std_og_t2m_mou_6       3.94\n",
      "std_og_t2m_mou_7       3.86\n",
      "std_og_t2m_mou_8       5.38\n",
      "std_og_t2m_mou_9       7.75\n",
      "std_og_t2f_mou_6       3.94\n",
      "std_og_t2f_mou_7       3.86\n",
      "std_og_t2f_mou_8       5.38\n",
      "std_og_t2f_mou_9       7.75\n",
      "std_og_t2c_mou_6       3.94\n",
      "std_og_t2c_mou_7       3.86\n",
      "std_og_t2c_mou_8       5.38\n",
      "std_og_t2c_mou_9       7.75\n",
      "std_og_mou_6           3.94\n",
      "std_og_mou_7           3.86\n",
      "std_og_mou_8           5.38\n",
      "std_og_mou_9           7.75\n",
      "isd_og_mou_6           3.94\n",
      "isd_og_mou_7           3.86\n",
      "isd_og_mou_8           5.38\n",
      "isd_og_mou_9           7.75\n",
      "spl_og_mou_6           3.94\n",
      "spl_og_mou_7           3.86\n",
      "spl_og_mou_8           5.38\n",
      "spl_og_mou_9           7.75\n",
      "og_others_6            3.94\n",
      "og_others_7            3.86\n",
      "og_others_8            5.38\n",
      "og_others_9            7.75\n",
      "total_og_mou_6         0.00\n",
      "total_og_mou_7         0.00\n",
      "total_og_mou_8         0.00\n",
      "total_og_mou_9         0.00\n",
      "loc_ic_t2t_mou_6       3.94\n",
      "loc_ic_t2t_mou_7       3.86\n",
      "loc_ic_t2t_mou_8       5.38\n",
      "loc_ic_t2t_mou_9       7.75\n",
      "loc_ic_t2m_mou_6       3.94\n",
      "loc_ic_t2m_mou_7       3.86\n",
      "loc_ic_t2m_mou_8       5.38\n",
      "loc_ic_t2m_mou_9       7.75\n",
      "loc_ic_t2f_mou_6       3.94\n",
      "loc_ic_t2f_mou_7       3.86\n",
      "loc_ic_t2f_mou_8       5.38\n",
      "loc_ic_t2f_mou_9       7.75\n",
      "loc_ic_mou_6           3.94\n",
      "loc_ic_mou_7           3.86\n",
      "loc_ic_mou_8           5.38\n",
      "loc_ic_mou_9           7.75\n",
      "std_ic_t2t_mou_6       3.94\n",
      "std_ic_t2t_mou_7       3.86\n",
      "std_ic_t2t_mou_8       5.38\n",
      "std_ic_t2t_mou_9       7.75\n",
      "std_ic_t2m_mou_6       3.94\n",
      "std_ic_t2m_mou_7       3.86\n",
      "std_ic_t2m_mou_8       5.38\n",
      "std_ic_t2m_mou_9       7.75\n",
      "std_ic_t2f_mou_6       3.94\n",
      "std_ic_t2f_mou_7       3.86\n",
      "std_ic_t2f_mou_8       5.38\n",
      "std_ic_t2f_mou_9       7.75\n",
      "std_ic_t2o_mou_6       3.94\n",
      "std_ic_t2o_mou_7       3.86\n",
      "std_ic_t2o_mou_8       5.38\n",
      "std_ic_t2o_mou_9       7.75\n",
      "std_ic_mou_6           3.94\n",
      "std_ic_mou_7           3.86\n",
      "std_ic_mou_8           5.38\n",
      "std_ic_mou_9           7.75\n",
      "total_ic_mou_6         0.00\n",
      "total_ic_mou_7         0.00\n",
      "total_ic_mou_8         0.00\n",
      "total_ic_mou_9         0.00\n",
      "spl_ic_mou_6           3.94\n",
      "spl_ic_mou_7           3.86\n",
      "spl_ic_mou_8           5.38\n",
      "spl_ic_mou_9           7.75\n",
      "isd_ic_mou_6           3.94\n",
      "isd_ic_mou_7           3.86\n",
      "isd_ic_mou_8           5.38\n",
      "isd_ic_mou_9           7.75\n",
      "ic_others_6            3.94\n",
      "ic_others_7            3.86\n",
      "ic_others_8            5.38\n",
      "ic_others_9            7.75\n",
      "total_rech_num_6       0.00\n",
      "total_rech_num_7       0.00\n",
      "total_rech_num_8       0.00\n",
      "total_rech_num_9       0.00\n",
      "total_rech_amt_6       0.00\n",
      "total_rech_amt_7       0.00\n",
      "total_rech_amt_8       0.00\n",
      "total_rech_amt_9       0.00\n",
      "max_rech_amt_6         0.00\n",
      "max_rech_amt_7         0.00\n",
      "max_rech_amt_8         0.00\n",
      "max_rech_amt_9         0.00\n",
      "last_day_rch_amt_6     0.00\n",
      "last_day_rch_amt_7     0.00\n",
      "last_day_rch_amt_8     0.00\n",
      "last_day_rch_amt_9     0.00\n",
      "total_rech_data_6     74.85\n",
      "total_rech_data_7     74.43\n",
      "total_rech_data_8     73.66\n",
      "total_rech_data_9     74.08\n",
      "max_rech_data_6       74.85\n",
      "max_rech_data_7       74.43\n",
      "max_rech_data_8       73.66\n",
      "max_rech_data_9       74.08\n",
      "count_rech_2g_6       74.85\n",
      "count_rech_2g_7       74.43\n",
      "count_rech_2g_8       73.66\n",
      "count_rech_2g_9       74.08\n",
      "count_rech_3g_6       74.85\n",
      "count_rech_3g_7       74.43\n",
      "count_rech_3g_8       73.66\n",
      "count_rech_3g_9       74.08\n",
      "av_rech_amt_data_6    74.85\n",
      "av_rech_amt_data_7    74.43\n",
      "av_rech_amt_data_8    73.66\n",
      "av_rech_amt_data_9    74.08\n",
      "vol_2g_mb_6            0.00\n",
      "vol_2g_mb_7            0.00\n",
      "vol_2g_mb_8            0.00\n",
      "vol_2g_mb_9            0.00\n",
      "vol_3g_mb_6            0.00\n",
      "vol_3g_mb_7            0.00\n",
      "vol_3g_mb_8            0.00\n",
      "vol_3g_mb_9            0.00\n",
      "arpu_3g_6             74.85\n",
      "arpu_3g_7             74.43\n",
      "arpu_3g_8             73.66\n",
      "arpu_3g_9             74.08\n",
      "arpu_2g_6             74.85\n",
      "arpu_2g_7             74.43\n",
      "arpu_2g_8             73.66\n",
      "arpu_2g_9             74.08\n",
      "night_pck_user_6      74.85\n",
      "night_pck_user_7      74.43\n",
      "night_pck_user_8      73.66\n",
      "night_pck_user_9      74.08\n",
      "monthly_2g_6           0.00\n",
      "monthly_2g_7           0.00\n",
      "monthly_2g_8           0.00\n",
      "monthly_2g_9           0.00\n",
      "sachet_2g_6            0.00\n",
      "sachet_2g_7            0.00\n",
      "sachet_2g_8            0.00\n",
      "sachet_2g_9            0.00\n",
      "monthly_3g_6           0.00\n",
      "monthly_3g_7           0.00\n",
      "monthly_3g_8           0.00\n",
      "monthly_3g_9           0.00\n",
      "sachet_3g_6            0.00\n",
      "sachet_3g_7            0.00\n",
      "sachet_3g_8            0.00\n",
      "sachet_3g_9            0.00\n",
      "fb_user_6             74.85\n",
      "fb_user_7             74.43\n",
      "fb_user_8             73.66\n",
      "fb_user_9             74.08\n",
      "aon                    0.00\n",
      "aug_vbc_3g             0.00\n",
      "jul_vbc_3g             0.00\n",
      "jun_vbc_3g             0.00\n",
      "sep_vbc_3g             0.00\n",
      "dtype: float64\n",
      "0.00     59\n",
      "3.94     29\n",
      "5.38     29\n",
      "7.75     29\n",
      "3.86     29\n",
      "74.43     9\n",
      "74.08     9\n",
      "73.66     9\n",
      "74.85     9\n",
      "1.02      3\n",
      "dtype: int64\n"
     ]
    }
   ],
   "source": [
    "null_cols = round(100*(base_data.select_dtypes(include=np.number).isnull().sum()/len(base_data.index)), 2)\n",
    "print(null_cols)\n",
    "print(null_cols.value_counts())"
   ]
  },
  {
   "cell_type": "markdown",
   "id": "c472a7d7",
   "metadata": {},
   "source": [
    "### There are certain patterns in the null values.\n",
    "1. Minutes Of Usage columns have less than 10% null values. These can be imputed with zero assuming there was no usage in a particular category\n",
    "2. Several Amount fields have above 70% null values\n",
    "3. For a particular month, the numbeer of null values is constant. Example: Null Percentage for total_rech_data_7, max_rech_data_7, count_rech_2g_7, count_rech_3g_7, av_rech_amt_data_7, arpu_3g_7, arpu_2g_7, night_pck_user_7, fb_user_7 are all *74.43%*\n",
    "4. We can impute zero foor all usage and amount fields to indicate that was no activity in that category"
   ]
  },
  {
   "cell_type": "code",
   "execution_count": 15,
   "id": "16b86779",
   "metadata": {},
   "outputs": [],
   "source": [
    "pd.reset_option(\"max_rows\")"
   ]
  },
  {
   "cell_type": "code",
   "execution_count": 16,
   "id": "20b566dc",
   "metadata": {},
   "outputs": [],
   "source": [
    "base_data[base_data.select_dtypes(include=np.number).columns] = base_data[base_data.select_dtypes(include=np.number).columns].fillna(0)"
   ]
  },
  {
   "cell_type": "code",
   "execution_count": 17,
   "id": "660e0fec",
   "metadata": {},
   "outputs": [],
   "source": [
    "pd.set_option(\"max_rows\", None)"
   ]
  },
  {
   "cell_type": "code",
   "execution_count": 18,
   "id": "931c2e38",
   "metadata": {},
   "outputs": [
    {
     "data": {
      "text/plain": [
       "mobile_number                   0\n",
       "circle_id                       0\n",
       "loc_og_t2o_mou                  0\n",
       "std_og_t2o_mou                  0\n",
       "loc_ic_t2o_mou                  0\n",
       "last_date_of_month_6            0\n",
       "last_date_of_month_7          601\n",
       "last_date_of_month_8         1100\n",
       "last_date_of_month_9         1659\n",
       "arpu_6                          0\n",
       "arpu_7                          0\n",
       "arpu_8                          0\n",
       "arpu_9                          0\n",
       "onnet_mou_6                     0\n",
       "onnet_mou_7                     0\n",
       "onnet_mou_8                     0\n",
       "onnet_mou_9                     0\n",
       "offnet_mou_6                    0\n",
       "offnet_mou_7                    0\n",
       "offnet_mou_8                    0\n",
       "offnet_mou_9                    0\n",
       "roam_ic_mou_6                   0\n",
       "roam_ic_mou_7                   0\n",
       "roam_ic_mou_8                   0\n",
       "roam_ic_mou_9                   0\n",
       "roam_og_mou_6                   0\n",
       "roam_og_mou_7                   0\n",
       "roam_og_mou_8                   0\n",
       "roam_og_mou_9                   0\n",
       "loc_og_t2t_mou_6                0\n",
       "loc_og_t2t_mou_7                0\n",
       "loc_og_t2t_mou_8                0\n",
       "loc_og_t2t_mou_9                0\n",
       "loc_og_t2m_mou_6                0\n",
       "loc_og_t2m_mou_7                0\n",
       "loc_og_t2m_mou_8                0\n",
       "loc_og_t2m_mou_9                0\n",
       "loc_og_t2f_mou_6                0\n",
       "loc_og_t2f_mou_7                0\n",
       "loc_og_t2f_mou_8                0\n",
       "loc_og_t2f_mou_9                0\n",
       "loc_og_t2c_mou_6                0\n",
       "loc_og_t2c_mou_7                0\n",
       "loc_og_t2c_mou_8                0\n",
       "loc_og_t2c_mou_9                0\n",
       "loc_og_mou_6                    0\n",
       "loc_og_mou_7                    0\n",
       "loc_og_mou_8                    0\n",
       "loc_og_mou_9                    0\n",
       "std_og_t2t_mou_6                0\n",
       "std_og_t2t_mou_7                0\n",
       "std_og_t2t_mou_8                0\n",
       "std_og_t2t_mou_9                0\n",
       "std_og_t2m_mou_6                0\n",
       "std_og_t2m_mou_7                0\n",
       "std_og_t2m_mou_8                0\n",
       "std_og_t2m_mou_9                0\n",
       "std_og_t2f_mou_6                0\n",
       "std_og_t2f_mou_7                0\n",
       "std_og_t2f_mou_8                0\n",
       "std_og_t2f_mou_9                0\n",
       "std_og_t2c_mou_6                0\n",
       "std_og_t2c_mou_7                0\n",
       "std_og_t2c_mou_8                0\n",
       "std_og_t2c_mou_9                0\n",
       "std_og_mou_6                    0\n",
       "std_og_mou_7                    0\n",
       "std_og_mou_8                    0\n",
       "std_og_mou_9                    0\n",
       "isd_og_mou_6                    0\n",
       "isd_og_mou_7                    0\n",
       "isd_og_mou_8                    0\n",
       "isd_og_mou_9                    0\n",
       "spl_og_mou_6                    0\n",
       "spl_og_mou_7                    0\n",
       "spl_og_mou_8                    0\n",
       "spl_og_mou_9                    0\n",
       "og_others_6                     0\n",
       "og_others_7                     0\n",
       "og_others_8                     0\n",
       "og_others_9                     0\n",
       "total_og_mou_6                  0\n",
       "total_og_mou_7                  0\n",
       "total_og_mou_8                  0\n",
       "total_og_mou_9                  0\n",
       "loc_ic_t2t_mou_6                0\n",
       "loc_ic_t2t_mou_7                0\n",
       "loc_ic_t2t_mou_8                0\n",
       "loc_ic_t2t_mou_9                0\n",
       "loc_ic_t2m_mou_6                0\n",
       "loc_ic_t2m_mou_7                0\n",
       "loc_ic_t2m_mou_8                0\n",
       "loc_ic_t2m_mou_9                0\n",
       "loc_ic_t2f_mou_6                0\n",
       "loc_ic_t2f_mou_7                0\n",
       "loc_ic_t2f_mou_8                0\n",
       "loc_ic_t2f_mou_9                0\n",
       "loc_ic_mou_6                    0\n",
       "loc_ic_mou_7                    0\n",
       "loc_ic_mou_8                    0\n",
       "loc_ic_mou_9                    0\n",
       "std_ic_t2t_mou_6                0\n",
       "std_ic_t2t_mou_7                0\n",
       "std_ic_t2t_mou_8                0\n",
       "std_ic_t2t_mou_9                0\n",
       "std_ic_t2m_mou_6                0\n",
       "std_ic_t2m_mou_7                0\n",
       "std_ic_t2m_mou_8                0\n",
       "std_ic_t2m_mou_9                0\n",
       "std_ic_t2f_mou_6                0\n",
       "std_ic_t2f_mou_7                0\n",
       "std_ic_t2f_mou_8                0\n",
       "std_ic_t2f_mou_9                0\n",
       "std_ic_t2o_mou_6                0\n",
       "std_ic_t2o_mou_7                0\n",
       "std_ic_t2o_mou_8                0\n",
       "std_ic_t2o_mou_9                0\n",
       "std_ic_mou_6                    0\n",
       "std_ic_mou_7                    0\n",
       "std_ic_mou_8                    0\n",
       "std_ic_mou_9                    0\n",
       "total_ic_mou_6                  0\n",
       "total_ic_mou_7                  0\n",
       "total_ic_mou_8                  0\n",
       "total_ic_mou_9                  0\n",
       "spl_ic_mou_6                    0\n",
       "spl_ic_mou_7                    0\n",
       "spl_ic_mou_8                    0\n",
       "spl_ic_mou_9                    0\n",
       "isd_ic_mou_6                    0\n",
       "isd_ic_mou_7                    0\n",
       "isd_ic_mou_8                    0\n",
       "isd_ic_mou_9                    0\n",
       "ic_others_6                     0\n",
       "ic_others_7                     0\n",
       "ic_others_8                     0\n",
       "ic_others_9                     0\n",
       "total_rech_num_6                0\n",
       "total_rech_num_7                0\n",
       "total_rech_num_8                0\n",
       "total_rech_num_9                0\n",
       "total_rech_amt_6                0\n",
       "total_rech_amt_7                0\n",
       "total_rech_amt_8                0\n",
       "total_rech_amt_9                0\n",
       "max_rech_amt_6                  0\n",
       "max_rech_amt_7                  0\n",
       "max_rech_amt_8                  0\n",
       "max_rech_amt_9                  0\n",
       "date_of_last_rech_6          1607\n",
       "date_of_last_rech_7          1767\n",
       "date_of_last_rech_8          3622\n",
       "date_of_last_rech_9          4760\n",
       "last_day_rch_amt_6              0\n",
       "last_day_rch_amt_7              0\n",
       "last_day_rch_amt_8              0\n",
       "last_day_rch_amt_9              0\n",
       "date_of_last_rech_data_6    74846\n",
       "date_of_last_rech_data_7    74428\n",
       "date_of_last_rech_data_8    73660\n",
       "date_of_last_rech_data_9    74077\n",
       "total_rech_data_6               0\n",
       "total_rech_data_7               0\n",
       "total_rech_data_8               0\n",
       "total_rech_data_9               0\n",
       "max_rech_data_6                 0\n",
       "max_rech_data_7                 0\n",
       "max_rech_data_8                 0\n",
       "max_rech_data_9                 0\n",
       "count_rech_2g_6                 0\n",
       "count_rech_2g_7                 0\n",
       "count_rech_2g_8                 0\n",
       "count_rech_2g_9                 0\n",
       "count_rech_3g_6                 0\n",
       "count_rech_3g_7                 0\n",
       "count_rech_3g_8                 0\n",
       "count_rech_3g_9                 0\n",
       "av_rech_amt_data_6              0\n",
       "av_rech_amt_data_7              0\n",
       "av_rech_amt_data_8              0\n",
       "av_rech_amt_data_9              0\n",
       "vol_2g_mb_6                     0\n",
       "vol_2g_mb_7                     0\n",
       "vol_2g_mb_8                     0\n",
       "vol_2g_mb_9                     0\n",
       "vol_3g_mb_6                     0\n",
       "vol_3g_mb_7                     0\n",
       "vol_3g_mb_8                     0\n",
       "vol_3g_mb_9                     0\n",
       "arpu_3g_6                       0\n",
       "arpu_3g_7                       0\n",
       "arpu_3g_8                       0\n",
       "arpu_3g_9                       0\n",
       "arpu_2g_6                       0\n",
       "arpu_2g_7                       0\n",
       "arpu_2g_8                       0\n",
       "arpu_2g_9                       0\n",
       "night_pck_user_6                0\n",
       "night_pck_user_7                0\n",
       "night_pck_user_8                0\n",
       "night_pck_user_9                0\n",
       "monthly_2g_6                    0\n",
       "monthly_2g_7                    0\n",
       "monthly_2g_8                    0\n",
       "monthly_2g_9                    0\n",
       "sachet_2g_6                     0\n",
       "sachet_2g_7                     0\n",
       "sachet_2g_8                     0\n",
       "sachet_2g_9                     0\n",
       "monthly_3g_6                    0\n",
       "monthly_3g_7                    0\n",
       "monthly_3g_8                    0\n",
       "monthly_3g_9                    0\n",
       "sachet_3g_6                     0\n",
       "sachet_3g_7                     0\n",
       "sachet_3g_8                     0\n",
       "sachet_3g_9                     0\n",
       "fb_user_6                       0\n",
       "fb_user_7                       0\n",
       "fb_user_8                       0\n",
       "fb_user_9                       0\n",
       "aon                             0\n",
       "aug_vbc_3g                      0\n",
       "jul_vbc_3g                      0\n",
       "jun_vbc_3g                      0\n",
       "sep_vbc_3g                      0\n",
       "dtype: int64"
      ]
     },
     "execution_count": 18,
     "metadata": {},
     "output_type": "execute_result"
    }
   ],
   "source": [
    "base_data.isnull().sum()"
   ]
  },
  {
   "cell_type": "code",
   "execution_count": 19,
   "id": "2c576877",
   "metadata": {},
   "outputs": [],
   "source": [
    "pd.reset_option(\"max_rows\")"
   ]
  },
  {
   "cell_type": "markdown",
   "id": "5b924620",
   "metadata": {},
   "source": [
    "#### Now, the columns having null values are all the date columns. \n",
    "#### We can derive some new columns from them. Example : Last Day Of Month - Date Of Last Recharge can give us recency for that month. \n",
    "#### Before deriving new columns\n",
    "1. We will have to fix the data type to DateTime\n",
    "2. We will not impute null values in these columns. But, we shall impute the derived column with a number say 100. This can be considered that the particular recharge did not happen.\n",
    "3. Ofcourse, we will fix the null values in Last Day Of Month columns\n"
   ]
  },
  {
   "cell_type": "code",
   "execution_count": 20,
   "id": "b6d046f8",
   "metadata": {},
   "outputs": [
    {
     "data": {
      "text/plain": [
       "7/31/2014    99398\n",
       "Name: last_date_of_month_7, dtype: int64"
      ]
     },
     "execution_count": 20,
     "metadata": {},
     "output_type": "execute_result"
    }
   ],
   "source": [
    "base_data[\"last_date_of_month_7\"].value_counts()"
   ]
  },
  {
   "cell_type": "code",
   "execution_count": 21,
   "id": "aa9cbd88",
   "metadata": {},
   "outputs": [],
   "source": [
    "base_data[\"last_date_of_month_7\"] = base_data[\"last_date_of_month_7\"].fillna(\"7/31/2014\")"
   ]
  },
  {
   "cell_type": "code",
   "execution_count": 22,
   "id": "300020aa",
   "metadata": {},
   "outputs": [
    {
     "data": {
      "text/plain": [
       "8/31/2014    98899\n",
       "Name: last_date_of_month_8, dtype: int64"
      ]
     },
     "execution_count": 22,
     "metadata": {},
     "output_type": "execute_result"
    }
   ],
   "source": [
    "base_data[\"last_date_of_month_8\"].value_counts()"
   ]
  },
  {
   "cell_type": "code",
   "execution_count": 23,
   "id": "b833e526",
   "metadata": {},
   "outputs": [],
   "source": [
    "base_data[\"last_date_of_month_8\"] = base_data[\"last_date_of_month_8\"].fillna(\"8/31/2014\")"
   ]
  },
  {
   "cell_type": "code",
   "execution_count": 24,
   "id": "e6f6b19f",
   "metadata": {},
   "outputs": [
    {
     "data": {
      "text/plain": [
       "9/30/2014    98340\n",
       "Name: last_date_of_month_9, dtype: int64"
      ]
     },
     "execution_count": 24,
     "metadata": {},
     "output_type": "execute_result"
    }
   ],
   "source": [
    "base_data[\"last_date_of_month_9\"].value_counts()"
   ]
  },
  {
   "cell_type": "code",
   "execution_count": 25,
   "id": "4e02f4cc",
   "metadata": {},
   "outputs": [],
   "source": [
    "base_data[\"last_date_of_month_9\"] = base_data[\"last_date_of_month_9\"].fillna(\"9/30/2014\")"
   ]
  },
  {
   "cell_type": "markdown",
   "id": "8ab23b5f",
   "metadata": {},
   "source": [
    "#### Lets convert these columns to datatime columns"
   ]
  },
  {
   "cell_type": "code",
   "execution_count": 26,
   "id": "770fb60d",
   "metadata": {},
   "outputs": [],
   "source": [
    "base_data[\"last_date_of_month_6\"] = pd.to_datetime(base_data[\"last_date_of_month_6\"], format=\"%m/%d/%Y\")"
   ]
  },
  {
   "cell_type": "code",
   "execution_count": 27,
   "id": "07b13f67",
   "metadata": {},
   "outputs": [],
   "source": [
    "base_data[\"last_date_of_month_7\"] = pd.to_datetime(base_data[\"last_date_of_month_7\"], format=\"%m/%d/%Y\")\n",
    "base_data[\"last_date_of_month_8\"] = pd.to_datetime(base_data[\"last_date_of_month_8\"], format=\"%m/%d/%Y\")\n",
    "base_data[\"last_date_of_month_9\"] = pd.to_datetime(base_data[\"last_date_of_month_9\"], format=\"%m/%d/%Y\")"
   ]
  },
  {
   "cell_type": "code",
   "execution_count": 28,
   "id": "24fd0689",
   "metadata": {},
   "outputs": [
    {
     "name": "stdout",
     "output_type": "stream",
     "text": [
      "<class 'pandas.core.frame.DataFrame'>\n",
      "RangeIndex: 99999 entries, 0 to 99998\n",
      "Columns: 226 entries, mobile_number to sep_vbc_3g\n",
      "dtypes: datetime64[ns](4), float64(179), int64(35), object(8)\n",
      "memory usage: 172.4+ MB\n"
     ]
    }
   ],
   "source": [
    "base_data.info()"
   ]
  },
  {
   "cell_type": "code",
   "execution_count": 29,
   "id": "262b2323",
   "metadata": {},
   "outputs": [
    {
     "data": {
      "text/html": [
       "<div>\n",
       "<style scoped>\n",
       "    .dataframe tbody tr th:only-of-type {\n",
       "        vertical-align: middle;\n",
       "    }\n",
       "\n",
       "    .dataframe tbody tr th {\n",
       "        vertical-align: top;\n",
       "    }\n",
       "\n",
       "    .dataframe thead th {\n",
       "        text-align: right;\n",
       "    }\n",
       "</style>\n",
       "<table border=\"1\" class=\"dataframe\">\n",
       "  <thead>\n",
       "    <tr style=\"text-align: right;\">\n",
       "      <th></th>\n",
       "      <th>mobile_number</th>\n",
       "      <th>circle_id</th>\n",
       "      <th>loc_og_t2o_mou</th>\n",
       "      <th>std_og_t2o_mou</th>\n",
       "      <th>loc_ic_t2o_mou</th>\n",
       "      <th>last_date_of_month_6</th>\n",
       "      <th>last_date_of_month_7</th>\n",
       "      <th>last_date_of_month_8</th>\n",
       "      <th>last_date_of_month_9</th>\n",
       "      <th>arpu_6</th>\n",
       "      <th>...</th>\n",
       "      <th>sachet_3g_9</th>\n",
       "      <th>fb_user_6</th>\n",
       "      <th>fb_user_7</th>\n",
       "      <th>fb_user_8</th>\n",
       "      <th>fb_user_9</th>\n",
       "      <th>aon</th>\n",
       "      <th>aug_vbc_3g</th>\n",
       "      <th>jul_vbc_3g</th>\n",
       "      <th>jun_vbc_3g</th>\n",
       "      <th>sep_vbc_3g</th>\n",
       "    </tr>\n",
       "  </thead>\n",
       "  <tbody>\n",
       "    <tr>\n",
       "      <th>0</th>\n",
       "      <td>7000842753</td>\n",
       "      <td>109</td>\n",
       "      <td>0.0</td>\n",
       "      <td>0.0</td>\n",
       "      <td>0.0</td>\n",
       "      <td>2014-06-30</td>\n",
       "      <td>2014-07-31</td>\n",
       "      <td>2014-08-31</td>\n",
       "      <td>2014-09-30</td>\n",
       "      <td>197.385</td>\n",
       "      <td>...</td>\n",
       "      <td>0</td>\n",
       "      <td>1.0</td>\n",
       "      <td>1.0</td>\n",
       "      <td>1.0</td>\n",
       "      <td>0.0</td>\n",
       "      <td>968</td>\n",
       "      <td>30.4</td>\n",
       "      <td>0.0</td>\n",
       "      <td>101.20</td>\n",
       "      <td>3.58</td>\n",
       "    </tr>\n",
       "    <tr>\n",
       "      <th>1</th>\n",
       "      <td>7001865778</td>\n",
       "      <td>109</td>\n",
       "      <td>0.0</td>\n",
       "      <td>0.0</td>\n",
       "      <td>0.0</td>\n",
       "      <td>2014-06-30</td>\n",
       "      <td>2014-07-31</td>\n",
       "      <td>2014-08-31</td>\n",
       "      <td>2014-09-30</td>\n",
       "      <td>34.047</td>\n",
       "      <td>...</td>\n",
       "      <td>0</td>\n",
       "      <td>0.0</td>\n",
       "      <td>1.0</td>\n",
       "      <td>1.0</td>\n",
       "      <td>0.0</td>\n",
       "      <td>1006</td>\n",
       "      <td>0.0</td>\n",
       "      <td>0.0</td>\n",
       "      <td>0.00</td>\n",
       "      <td>0.00</td>\n",
       "    </tr>\n",
       "    <tr>\n",
       "      <th>2</th>\n",
       "      <td>7001625959</td>\n",
       "      <td>109</td>\n",
       "      <td>0.0</td>\n",
       "      <td>0.0</td>\n",
       "      <td>0.0</td>\n",
       "      <td>2014-06-30</td>\n",
       "      <td>2014-07-31</td>\n",
       "      <td>2014-08-31</td>\n",
       "      <td>2014-09-30</td>\n",
       "      <td>167.690</td>\n",
       "      <td>...</td>\n",
       "      <td>0</td>\n",
       "      <td>0.0</td>\n",
       "      <td>0.0</td>\n",
       "      <td>0.0</td>\n",
       "      <td>1.0</td>\n",
       "      <td>1103</td>\n",
       "      <td>0.0</td>\n",
       "      <td>0.0</td>\n",
       "      <td>4.17</td>\n",
       "      <td>0.00</td>\n",
       "    </tr>\n",
       "    <tr>\n",
       "      <th>3</th>\n",
       "      <td>7001204172</td>\n",
       "      <td>109</td>\n",
       "      <td>0.0</td>\n",
       "      <td>0.0</td>\n",
       "      <td>0.0</td>\n",
       "      <td>2014-06-30</td>\n",
       "      <td>2014-07-31</td>\n",
       "      <td>2014-08-31</td>\n",
       "      <td>2014-09-30</td>\n",
       "      <td>221.338</td>\n",
       "      <td>...</td>\n",
       "      <td>0</td>\n",
       "      <td>0.0</td>\n",
       "      <td>0.0</td>\n",
       "      <td>0.0</td>\n",
       "      <td>0.0</td>\n",
       "      <td>2491</td>\n",
       "      <td>0.0</td>\n",
       "      <td>0.0</td>\n",
       "      <td>0.00</td>\n",
       "      <td>0.00</td>\n",
       "    </tr>\n",
       "    <tr>\n",
       "      <th>4</th>\n",
       "      <td>7000142493</td>\n",
       "      <td>109</td>\n",
       "      <td>0.0</td>\n",
       "      <td>0.0</td>\n",
       "      <td>0.0</td>\n",
       "      <td>2014-06-30</td>\n",
       "      <td>2014-07-31</td>\n",
       "      <td>2014-08-31</td>\n",
       "      <td>2014-09-30</td>\n",
       "      <td>261.636</td>\n",
       "      <td>...</td>\n",
       "      <td>0</td>\n",
       "      <td>0.0</td>\n",
       "      <td>0.0</td>\n",
       "      <td>0.0</td>\n",
       "      <td>0.0</td>\n",
       "      <td>1526</td>\n",
       "      <td>0.0</td>\n",
       "      <td>0.0</td>\n",
       "      <td>0.00</td>\n",
       "      <td>0.00</td>\n",
       "    </tr>\n",
       "  </tbody>\n",
       "</table>\n",
       "<p>5 rows × 226 columns</p>\n",
       "</div>"
      ],
      "text/plain": [
       "   mobile_number  circle_id  loc_og_t2o_mou  std_og_t2o_mou  loc_ic_t2o_mou  \\\n",
       "0     7000842753        109             0.0             0.0             0.0   \n",
       "1     7001865778        109             0.0             0.0             0.0   \n",
       "2     7001625959        109             0.0             0.0             0.0   \n",
       "3     7001204172        109             0.0             0.0             0.0   \n",
       "4     7000142493        109             0.0             0.0             0.0   \n",
       "\n",
       "  last_date_of_month_6 last_date_of_month_7 last_date_of_month_8  \\\n",
       "0           2014-06-30           2014-07-31           2014-08-31   \n",
       "1           2014-06-30           2014-07-31           2014-08-31   \n",
       "2           2014-06-30           2014-07-31           2014-08-31   \n",
       "3           2014-06-30           2014-07-31           2014-08-31   \n",
       "4           2014-06-30           2014-07-31           2014-08-31   \n",
       "\n",
       "  last_date_of_month_9   arpu_6  ...  sachet_3g_9  fb_user_6  fb_user_7  \\\n",
       "0           2014-09-30  197.385  ...            0        1.0        1.0   \n",
       "1           2014-09-30   34.047  ...            0        0.0        1.0   \n",
       "2           2014-09-30  167.690  ...            0        0.0        0.0   \n",
       "3           2014-09-30  221.338  ...            0        0.0        0.0   \n",
       "4           2014-09-30  261.636  ...            0        0.0        0.0   \n",
       "\n",
       "   fb_user_8  fb_user_9   aon  aug_vbc_3g  jul_vbc_3g  jun_vbc_3g  sep_vbc_3g  \n",
       "0        1.0        0.0   968        30.4         0.0      101.20        3.58  \n",
       "1        1.0        0.0  1006         0.0         0.0        0.00        0.00  \n",
       "2        0.0        1.0  1103         0.0         0.0        4.17        0.00  \n",
       "3        0.0        0.0  2491         0.0         0.0        0.00        0.00  \n",
       "4        0.0        0.0  1526         0.0         0.0        0.00        0.00  \n",
       "\n",
       "[5 rows x 226 columns]"
      ]
     },
     "execution_count": 29,
     "metadata": {},
     "output_type": "execute_result"
    }
   ],
   "source": [
    "base_data.head()"
   ]
  },
  {
   "cell_type": "markdown",
   "id": "df540609",
   "metadata": {},
   "source": [
    "#### We still have 8 object type columns. The date formats might not be uniform.\n",
    "We shall first inspecgt the column values and bring in uniformity if required"
   ]
  },
  {
   "cell_type": "code",
   "execution_count": 30,
   "id": "4339f264",
   "metadata": {},
   "outputs": [
    {
     "data": {
      "text/plain": [
       "6/30/2014    16960\n",
       "6/29/2014    12918\n",
       "6/27/2014    11169\n",
       "6/28/2014     9491\n",
       "6/26/2014     5530\n",
       "6/25/2014     4896\n",
       "6/17/2014     4145\n",
       "6/24/2014     4129\n",
       "6/14/2014     3845\n",
       "6/21/2014     3747\n",
       "6/23/2014     2908\n",
       "6/18/2014     2747\n",
       "6/12/2014     2511\n",
       "6/22/2014     2344\n",
       "6/13/2014     2147\n",
       "6/19/2014     2009\n",
       "6/20/2014     1803\n",
       "6/16/2014     1126\n",
       "6/15/2014      873\n",
       "6/11/2014      579\n",
       "6/8/2014       520\n",
       "6/5/2014       327\n",
       "6/7/2014       322\n",
       "6/10/2014      283\n",
       "6/3/2014       233\n",
       "6/1/2014       218\n",
       "6/9/2014       199\n",
       "6/6/2014       173\n",
       "6/4/2014       131\n",
       "6/2/2014       109\n",
       "Name: date_of_last_rech_6, dtype: int64"
      ]
     },
     "execution_count": 30,
     "metadata": {},
     "output_type": "execute_result"
    }
   ],
   "source": [
    "base_data.date_of_last_rech_6.value_counts()"
   ]
  },
  {
   "cell_type": "markdown",
   "id": "fe85aca9",
   "metadata": {},
   "source": [
    "#### date_of_last_rech_6 column is clean. We shall convert the datatype rightaway"
   ]
  },
  {
   "cell_type": "code",
   "execution_count": 31,
   "id": "7da8d5d1",
   "metadata": {},
   "outputs": [],
   "source": [
    "base_data[\"date_of_last_rech_6\"] = pd.to_datetime(base_data[\"date_of_last_rech_6\"], format=\"%m/%d/%Y\")"
   ]
  },
  {
   "cell_type": "code",
   "execution_count": 32,
   "id": "c205f03f",
   "metadata": {},
   "outputs": [
    {
     "data": {
      "text/plain": [
       "7/31/2014    17288\n",
       "7/30/2014    13863\n",
       "7/25/2014     9401\n",
       "7/29/2014     9052\n",
       "7/28/2014     7502\n",
       "7/27/2014     5909\n",
       "7/26/2014     5382\n",
       "7/24/2014     3998\n",
       "7/19/2014     3057\n",
       "7/22/2014     2969\n",
       "7/20/2014     2892\n",
       "7/17/2014     2737\n",
       "7/16/2014     2458\n",
       "7/23/2014     2302\n",
       "7/21/2014     1640\n",
       "7/15/2014     1562\n",
       "7/18/2014     1280\n",
       "7/10/2014      859\n",
       "7/9/2014       827\n",
       "7/12/2014      732\n",
       "7/14/2014      452\n",
       "7/11/2014      408\n",
       "7/13/2014      324\n",
       "7/6/2014       313\n",
       "7/4/2014       251\n",
       "7/8/2014       201\n",
       "7/7/2014       153\n",
       "7/3/2014       153\n",
       "7/5/2014       125\n",
       "7/1/2014        74\n",
       "7/2/2014        68\n",
       "Name: date_of_last_rech_7, dtype: int64"
      ]
     },
     "execution_count": 32,
     "metadata": {},
     "output_type": "execute_result"
    }
   ],
   "source": [
    "base_data.date_of_last_rech_7.value_counts()"
   ]
  },
  {
   "cell_type": "code",
   "execution_count": 33,
   "id": "973e5c20",
   "metadata": {},
   "outputs": [],
   "source": [
    "base_data[\"date_of_last_rech_7\"] = pd.to_datetime(base_data[\"date_of_last_rech_7\"], format=\"%m/%d/%Y\")\n",
    "base_data[\"date_of_last_rech_8\"] = pd.to_datetime(base_data[\"date_of_last_rech_8\"], format=\"%m/%d/%Y\")\n",
    "base_data[\"date_of_last_rech_9\"] = pd.to_datetime(base_data[\"date_of_last_rech_9\"], format=\"%m/%d/%Y\")"
   ]
  },
  {
   "cell_type": "markdown",
   "id": "b6309dc0",
   "metadata": {},
   "source": [
    "#### Lets inspect date_of_last_rech_data_6 and similar columns"
   ]
  },
  {
   "cell_type": "code",
   "execution_count": 34,
   "id": "2c549838",
   "metadata": {},
   "outputs": [
    {
     "data": {
      "text/plain": [
       "6/30/2014    1888\n",
       "6/29/2014    1651\n",
       "6/28/2014    1643\n",
       "6/26/2014    1384\n",
       "6/27/2014    1333\n",
       "6/25/2014    1108\n",
       "6/24/2014    1067\n",
       "6/22/2014     903\n",
       "6/23/2014     893\n",
       "6/21/2014     861\n",
       "6/17/2014     859\n",
       "6/19/2014     813\n",
       "6/20/2014     779\n",
       "6/18/2014     773\n",
       "6/14/2014     739\n",
       "6/16/2014     731\n",
       "6/12/2014     660\n",
       "6/15/2014     656\n",
       "6/13/2014     631\n",
       "6/11/2014     629\n",
       "6/10/2014     626\n",
       "6/9/2014      607\n",
       "6/6/2014      591\n",
       "6/5/2014      584\n",
       "6/7/2014      517\n",
       "6/8/2014      514\n",
       "6/3/2014      495\n",
       "6/4/2014      464\n",
       "6/2/2014      423\n",
       "6/1/2014      331\n",
       "Name: date_of_last_rech_data_6, dtype: int64"
      ]
     },
     "execution_count": 34,
     "metadata": {},
     "output_type": "execute_result"
    }
   ],
   "source": [
    "base_data.date_of_last_rech_data_6.value_counts()"
   ]
  },
  {
   "cell_type": "code",
   "execution_count": 35,
   "id": "50a38219",
   "metadata": {},
   "outputs": [],
   "source": [
    "base_data[\"date_of_last_rech_data_6\"] = pd.to_datetime(base_data[\"date_of_last_rech_data_6\"], format=\"%m/%d/%Y\")\n",
    "base_data[\"date_of_last_rech_data_7\"] = pd.to_datetime(base_data[\"date_of_last_rech_data_7\"], format=\"%m/%d/%Y\")\n",
    "base_data[\"date_of_last_rech_data_8\"] = pd.to_datetime(base_data[\"date_of_last_rech_data_8\"], format=\"%m/%d/%Y\")\n",
    "base_data[\"date_of_last_rech_data_9\"] = pd.to_datetime(base_data[\"date_of_last_rech_data_9\"], format=\"%m/%d/%Y\")"
   ]
  },
  {
   "cell_type": "code",
   "execution_count": 36,
   "id": "1612459a",
   "metadata": {},
   "outputs": [
    {
     "name": "stdout",
     "output_type": "stream",
     "text": [
      "<class 'pandas.core.frame.DataFrame'>\n",
      "RangeIndex: 99999 entries, 0 to 99998\n",
      "Columns: 226 entries, mobile_number to sep_vbc_3g\n",
      "dtypes: datetime64[ns](12), float64(179), int64(35)\n",
      "memory usage: 172.4 MB\n"
     ]
    }
   ],
   "source": [
    "base_data.info()"
   ]
  },
  {
   "cell_type": "markdown",
   "id": "889c1454",
   "metadata": {},
   "source": [
    "#### Now we have only date time and numeric columns"
   ]
  },
  {
   "cell_type": "markdown",
   "id": "bd190026",
   "metadata": {},
   "source": [
    "#### We will now derive new variables\n",
    "We subtract every date value from the last day of month and get the recency for that month in a new column"
   ]
  },
  {
   "cell_type": "code",
   "execution_count": 37,
   "id": "37e3b065",
   "metadata": {},
   "outputs": [],
   "source": [
    "base_data[\"recent_rech_6\"] = base_data[\"last_date_of_month_6\"] - base_data[\"date_of_last_rech_data_6\"]"
   ]
  },
  {
   "cell_type": "code",
   "execution_count": 38,
   "id": "992bf669",
   "metadata": {},
   "outputs": [
    {
     "data": {
      "text/html": [
       "<div>\n",
       "<style scoped>\n",
       "    .dataframe tbody tr th:only-of-type {\n",
       "        vertical-align: middle;\n",
       "    }\n",
       "\n",
       "    .dataframe tbody tr th {\n",
       "        vertical-align: top;\n",
       "    }\n",
       "\n",
       "    .dataframe thead th {\n",
       "        text-align: right;\n",
       "    }\n",
       "</style>\n",
       "<table border=\"1\" class=\"dataframe\">\n",
       "  <thead>\n",
       "    <tr style=\"text-align: right;\">\n",
       "      <th></th>\n",
       "      <th>mobile_number</th>\n",
       "      <th>circle_id</th>\n",
       "      <th>loc_og_t2o_mou</th>\n",
       "      <th>std_og_t2o_mou</th>\n",
       "      <th>loc_ic_t2o_mou</th>\n",
       "      <th>last_date_of_month_6</th>\n",
       "      <th>last_date_of_month_7</th>\n",
       "      <th>last_date_of_month_8</th>\n",
       "      <th>last_date_of_month_9</th>\n",
       "      <th>arpu_6</th>\n",
       "      <th>...</th>\n",
       "      <th>fb_user_6</th>\n",
       "      <th>fb_user_7</th>\n",
       "      <th>fb_user_8</th>\n",
       "      <th>fb_user_9</th>\n",
       "      <th>aon</th>\n",
       "      <th>aug_vbc_3g</th>\n",
       "      <th>jul_vbc_3g</th>\n",
       "      <th>jun_vbc_3g</th>\n",
       "      <th>sep_vbc_3g</th>\n",
       "      <th>recent_rech_6</th>\n",
       "    </tr>\n",
       "  </thead>\n",
       "  <tbody>\n",
       "    <tr>\n",
       "      <th>0</th>\n",
       "      <td>7000842753</td>\n",
       "      <td>109</td>\n",
       "      <td>0.0</td>\n",
       "      <td>0.0</td>\n",
       "      <td>0.0</td>\n",
       "      <td>2014-06-30</td>\n",
       "      <td>2014-07-31</td>\n",
       "      <td>2014-08-31</td>\n",
       "      <td>2014-09-30</td>\n",
       "      <td>197.385</td>\n",
       "      <td>...</td>\n",
       "      <td>1.0</td>\n",
       "      <td>1.0</td>\n",
       "      <td>1.0</td>\n",
       "      <td>0.0</td>\n",
       "      <td>968</td>\n",
       "      <td>30.4</td>\n",
       "      <td>0.0</td>\n",
       "      <td>101.20</td>\n",
       "      <td>3.58</td>\n",
       "      <td>9 days</td>\n",
       "    </tr>\n",
       "    <tr>\n",
       "      <th>1</th>\n",
       "      <td>7001865778</td>\n",
       "      <td>109</td>\n",
       "      <td>0.0</td>\n",
       "      <td>0.0</td>\n",
       "      <td>0.0</td>\n",
       "      <td>2014-06-30</td>\n",
       "      <td>2014-07-31</td>\n",
       "      <td>2014-08-31</td>\n",
       "      <td>2014-09-30</td>\n",
       "      <td>34.047</td>\n",
       "      <td>...</td>\n",
       "      <td>0.0</td>\n",
       "      <td>1.0</td>\n",
       "      <td>1.0</td>\n",
       "      <td>0.0</td>\n",
       "      <td>1006</td>\n",
       "      <td>0.0</td>\n",
       "      <td>0.0</td>\n",
       "      <td>0.00</td>\n",
       "      <td>0.00</td>\n",
       "      <td>NaT</td>\n",
       "    </tr>\n",
       "    <tr>\n",
       "      <th>2</th>\n",
       "      <td>7001625959</td>\n",
       "      <td>109</td>\n",
       "      <td>0.0</td>\n",
       "      <td>0.0</td>\n",
       "      <td>0.0</td>\n",
       "      <td>2014-06-30</td>\n",
       "      <td>2014-07-31</td>\n",
       "      <td>2014-08-31</td>\n",
       "      <td>2014-09-30</td>\n",
       "      <td>167.690</td>\n",
       "      <td>...</td>\n",
       "      <td>0.0</td>\n",
       "      <td>0.0</td>\n",
       "      <td>0.0</td>\n",
       "      <td>1.0</td>\n",
       "      <td>1103</td>\n",
       "      <td>0.0</td>\n",
       "      <td>0.0</td>\n",
       "      <td>4.17</td>\n",
       "      <td>0.00</td>\n",
       "      <td>NaT</td>\n",
       "    </tr>\n",
       "    <tr>\n",
       "      <th>3</th>\n",
       "      <td>7001204172</td>\n",
       "      <td>109</td>\n",
       "      <td>0.0</td>\n",
       "      <td>0.0</td>\n",
       "      <td>0.0</td>\n",
       "      <td>2014-06-30</td>\n",
       "      <td>2014-07-31</td>\n",
       "      <td>2014-08-31</td>\n",
       "      <td>2014-09-30</td>\n",
       "      <td>221.338</td>\n",
       "      <td>...</td>\n",
       "      <td>0.0</td>\n",
       "      <td>0.0</td>\n",
       "      <td>0.0</td>\n",
       "      <td>0.0</td>\n",
       "      <td>2491</td>\n",
       "      <td>0.0</td>\n",
       "      <td>0.0</td>\n",
       "      <td>0.00</td>\n",
       "      <td>0.00</td>\n",
       "      <td>NaT</td>\n",
       "    </tr>\n",
       "    <tr>\n",
       "      <th>4</th>\n",
       "      <td>7000142493</td>\n",
       "      <td>109</td>\n",
       "      <td>0.0</td>\n",
       "      <td>0.0</td>\n",
       "      <td>0.0</td>\n",
       "      <td>2014-06-30</td>\n",
       "      <td>2014-07-31</td>\n",
       "      <td>2014-08-31</td>\n",
       "      <td>2014-09-30</td>\n",
       "      <td>261.636</td>\n",
       "      <td>...</td>\n",
       "      <td>0.0</td>\n",
       "      <td>0.0</td>\n",
       "      <td>0.0</td>\n",
       "      <td>0.0</td>\n",
       "      <td>1526</td>\n",
       "      <td>0.0</td>\n",
       "      <td>0.0</td>\n",
       "      <td>0.00</td>\n",
       "      <td>0.00</td>\n",
       "      <td>26 days</td>\n",
       "    </tr>\n",
       "  </tbody>\n",
       "</table>\n",
       "<p>5 rows × 227 columns</p>\n",
       "</div>"
      ],
      "text/plain": [
       "   mobile_number  circle_id  loc_og_t2o_mou  std_og_t2o_mou  loc_ic_t2o_mou  \\\n",
       "0     7000842753        109             0.0             0.0             0.0   \n",
       "1     7001865778        109             0.0             0.0             0.0   \n",
       "2     7001625959        109             0.0             0.0             0.0   \n",
       "3     7001204172        109             0.0             0.0             0.0   \n",
       "4     7000142493        109             0.0             0.0             0.0   \n",
       "\n",
       "  last_date_of_month_6 last_date_of_month_7 last_date_of_month_8  \\\n",
       "0           2014-06-30           2014-07-31           2014-08-31   \n",
       "1           2014-06-30           2014-07-31           2014-08-31   \n",
       "2           2014-06-30           2014-07-31           2014-08-31   \n",
       "3           2014-06-30           2014-07-31           2014-08-31   \n",
       "4           2014-06-30           2014-07-31           2014-08-31   \n",
       "\n",
       "  last_date_of_month_9   arpu_6  ...  fb_user_6  fb_user_7  fb_user_8  \\\n",
       "0           2014-09-30  197.385  ...        1.0        1.0        1.0   \n",
       "1           2014-09-30   34.047  ...        0.0        1.0        1.0   \n",
       "2           2014-09-30  167.690  ...        0.0        0.0        0.0   \n",
       "3           2014-09-30  221.338  ...        0.0        0.0        0.0   \n",
       "4           2014-09-30  261.636  ...        0.0        0.0        0.0   \n",
       "\n",
       "   fb_user_9   aon  aug_vbc_3g  jul_vbc_3g  jun_vbc_3g  sep_vbc_3g  \\\n",
       "0        0.0   968        30.4         0.0      101.20        3.58   \n",
       "1        0.0  1006         0.0         0.0        0.00        0.00   \n",
       "2        1.0  1103         0.0         0.0        4.17        0.00   \n",
       "3        0.0  2491         0.0         0.0        0.00        0.00   \n",
       "4        0.0  1526         0.0         0.0        0.00        0.00   \n",
       "\n",
       "   recent_rech_6  \n",
       "0         9 days  \n",
       "1            NaT  \n",
       "2            NaT  \n",
       "3            NaT  \n",
       "4        26 days  \n",
       "\n",
       "[5 rows x 227 columns]"
      ]
     },
     "execution_count": 38,
     "metadata": {},
     "output_type": "execute_result"
    }
   ],
   "source": [
    "base_data.head()"
   ]
  },
  {
   "cell_type": "code",
   "execution_count": 39,
   "id": "8065d199",
   "metadata": {},
   "outputs": [],
   "source": [
    "base_data[\"recent_rech_6\"] = base_data[\"recent_rech_6\"].dt.days"
   ]
  },
  {
   "cell_type": "code",
   "execution_count": 40,
   "id": "0316f21f",
   "metadata": {},
   "outputs": [
    {
     "data": {
      "text/html": [
       "<div>\n",
       "<style scoped>\n",
       "    .dataframe tbody tr th:only-of-type {\n",
       "        vertical-align: middle;\n",
       "    }\n",
       "\n",
       "    .dataframe tbody tr th {\n",
       "        vertical-align: top;\n",
       "    }\n",
       "\n",
       "    .dataframe thead th {\n",
       "        text-align: right;\n",
       "    }\n",
       "</style>\n",
       "<table border=\"1\" class=\"dataframe\">\n",
       "  <thead>\n",
       "    <tr style=\"text-align: right;\">\n",
       "      <th></th>\n",
       "      <th>mobile_number</th>\n",
       "      <th>circle_id</th>\n",
       "      <th>loc_og_t2o_mou</th>\n",
       "      <th>std_og_t2o_mou</th>\n",
       "      <th>loc_ic_t2o_mou</th>\n",
       "      <th>last_date_of_month_6</th>\n",
       "      <th>last_date_of_month_7</th>\n",
       "      <th>last_date_of_month_8</th>\n",
       "      <th>last_date_of_month_9</th>\n",
       "      <th>arpu_6</th>\n",
       "      <th>...</th>\n",
       "      <th>fb_user_6</th>\n",
       "      <th>fb_user_7</th>\n",
       "      <th>fb_user_8</th>\n",
       "      <th>fb_user_9</th>\n",
       "      <th>aon</th>\n",
       "      <th>aug_vbc_3g</th>\n",
       "      <th>jul_vbc_3g</th>\n",
       "      <th>jun_vbc_3g</th>\n",
       "      <th>sep_vbc_3g</th>\n",
       "      <th>recent_rech_6</th>\n",
       "    </tr>\n",
       "  </thead>\n",
       "  <tbody>\n",
       "    <tr>\n",
       "      <th>0</th>\n",
       "      <td>7000842753</td>\n",
       "      <td>109</td>\n",
       "      <td>0.0</td>\n",
       "      <td>0.0</td>\n",
       "      <td>0.0</td>\n",
       "      <td>2014-06-30</td>\n",
       "      <td>2014-07-31</td>\n",
       "      <td>2014-08-31</td>\n",
       "      <td>2014-09-30</td>\n",
       "      <td>197.385</td>\n",
       "      <td>...</td>\n",
       "      <td>1.0</td>\n",
       "      <td>1.0</td>\n",
       "      <td>1.0</td>\n",
       "      <td>0.0</td>\n",
       "      <td>968</td>\n",
       "      <td>30.4</td>\n",
       "      <td>0.0</td>\n",
       "      <td>101.20</td>\n",
       "      <td>3.58</td>\n",
       "      <td>9.0</td>\n",
       "    </tr>\n",
       "    <tr>\n",
       "      <th>1</th>\n",
       "      <td>7001865778</td>\n",
       "      <td>109</td>\n",
       "      <td>0.0</td>\n",
       "      <td>0.0</td>\n",
       "      <td>0.0</td>\n",
       "      <td>2014-06-30</td>\n",
       "      <td>2014-07-31</td>\n",
       "      <td>2014-08-31</td>\n",
       "      <td>2014-09-30</td>\n",
       "      <td>34.047</td>\n",
       "      <td>...</td>\n",
       "      <td>0.0</td>\n",
       "      <td>1.0</td>\n",
       "      <td>1.0</td>\n",
       "      <td>0.0</td>\n",
       "      <td>1006</td>\n",
       "      <td>0.0</td>\n",
       "      <td>0.0</td>\n",
       "      <td>0.00</td>\n",
       "      <td>0.00</td>\n",
       "      <td>NaN</td>\n",
       "    </tr>\n",
       "    <tr>\n",
       "      <th>2</th>\n",
       "      <td>7001625959</td>\n",
       "      <td>109</td>\n",
       "      <td>0.0</td>\n",
       "      <td>0.0</td>\n",
       "      <td>0.0</td>\n",
       "      <td>2014-06-30</td>\n",
       "      <td>2014-07-31</td>\n",
       "      <td>2014-08-31</td>\n",
       "      <td>2014-09-30</td>\n",
       "      <td>167.690</td>\n",
       "      <td>...</td>\n",
       "      <td>0.0</td>\n",
       "      <td>0.0</td>\n",
       "      <td>0.0</td>\n",
       "      <td>1.0</td>\n",
       "      <td>1103</td>\n",
       "      <td>0.0</td>\n",
       "      <td>0.0</td>\n",
       "      <td>4.17</td>\n",
       "      <td>0.00</td>\n",
       "      <td>NaN</td>\n",
       "    </tr>\n",
       "    <tr>\n",
       "      <th>3</th>\n",
       "      <td>7001204172</td>\n",
       "      <td>109</td>\n",
       "      <td>0.0</td>\n",
       "      <td>0.0</td>\n",
       "      <td>0.0</td>\n",
       "      <td>2014-06-30</td>\n",
       "      <td>2014-07-31</td>\n",
       "      <td>2014-08-31</td>\n",
       "      <td>2014-09-30</td>\n",
       "      <td>221.338</td>\n",
       "      <td>...</td>\n",
       "      <td>0.0</td>\n",
       "      <td>0.0</td>\n",
       "      <td>0.0</td>\n",
       "      <td>0.0</td>\n",
       "      <td>2491</td>\n",
       "      <td>0.0</td>\n",
       "      <td>0.0</td>\n",
       "      <td>0.00</td>\n",
       "      <td>0.00</td>\n",
       "      <td>NaN</td>\n",
       "    </tr>\n",
       "    <tr>\n",
       "      <th>4</th>\n",
       "      <td>7000142493</td>\n",
       "      <td>109</td>\n",
       "      <td>0.0</td>\n",
       "      <td>0.0</td>\n",
       "      <td>0.0</td>\n",
       "      <td>2014-06-30</td>\n",
       "      <td>2014-07-31</td>\n",
       "      <td>2014-08-31</td>\n",
       "      <td>2014-09-30</td>\n",
       "      <td>261.636</td>\n",
       "      <td>...</td>\n",
       "      <td>0.0</td>\n",
       "      <td>0.0</td>\n",
       "      <td>0.0</td>\n",
       "      <td>0.0</td>\n",
       "      <td>1526</td>\n",
       "      <td>0.0</td>\n",
       "      <td>0.0</td>\n",
       "      <td>0.00</td>\n",
       "      <td>0.00</td>\n",
       "      <td>26.0</td>\n",
       "    </tr>\n",
       "  </tbody>\n",
       "</table>\n",
       "<p>5 rows × 227 columns</p>\n",
       "</div>"
      ],
      "text/plain": [
       "   mobile_number  circle_id  loc_og_t2o_mou  std_og_t2o_mou  loc_ic_t2o_mou  \\\n",
       "0     7000842753        109             0.0             0.0             0.0   \n",
       "1     7001865778        109             0.0             0.0             0.0   \n",
       "2     7001625959        109             0.0             0.0             0.0   \n",
       "3     7001204172        109             0.0             0.0             0.0   \n",
       "4     7000142493        109             0.0             0.0             0.0   \n",
       "\n",
       "  last_date_of_month_6 last_date_of_month_7 last_date_of_month_8  \\\n",
       "0           2014-06-30           2014-07-31           2014-08-31   \n",
       "1           2014-06-30           2014-07-31           2014-08-31   \n",
       "2           2014-06-30           2014-07-31           2014-08-31   \n",
       "3           2014-06-30           2014-07-31           2014-08-31   \n",
       "4           2014-06-30           2014-07-31           2014-08-31   \n",
       "\n",
       "  last_date_of_month_9   arpu_6  ...  fb_user_6  fb_user_7  fb_user_8  \\\n",
       "0           2014-09-30  197.385  ...        1.0        1.0        1.0   \n",
       "1           2014-09-30   34.047  ...        0.0        1.0        1.0   \n",
       "2           2014-09-30  167.690  ...        0.0        0.0        0.0   \n",
       "3           2014-09-30  221.338  ...        0.0        0.0        0.0   \n",
       "4           2014-09-30  261.636  ...        0.0        0.0        0.0   \n",
       "\n",
       "   fb_user_9   aon  aug_vbc_3g  jul_vbc_3g  jun_vbc_3g  sep_vbc_3g  \\\n",
       "0        0.0   968        30.4         0.0      101.20        3.58   \n",
       "1        0.0  1006         0.0         0.0        0.00        0.00   \n",
       "2        1.0  1103         0.0         0.0        4.17        0.00   \n",
       "3        0.0  2491         0.0         0.0        0.00        0.00   \n",
       "4        0.0  1526         0.0         0.0        0.00        0.00   \n",
       "\n",
       "   recent_rech_6  \n",
       "0            9.0  \n",
       "1            NaN  \n",
       "2            NaN  \n",
       "3            NaN  \n",
       "4           26.0  \n",
       "\n",
       "[5 rows x 227 columns]"
      ]
     },
     "execution_count": 40,
     "metadata": {},
     "output_type": "execute_result"
    }
   ],
   "source": [
    "base_data.head()"
   ]
  },
  {
   "cell_type": "code",
   "execution_count": 41,
   "id": "c48588f5",
   "metadata": {},
   "outputs": [],
   "source": [
    "base_data[\"recent_rech_7\"] = base_data[\"last_date_of_month_7\"] - base_data[\"date_of_last_rech_data_7\"]\n",
    "base_data[\"recent_rech_7\"] = base_data[\"recent_rech_7\"].dt.days\n",
    "base_data[\"recent_rech_8\"] = base_data[\"last_date_of_month_8\"] - base_data[\"date_of_last_rech_data_8\"]\n",
    "base_data[\"recent_rech_8\"] = base_data[\"recent_rech_8\"].dt.days\n",
    "base_data[\"recent_rech_9\"] = base_data[\"last_date_of_month_9\"] - base_data[\"date_of_last_rech_data_9\"]\n",
    "base_data[\"recent_rech_9\"] = base_data[\"recent_rech_9\"].dt.days"
   ]
  },
  {
   "cell_type": "code",
   "execution_count": 42,
   "id": "5b8e9aac",
   "metadata": {},
   "outputs": [],
   "source": [
    "base_data[\"recent_rech_data_6\"] = base_data[\"last_date_of_month_6\"] - base_data[\"date_of_last_rech_data_6\"]\n",
    "base_data[\"recent_rech_data_6\"] = base_data[\"recent_rech_data_6\"].dt.days\n",
    "base_data[\"recent_rech_data_7\"] = base_data[\"last_date_of_month_7\"] - base_data[\"date_of_last_rech_data_7\"]\n",
    "base_data[\"recent_rech_data_7\"] = base_data[\"recent_rech_data_7\"].dt.days\n",
    "base_data[\"recent_rech_data_8\"] = base_data[\"last_date_of_month_8\"] - base_data[\"date_of_last_rech_data_8\"]\n",
    "base_data[\"recent_rech_data_8\"] = base_data[\"recent_rech_data_8\"].dt.days\n",
    "base_data[\"recent_rech_data_9\"] = base_data[\"last_date_of_month_9\"] - base_data[\"date_of_last_rech_data_9\"]\n",
    "base_data[\"recent_rech_data_9\"] = base_data[\"recent_rech_data_9\"].dt.days"
   ]
  },
  {
   "cell_type": "code",
   "execution_count": 43,
   "id": "41b79b23",
   "metadata": {},
   "outputs": [
    {
     "data": {
      "text/html": [
       "<div>\n",
       "<style scoped>\n",
       "    .dataframe tbody tr th:only-of-type {\n",
       "        vertical-align: middle;\n",
       "    }\n",
       "\n",
       "    .dataframe tbody tr th {\n",
       "        vertical-align: top;\n",
       "    }\n",
       "\n",
       "    .dataframe thead th {\n",
       "        text-align: right;\n",
       "    }\n",
       "</style>\n",
       "<table border=\"1\" class=\"dataframe\">\n",
       "  <thead>\n",
       "    <tr style=\"text-align: right;\">\n",
       "      <th></th>\n",
       "      <th>mobile_number</th>\n",
       "      <th>circle_id</th>\n",
       "      <th>loc_og_t2o_mou</th>\n",
       "      <th>std_og_t2o_mou</th>\n",
       "      <th>loc_ic_t2o_mou</th>\n",
       "      <th>last_date_of_month_6</th>\n",
       "      <th>last_date_of_month_7</th>\n",
       "      <th>last_date_of_month_8</th>\n",
       "      <th>last_date_of_month_9</th>\n",
       "      <th>arpu_6</th>\n",
       "      <th>...</th>\n",
       "      <th>jun_vbc_3g</th>\n",
       "      <th>sep_vbc_3g</th>\n",
       "      <th>recent_rech_6</th>\n",
       "      <th>recent_rech_7</th>\n",
       "      <th>recent_rech_8</th>\n",
       "      <th>recent_rech_9</th>\n",
       "      <th>recent_rech_data_6</th>\n",
       "      <th>recent_rech_data_7</th>\n",
       "      <th>recent_rech_data_8</th>\n",
       "      <th>recent_rech_data_9</th>\n",
       "    </tr>\n",
       "  </thead>\n",
       "  <tbody>\n",
       "    <tr>\n",
       "      <th>0</th>\n",
       "      <td>7000842753</td>\n",
       "      <td>109</td>\n",
       "      <td>0.0</td>\n",
       "      <td>0.0</td>\n",
       "      <td>0.0</td>\n",
       "      <td>2014-06-30</td>\n",
       "      <td>2014-07-31</td>\n",
       "      <td>2014-08-31</td>\n",
       "      <td>2014-09-30</td>\n",
       "      <td>197.385</td>\n",
       "      <td>...</td>\n",
       "      <td>101.20</td>\n",
       "      <td>3.58</td>\n",
       "      <td>9.0</td>\n",
       "      <td>15.0</td>\n",
       "      <td>23.0</td>\n",
       "      <td>NaN</td>\n",
       "      <td>9.0</td>\n",
       "      <td>15.0</td>\n",
       "      <td>23.0</td>\n",
       "      <td>NaN</td>\n",
       "    </tr>\n",
       "    <tr>\n",
       "      <th>1</th>\n",
       "      <td>7001865778</td>\n",
       "      <td>109</td>\n",
       "      <td>0.0</td>\n",
       "      <td>0.0</td>\n",
       "      <td>0.0</td>\n",
       "      <td>2014-06-30</td>\n",
       "      <td>2014-07-31</td>\n",
       "      <td>2014-08-31</td>\n",
       "      <td>2014-09-30</td>\n",
       "      <td>34.047</td>\n",
       "      <td>...</td>\n",
       "      <td>0.00</td>\n",
       "      <td>0.00</td>\n",
       "      <td>NaN</td>\n",
       "      <td>6.0</td>\n",
       "      <td>21.0</td>\n",
       "      <td>NaN</td>\n",
       "      <td>NaN</td>\n",
       "      <td>6.0</td>\n",
       "      <td>21.0</td>\n",
       "      <td>NaN</td>\n",
       "    </tr>\n",
       "    <tr>\n",
       "      <th>2</th>\n",
       "      <td>7001625959</td>\n",
       "      <td>109</td>\n",
       "      <td>0.0</td>\n",
       "      <td>0.0</td>\n",
       "      <td>0.0</td>\n",
       "      <td>2014-06-30</td>\n",
       "      <td>2014-07-31</td>\n",
       "      <td>2014-08-31</td>\n",
       "      <td>2014-09-30</td>\n",
       "      <td>167.690</td>\n",
       "      <td>...</td>\n",
       "      <td>4.17</td>\n",
       "      <td>0.00</td>\n",
       "      <td>NaN</td>\n",
       "      <td>NaN</td>\n",
       "      <td>NaN</td>\n",
       "      <td>13.0</td>\n",
       "      <td>NaN</td>\n",
       "      <td>NaN</td>\n",
       "      <td>NaN</td>\n",
       "      <td>13.0</td>\n",
       "    </tr>\n",
       "    <tr>\n",
       "      <th>3</th>\n",
       "      <td>7001204172</td>\n",
       "      <td>109</td>\n",
       "      <td>0.0</td>\n",
       "      <td>0.0</td>\n",
       "      <td>0.0</td>\n",
       "      <td>2014-06-30</td>\n",
       "      <td>2014-07-31</td>\n",
       "      <td>2014-08-31</td>\n",
       "      <td>2014-09-30</td>\n",
       "      <td>221.338</td>\n",
       "      <td>...</td>\n",
       "      <td>0.00</td>\n",
       "      <td>0.00</td>\n",
       "      <td>NaN</td>\n",
       "      <td>NaN</td>\n",
       "      <td>NaN</td>\n",
       "      <td>NaN</td>\n",
       "      <td>NaN</td>\n",
       "      <td>NaN</td>\n",
       "      <td>NaN</td>\n",
       "      <td>NaN</td>\n",
       "    </tr>\n",
       "    <tr>\n",
       "      <th>4</th>\n",
       "      <td>7000142493</td>\n",
       "      <td>109</td>\n",
       "      <td>0.0</td>\n",
       "      <td>0.0</td>\n",
       "      <td>0.0</td>\n",
       "      <td>2014-06-30</td>\n",
       "      <td>2014-07-31</td>\n",
       "      <td>2014-08-31</td>\n",
       "      <td>2014-09-30</td>\n",
       "      <td>261.636</td>\n",
       "      <td>...</td>\n",
       "      <td>0.00</td>\n",
       "      <td>0.00</td>\n",
       "      <td>26.0</td>\n",
       "      <td>NaN</td>\n",
       "      <td>NaN</td>\n",
       "      <td>NaN</td>\n",
       "      <td>26.0</td>\n",
       "      <td>NaN</td>\n",
       "      <td>NaN</td>\n",
       "      <td>NaN</td>\n",
       "    </tr>\n",
       "  </tbody>\n",
       "</table>\n",
       "<p>5 rows × 234 columns</p>\n",
       "</div>"
      ],
      "text/plain": [
       "   mobile_number  circle_id  loc_og_t2o_mou  std_og_t2o_mou  loc_ic_t2o_mou  \\\n",
       "0     7000842753        109             0.0             0.0             0.0   \n",
       "1     7001865778        109             0.0             0.0             0.0   \n",
       "2     7001625959        109             0.0             0.0             0.0   \n",
       "3     7001204172        109             0.0             0.0             0.0   \n",
       "4     7000142493        109             0.0             0.0             0.0   \n",
       "\n",
       "  last_date_of_month_6 last_date_of_month_7 last_date_of_month_8  \\\n",
       "0           2014-06-30           2014-07-31           2014-08-31   \n",
       "1           2014-06-30           2014-07-31           2014-08-31   \n",
       "2           2014-06-30           2014-07-31           2014-08-31   \n",
       "3           2014-06-30           2014-07-31           2014-08-31   \n",
       "4           2014-06-30           2014-07-31           2014-08-31   \n",
       "\n",
       "  last_date_of_month_9   arpu_6  ...  jun_vbc_3g  sep_vbc_3g  recent_rech_6  \\\n",
       "0           2014-09-30  197.385  ...      101.20        3.58            9.0   \n",
       "1           2014-09-30   34.047  ...        0.00        0.00            NaN   \n",
       "2           2014-09-30  167.690  ...        4.17        0.00            NaN   \n",
       "3           2014-09-30  221.338  ...        0.00        0.00            NaN   \n",
       "4           2014-09-30  261.636  ...        0.00        0.00           26.0   \n",
       "\n",
       "   recent_rech_7  recent_rech_8  recent_rech_9  recent_rech_data_6  \\\n",
       "0           15.0           23.0            NaN                 9.0   \n",
       "1            6.0           21.0            NaN                 NaN   \n",
       "2            NaN            NaN           13.0                 NaN   \n",
       "3            NaN            NaN            NaN                 NaN   \n",
       "4            NaN            NaN            NaN                26.0   \n",
       "\n",
       "   recent_rech_data_7  recent_rech_data_8  recent_rech_data_9  \n",
       "0                15.0                23.0                 NaN  \n",
       "1                 6.0                21.0                 NaN  \n",
       "2                 NaN                 NaN                13.0  \n",
       "3                 NaN                 NaN                 NaN  \n",
       "4                 NaN                 NaN                 NaN  \n",
       "\n",
       "[5 rows x 234 columns]"
      ]
     },
     "execution_count": 43,
     "metadata": {},
     "output_type": "execute_result"
    }
   ],
   "source": [
    "base_data.head()"
   ]
  },
  {
   "cell_type": "markdown",
   "id": "06354d02",
   "metadata": {},
   "source": [
    "#### Recency is considered as the minimum number of days. There are several null values in these columns\n",
    "#### Null values indicate that the customer did not recharge for voice or data. We can therefore impute all null values with 100. 100 is more than the number of days in a month. Hence we can have special consideration for this during modelling"
   ]
  },
  {
   "cell_type": "code",
   "execution_count": 44,
   "id": "e177ebac",
   "metadata": {},
   "outputs": [],
   "source": [
    "base_data[\"recent_rech_6\"] = base_data[\"recent_rech_6\"].fillna(100)\n",
    "base_data[\"recent_rech_7\"] = base_data[\"recent_rech_7\"].fillna(100)\n",
    "base_data[\"recent_rech_8\"] = base_data[\"recent_rech_8\"].fillna(100)\n",
    "base_data[\"recent_rech_9\"] = base_data[\"recent_rech_9\"].fillna(100)\n",
    "base_data[\"recent_rech_data_6\"] = base_data[\"recent_rech_data_6\"].fillna(100)\n",
    "base_data[\"recent_rech_data_7\"] = base_data[\"recent_rech_data_7\"].fillna(100)\n",
    "base_data[\"recent_rech_data_8\"] = base_data[\"recent_rech_data_8\"].fillna(100)\n",
    "base_data[\"recent_rech_data_9\"] = base_data[\"recent_rech_data_9\"].fillna(100)"
   ]
  },
  {
   "cell_type": "markdown",
   "id": "76b66108",
   "metadata": {},
   "source": [
    "#### We can now drop all the date columns"
   ]
  },
  {
   "cell_type": "code",
   "execution_count": 45,
   "id": "4978f174",
   "metadata": {},
   "outputs": [],
   "source": [
    "base_data = base_data.drop(['last_date_of_month_6', 'date_of_last_rech_6', 'date_of_last_rech_data_6'], axis=1)\n",
    "base_data = base_data.drop(['last_date_of_month_7', 'date_of_last_rech_7', 'date_of_last_rech_data_7'], axis=1)\n",
    "base_data = base_data.drop(['last_date_of_month_8', 'date_of_last_rech_8', 'date_of_last_rech_data_8'], axis=1)\n",
    "base_data = base_data.drop(['last_date_of_month_9', 'date_of_last_rech_9', 'date_of_last_rech_data_9'], axis=1)"
   ]
  },
  {
   "cell_type": "markdown",
   "id": "861d9141",
   "metadata": {},
   "source": [
    "### Data is all cleaned up now. \n",
    "#### 1. There are no null values. \n",
    "#### 2. All date variables have been used to derive new variables. \n",
    "#### 3. All variables are numeric in nature"
   ]
  },
  {
   "cell_type": "markdown",
   "id": "ba2db96e",
   "metadata": {},
   "source": [
    "#### Lets now work on filtering the dataset to hold only high value customers"
   ]
  },
  {
   "cell_type": "markdown",
   "id": "b4b24cc0",
   "metadata": {},
   "source": [
    "#### Lets calculate how much each customer has paid up in June and July. It will be addition of amount paid for talk time and data\n",
    "total_rech_amt_6 + (total_rech_data_6 * av_rech_amt_data_6). This will be june_spend. Similarly, lets calculate july_spend\n",
    "Both june and july constitute the good phase. \n",
    "#### We can create a new column called good_phase_spend that will be sum of june and july spends"
   ]
  },
  {
   "cell_type": "code",
   "execution_count": 46,
   "id": "668e8f89",
   "metadata": {},
   "outputs": [],
   "source": [
    "base_data[\"good_phase_spend\"] = base_data[\"total_rech_amt_6\"] + base_data[\"total_rech_data_6\"] * \\\n",
    "                                base_data[\"av_rech_amt_data_6\"] + \\\n",
    "                                base_data[\"total_rech_amt_7\"] + base_data[\"total_rech_data_7\"] * \\\n",
    "                                base_data[\"av_rech_amt_data_7\"]"
   ]
  },
  {
   "cell_type": "code",
   "execution_count": 47,
   "id": "faa40ada",
   "metadata": {},
   "outputs": [
    {
     "data": {
      "text/html": [
       "<div>\n",
       "<style scoped>\n",
       "    .dataframe tbody tr th:only-of-type {\n",
       "        vertical-align: middle;\n",
       "    }\n",
       "\n",
       "    .dataframe tbody tr th {\n",
       "        vertical-align: top;\n",
       "    }\n",
       "\n",
       "    .dataframe thead th {\n",
       "        text-align: right;\n",
       "    }\n",
       "</style>\n",
       "<table border=\"1\" class=\"dataframe\">\n",
       "  <thead>\n",
       "    <tr style=\"text-align: right;\">\n",
       "      <th></th>\n",
       "      <th>mobile_number</th>\n",
       "      <th>circle_id</th>\n",
       "      <th>loc_og_t2o_mou</th>\n",
       "      <th>std_og_t2o_mou</th>\n",
       "      <th>loc_ic_t2o_mou</th>\n",
       "      <th>arpu_6</th>\n",
       "      <th>arpu_7</th>\n",
       "      <th>arpu_8</th>\n",
       "      <th>arpu_9</th>\n",
       "      <th>onnet_mou_6</th>\n",
       "      <th>...</th>\n",
       "      <th>sep_vbc_3g</th>\n",
       "      <th>recent_rech_6</th>\n",
       "      <th>recent_rech_7</th>\n",
       "      <th>recent_rech_8</th>\n",
       "      <th>recent_rech_9</th>\n",
       "      <th>recent_rech_data_6</th>\n",
       "      <th>recent_rech_data_7</th>\n",
       "      <th>recent_rech_data_8</th>\n",
       "      <th>recent_rech_data_9</th>\n",
       "      <th>good_phase_spend</th>\n",
       "    </tr>\n",
       "  </thead>\n",
       "  <tbody>\n",
       "    <tr>\n",
       "      <th>0</th>\n",
       "      <td>7000842753</td>\n",
       "      <td>109</td>\n",
       "      <td>0.0</td>\n",
       "      <td>0.0</td>\n",
       "      <td>0.0</td>\n",
       "      <td>197.385</td>\n",
       "      <td>214.816</td>\n",
       "      <td>213.803</td>\n",
       "      <td>21.100</td>\n",
       "      <td>0.00</td>\n",
       "      <td>...</td>\n",
       "      <td>3.58</td>\n",
       "      <td>9.0</td>\n",
       "      <td>15.0</td>\n",
       "      <td>23.0</td>\n",
       "      <td>100.0</td>\n",
       "      <td>9.0</td>\n",
       "      <td>15.0</td>\n",
       "      <td>23.0</td>\n",
       "      <td>100.0</td>\n",
       "      <td>1118.0</td>\n",
       "    </tr>\n",
       "    <tr>\n",
       "      <th>1</th>\n",
       "      <td>7001865778</td>\n",
       "      <td>109</td>\n",
       "      <td>0.0</td>\n",
       "      <td>0.0</td>\n",
       "      <td>0.0</td>\n",
       "      <td>34.047</td>\n",
       "      <td>355.074</td>\n",
       "      <td>268.321</td>\n",
       "      <td>86.285</td>\n",
       "      <td>24.11</td>\n",
       "      <td>...</td>\n",
       "      <td>0.00</td>\n",
       "      <td>100.0</td>\n",
       "      <td>6.0</td>\n",
       "      <td>21.0</td>\n",
       "      <td>100.0</td>\n",
       "      <td>100.0</td>\n",
       "      <td>6.0</td>\n",
       "      <td>21.0</td>\n",
       "      <td>100.0</td>\n",
       "      <td>612.0</td>\n",
       "    </tr>\n",
       "    <tr>\n",
       "      <th>2</th>\n",
       "      <td>7001625959</td>\n",
       "      <td>109</td>\n",
       "      <td>0.0</td>\n",
       "      <td>0.0</td>\n",
       "      <td>0.0</td>\n",
       "      <td>167.690</td>\n",
       "      <td>189.058</td>\n",
       "      <td>210.226</td>\n",
       "      <td>290.714</td>\n",
       "      <td>11.54</td>\n",
       "      <td>...</td>\n",
       "      <td>0.00</td>\n",
       "      <td>100.0</td>\n",
       "      <td>100.0</td>\n",
       "      <td>100.0</td>\n",
       "      <td>13.0</td>\n",
       "      <td>100.0</td>\n",
       "      <td>100.0</td>\n",
       "      <td>100.0</td>\n",
       "      <td>13.0</td>\n",
       "      <td>483.0</td>\n",
       "    </tr>\n",
       "    <tr>\n",
       "      <th>3</th>\n",
       "      <td>7001204172</td>\n",
       "      <td>109</td>\n",
       "      <td>0.0</td>\n",
       "      <td>0.0</td>\n",
       "      <td>0.0</td>\n",
       "      <td>221.338</td>\n",
       "      <td>251.102</td>\n",
       "      <td>508.054</td>\n",
       "      <td>389.500</td>\n",
       "      <td>99.91</td>\n",
       "      <td>...</td>\n",
       "      <td>0.00</td>\n",
       "      <td>100.0</td>\n",
       "      <td>100.0</td>\n",
       "      <td>100.0</td>\n",
       "      <td>100.0</td>\n",
       "      <td>100.0</td>\n",
       "      <td>100.0</td>\n",
       "      <td>100.0</td>\n",
       "      <td>100.0</td>\n",
       "      <td>540.0</td>\n",
       "    </tr>\n",
       "    <tr>\n",
       "      <th>4</th>\n",
       "      <td>7000142493</td>\n",
       "      <td>109</td>\n",
       "      <td>0.0</td>\n",
       "      <td>0.0</td>\n",
       "      <td>0.0</td>\n",
       "      <td>261.636</td>\n",
       "      <td>309.876</td>\n",
       "      <td>238.174</td>\n",
       "      <td>163.426</td>\n",
       "      <td>50.31</td>\n",
       "      <td>...</td>\n",
       "      <td>0.00</td>\n",
       "      <td>26.0</td>\n",
       "      <td>100.0</td>\n",
       "      <td>100.0</td>\n",
       "      <td>100.0</td>\n",
       "      <td>26.0</td>\n",
       "      <td>100.0</td>\n",
       "      <td>100.0</td>\n",
       "      <td>100.0</td>\n",
       "      <td>602.0</td>\n",
       "    </tr>\n",
       "  </tbody>\n",
       "</table>\n",
       "<p>5 rows × 223 columns</p>\n",
       "</div>"
      ],
      "text/plain": [
       "   mobile_number  circle_id  loc_og_t2o_mou  std_og_t2o_mou  loc_ic_t2o_mou  \\\n",
       "0     7000842753        109             0.0             0.0             0.0   \n",
       "1     7001865778        109             0.0             0.0             0.0   \n",
       "2     7001625959        109             0.0             0.0             0.0   \n",
       "3     7001204172        109             0.0             0.0             0.0   \n",
       "4     7000142493        109             0.0             0.0             0.0   \n",
       "\n",
       "    arpu_6   arpu_7   arpu_8   arpu_9  onnet_mou_6  ...  sep_vbc_3g  \\\n",
       "0  197.385  214.816  213.803   21.100         0.00  ...        3.58   \n",
       "1   34.047  355.074  268.321   86.285        24.11  ...        0.00   \n",
       "2  167.690  189.058  210.226  290.714        11.54  ...        0.00   \n",
       "3  221.338  251.102  508.054  389.500        99.91  ...        0.00   \n",
       "4  261.636  309.876  238.174  163.426        50.31  ...        0.00   \n",
       "\n",
       "   recent_rech_6  recent_rech_7  recent_rech_8  recent_rech_9  \\\n",
       "0            9.0           15.0           23.0          100.0   \n",
       "1          100.0            6.0           21.0          100.0   \n",
       "2          100.0          100.0          100.0           13.0   \n",
       "3          100.0          100.0          100.0          100.0   \n",
       "4           26.0          100.0          100.0          100.0   \n",
       "\n",
       "   recent_rech_data_6  recent_rech_data_7  recent_rech_data_8  \\\n",
       "0                 9.0                15.0                23.0   \n",
       "1               100.0                 6.0                21.0   \n",
       "2               100.0               100.0               100.0   \n",
       "3               100.0               100.0               100.0   \n",
       "4                26.0               100.0               100.0   \n",
       "\n",
       "   recent_rech_data_9  good_phase_spend  \n",
       "0               100.0            1118.0  \n",
       "1               100.0             612.0  \n",
       "2                13.0             483.0  \n",
       "3               100.0             540.0  \n",
       "4               100.0             602.0  \n",
       "\n",
       "[5 rows x 223 columns]"
      ]
     },
     "execution_count": 47,
     "metadata": {},
     "output_type": "execute_result"
    }
   ],
   "source": [
    "base_data.head()"
   ]
  },
  {
   "cell_type": "code",
   "execution_count": 48,
   "id": "abedbae8",
   "metadata": {},
   "outputs": [
    {
     "data": {
      "text/plain": [
       "count     99999.000000\n",
       "mean        970.656135\n",
       "std        1738.847187\n",
       "min           0.000000\n",
       "25%         256.000000\n",
       "50%         550.000000\n",
       "75%        1106.000000\n",
       "max      122472.000000\n",
       "Name: good_phase_spend, dtype: float64"
      ]
     },
     "execution_count": 48,
     "metadata": {},
     "output_type": "execute_result"
    }
   ],
   "source": [
    "#### Lets describe the good_phase_spend column\n",
    "base_data.good_phase_spend.describe()"
   ]
  },
  {
   "cell_type": "code",
   "execution_count": 49,
   "id": "7adafccb",
   "metadata": {},
   "outputs": [
    {
     "name": "stdout",
     "output_type": "stream",
     "text": [
      "956.0\n"
     ]
    }
   ],
   "source": [
    "# Lets check the 70th percentile of this data\n",
    "print(base_data.good_phase_spend.quantile(0.7))"
   ]
  },
  {
   "cell_type": "code",
   "execution_count": 50,
   "id": "5573a89b",
   "metadata": {},
   "outputs": [],
   "source": [
    "# Lets drop all the customers who have spent less than or equal to 956 through their good phase\n",
    "high_value_customers = base_data.loc[base_data.good_phase_spend > 956]"
   ]
  },
  {
   "cell_type": "code",
   "execution_count": 51,
   "id": "180835ee",
   "metadata": {},
   "outputs": [
    {
     "data": {
      "text/html": [
       "<div>\n",
       "<style scoped>\n",
       "    .dataframe tbody tr th:only-of-type {\n",
       "        vertical-align: middle;\n",
       "    }\n",
       "\n",
       "    .dataframe tbody tr th {\n",
       "        vertical-align: top;\n",
       "    }\n",
       "\n",
       "    .dataframe thead th {\n",
       "        text-align: right;\n",
       "    }\n",
       "</style>\n",
       "<table border=\"1\" class=\"dataframe\">\n",
       "  <thead>\n",
       "    <tr style=\"text-align: right;\">\n",
       "      <th></th>\n",
       "      <th>mobile_number</th>\n",
       "      <th>circle_id</th>\n",
       "      <th>loc_og_t2o_mou</th>\n",
       "      <th>std_og_t2o_mou</th>\n",
       "      <th>loc_ic_t2o_mou</th>\n",
       "      <th>arpu_6</th>\n",
       "      <th>arpu_7</th>\n",
       "      <th>arpu_8</th>\n",
       "      <th>arpu_9</th>\n",
       "      <th>onnet_mou_6</th>\n",
       "      <th>...</th>\n",
       "      <th>sep_vbc_3g</th>\n",
       "      <th>recent_rech_6</th>\n",
       "      <th>recent_rech_7</th>\n",
       "      <th>recent_rech_8</th>\n",
       "      <th>recent_rech_9</th>\n",
       "      <th>recent_rech_data_6</th>\n",
       "      <th>recent_rech_data_7</th>\n",
       "      <th>recent_rech_data_8</th>\n",
       "      <th>recent_rech_data_9</th>\n",
       "      <th>good_phase_spend</th>\n",
       "    </tr>\n",
       "  </thead>\n",
       "  <tbody>\n",
       "    <tr>\n",
       "      <th>0</th>\n",
       "      <td>7000842753</td>\n",
       "      <td>109</td>\n",
       "      <td>0.0</td>\n",
       "      <td>0.0</td>\n",
       "      <td>0.0</td>\n",
       "      <td>197.385</td>\n",
       "      <td>214.816</td>\n",
       "      <td>213.803</td>\n",
       "      <td>21.100</td>\n",
       "      <td>0.00</td>\n",
       "      <td>...</td>\n",
       "      <td>3.58</td>\n",
       "      <td>9.0</td>\n",
       "      <td>15.0</td>\n",
       "      <td>23.0</td>\n",
       "      <td>100.0</td>\n",
       "      <td>9.0</td>\n",
       "      <td>15.0</td>\n",
       "      <td>23.0</td>\n",
       "      <td>100.0</td>\n",
       "      <td>1118.0</td>\n",
       "    </tr>\n",
       "    <tr>\n",
       "      <th>7</th>\n",
       "      <td>7000701601</td>\n",
       "      <td>109</td>\n",
       "      <td>0.0</td>\n",
       "      <td>0.0</td>\n",
       "      <td>0.0</td>\n",
       "      <td>1069.180</td>\n",
       "      <td>1349.850</td>\n",
       "      <td>3171.480</td>\n",
       "      <td>500.000</td>\n",
       "      <td>57.84</td>\n",
       "      <td>...</td>\n",
       "      <td>0.00</td>\n",
       "      <td>100.0</td>\n",
       "      <td>100.0</td>\n",
       "      <td>100.0</td>\n",
       "      <td>100.0</td>\n",
       "      <td>100.0</td>\n",
       "      <td>100.0</td>\n",
       "      <td>100.0</td>\n",
       "      <td>100.0</td>\n",
       "      <td>2370.0</td>\n",
       "    </tr>\n",
       "    <tr>\n",
       "      <th>8</th>\n",
       "      <td>7001524846</td>\n",
       "      <td>109</td>\n",
       "      <td>0.0</td>\n",
       "      <td>0.0</td>\n",
       "      <td>0.0</td>\n",
       "      <td>378.721</td>\n",
       "      <td>492.223</td>\n",
       "      <td>137.362</td>\n",
       "      <td>166.787</td>\n",
       "      <td>413.69</td>\n",
       "      <td>...</td>\n",
       "      <td>0.00</td>\n",
       "      <td>100.0</td>\n",
       "      <td>0.0</td>\n",
       "      <td>8.0</td>\n",
       "      <td>100.0</td>\n",
       "      <td>100.0</td>\n",
       "      <td>0.0</td>\n",
       "      <td>8.0</td>\n",
       "      <td>100.0</td>\n",
       "      <td>1392.0</td>\n",
       "    </tr>\n",
       "    <tr>\n",
       "      <th>21</th>\n",
       "      <td>7002124215</td>\n",
       "      <td>109</td>\n",
       "      <td>0.0</td>\n",
       "      <td>0.0</td>\n",
       "      <td>0.0</td>\n",
       "      <td>514.453</td>\n",
       "      <td>597.753</td>\n",
       "      <td>637.760</td>\n",
       "      <td>578.596</td>\n",
       "      <td>102.41</td>\n",
       "      <td>...</td>\n",
       "      <td>0.00</td>\n",
       "      <td>100.0</td>\n",
       "      <td>100.0</td>\n",
       "      <td>100.0</td>\n",
       "      <td>100.0</td>\n",
       "      <td>100.0</td>\n",
       "      <td>100.0</td>\n",
       "      <td>100.0</td>\n",
       "      <td>100.0</td>\n",
       "      <td>1280.0</td>\n",
       "    </tr>\n",
       "    <tr>\n",
       "      <th>23</th>\n",
       "      <td>7000887461</td>\n",
       "      <td>109</td>\n",
       "      <td>0.0</td>\n",
       "      <td>0.0</td>\n",
       "      <td>0.0</td>\n",
       "      <td>74.350</td>\n",
       "      <td>193.897</td>\n",
       "      <td>366.966</td>\n",
       "      <td>811.480</td>\n",
       "      <td>48.96</td>\n",
       "      <td>...</td>\n",
       "      <td>0.00</td>\n",
       "      <td>100.0</td>\n",
       "      <td>24.0</td>\n",
       "      <td>25.0</td>\n",
       "      <td>21.0</td>\n",
       "      <td>100.0</td>\n",
       "      <td>24.0</td>\n",
       "      <td>25.0</td>\n",
       "      <td>21.0</td>\n",
       "      <td>1166.0</td>\n",
       "    </tr>\n",
       "  </tbody>\n",
       "</table>\n",
       "<p>5 rows × 223 columns</p>\n",
       "</div>"
      ],
      "text/plain": [
       "    mobile_number  circle_id  loc_og_t2o_mou  std_og_t2o_mou  loc_ic_t2o_mou  \\\n",
       "0      7000842753        109             0.0             0.0             0.0   \n",
       "7      7000701601        109             0.0             0.0             0.0   \n",
       "8      7001524846        109             0.0             0.0             0.0   \n",
       "21     7002124215        109             0.0             0.0             0.0   \n",
       "23     7000887461        109             0.0             0.0             0.0   \n",
       "\n",
       "      arpu_6    arpu_7    arpu_8   arpu_9  onnet_mou_6  ...  sep_vbc_3g  \\\n",
       "0    197.385   214.816   213.803   21.100         0.00  ...        3.58   \n",
       "7   1069.180  1349.850  3171.480  500.000        57.84  ...        0.00   \n",
       "8    378.721   492.223   137.362  166.787       413.69  ...        0.00   \n",
       "21   514.453   597.753   637.760  578.596       102.41  ...        0.00   \n",
       "23    74.350   193.897   366.966  811.480        48.96  ...        0.00   \n",
       "\n",
       "    recent_rech_6  recent_rech_7  recent_rech_8  recent_rech_9  \\\n",
       "0             9.0           15.0           23.0          100.0   \n",
       "7           100.0          100.0          100.0          100.0   \n",
       "8           100.0            0.0            8.0          100.0   \n",
       "21          100.0          100.0          100.0          100.0   \n",
       "23          100.0           24.0           25.0           21.0   \n",
       "\n",
       "    recent_rech_data_6  recent_rech_data_7  recent_rech_data_8  \\\n",
       "0                  9.0                15.0                23.0   \n",
       "7                100.0               100.0               100.0   \n",
       "8                100.0                 0.0                 8.0   \n",
       "21               100.0               100.0               100.0   \n",
       "23               100.0                24.0                25.0   \n",
       "\n",
       "    recent_rech_data_9  good_phase_spend  \n",
       "0                100.0            1118.0  \n",
       "7                100.0            2370.0  \n",
       "8                100.0            1392.0  \n",
       "21               100.0            1280.0  \n",
       "23                21.0            1166.0  \n",
       "\n",
       "[5 rows x 223 columns]"
      ]
     },
     "execution_count": 51,
     "metadata": {},
     "output_type": "execute_result"
    }
   ],
   "source": [
    "high_value_customers.head()"
   ]
  },
  {
   "cell_type": "code",
   "execution_count": 52,
   "id": "b8137aff",
   "metadata": {},
   "outputs": [
    {
     "data": {
      "text/plain": [
       "(29953, 223)"
      ]
     },
     "execution_count": 52,
     "metadata": {},
     "output_type": "execute_result"
    }
   ],
   "source": [
    "high_value_customers.shape"
   ]
  },
  {
   "cell_type": "markdown",
   "id": "9bc48814",
   "metadata": {},
   "source": [
    "#### Since we have a derived column from 6 columns, we can drop all 6"
   ]
  },
  {
   "cell_type": "code",
   "execution_count": 53,
   "id": "a6a0cf60",
   "metadata": {},
   "outputs": [],
   "source": [
    "high_value_customers = high_value_customers.drop([\"total_rech_amt_6\", \"total_rech_amt_7\", \"total_rech_data_6\", \"total_rech_data_7\", \"av_rech_amt_data_6\", \"av_rech_amt_data_7\"], axis=1)"
   ]
  },
  {
   "cell_type": "markdown",
   "id": "18045d17",
   "metadata": {},
   "source": [
    "### Lets get to tagging churners\n",
    "#### According to problem statement, churners are those who have not consumed any services like voice and data in September"
   ]
  },
  {
   "cell_type": "markdown",
   "id": "d1874608",
   "metadata": {},
   "source": [
    "#### We can identify churners easily by just summing up \"total_ic_mou_9\" + \"total_og_mou_9\" + \"vol_2g_mb_9\" + \"vol_3g_mb_9\"\n",
    "If the sum  = 0, the subscriber hasnt used and services"
   ]
  },
  {
   "cell_type": "code",
   "execution_count": 54,
   "id": "70192106",
   "metadata": {},
   "outputs": [],
   "source": [
    "high_value_customers[\"churn\"] = high_value_customers[\"total_ic_mou_9\"] + high_value_customers[\"total_og_mou_9\"] + \\\n",
    "                                high_value_customers[\"vol_2g_mb_9\"] + high_value_customers[\"vol_3g_mb_9\"]"
   ]
  },
  {
   "cell_type": "code",
   "execution_count": 55,
   "id": "0d6f2ab8",
   "metadata": {},
   "outputs": [
    {
     "data": {
      "text/plain": [
       "0    27520\n",
       "1     2433\n",
       "Name: churn, dtype: int64"
      ]
     },
     "execution_count": 55,
     "metadata": {},
     "output_type": "execute_result"
    }
   ],
   "source": [
    "high_value_customers[\"churn\"] = high_value_customers[\"churn\"].apply(lambda x: 1 if x == 0 else 0)\n",
    "high_value_customers[\"churn\"].value_counts()"
   ]
  },
  {
   "cell_type": "markdown",
   "id": "61e80fbe",
   "metadata": {},
   "source": [
    "#### Of the 29953 high value customers, 2433 have not used any services in September. Hence, we consider them as churned\n",
    "\n",
    "#### We shall now drop all columns for September"
   ]
  },
  {
   "cell_type": "code",
   "execution_count": 56,
   "id": "3520bb45",
   "metadata": {},
   "outputs": [],
   "source": [
    "high_value_customers = high_value_customers.drop([\"onnet_mou_9\", \"offnet_mou_9\", \"roam_ic_mou_9\", \\\n",
    "    \"roam_og_mou_9\", \"loc_og_t2t_mou_9\", \"loc_og_t2m_mou_9\", \"loc_og_t2f_mou_9\", \"loc_og_t2c_mou_9\", \"loc_og_mou_9\", \\\n",
    "    \"std_og_t2t_mou_9\", \"std_og_t2m_mou_9\", \"std_og_t2f_mou_9\", \"std_og_t2c_mou_9\", \"std_og_mou_9\", \"isd_og_mou_9\", \\\n",
    "    \"spl_og_mou_9\", \"og_others_9\", \"total_og_mou_9\", \"loc_ic_t2t_mou_9\", \"loc_ic_t2m_mou_9\", \"loc_ic_t2f_mou_9\", \\\n",
    "    \"loc_ic_mou_9\", \"std_ic_t2t_mou_9\", \"std_ic_t2m_mou_9\", \"std_ic_t2f_mou_9\", \"std_ic_t2o_mou_9\", \"std_ic_mou_9\", \\\n",
    "    \"total_ic_mou_9\", \"spl_ic_mou_9\", \"isd_ic_mou_9\", \"ic_others_9\", \"total_rech_num_9\", \"total_rech_amt_9\", \"max_rech_amt_9\", \\\n",
    "    \"last_day_rch_amt_9\", \"total_rech_data_9\", \"max_rech_data_9\", \"count_rech_2g_9\", \"count_rech_3g_9\", \"av_rech_amt_data_9\", \\\n",
    "    \"vol_2g_mb_9\", \"vol_3g_mb_9\", \"arpu_3g_9\", \"arpu_2g_9\", \"night_pck_user_9\", \"monthly_2g_9\", \"sachet_2g_9\", \\\n",
    "    \"monthly_3g_9\", \"sachet_3g_9\", \"fb_user_9\", \"sep_vbc_3g\"], axis = 1)"
   ]
  },
  {
   "cell_type": "markdown",
   "id": "66509b9c",
   "metadata": {},
   "source": [
    "#### Lets see if any cloumns for September are still there"
   ]
  },
  {
   "cell_type": "code",
   "execution_count": 57,
   "id": "3728739d",
   "metadata": {},
   "outputs": [
    {
     "name": "stdout",
     "output_type": "stream",
     "text": [
      "Column uniquely belong to September\n"
     ]
    },
    {
     "data": {
      "text/plain": [
       "Index(['arpu_9', 'recent_rech_9', 'recent_rech_data_9'], dtype='object')"
      ]
     },
     "execution_count": 57,
     "metadata": {},
     "output_type": "execute_result"
    }
   ],
   "source": [
    "col_list = high_value_customers.filter(regex='_9').columns\n",
    "print('Column uniquely belong to September')\n",
    "col_list.unique()"
   ]
  },
  {
   "cell_type": "code",
   "execution_count": 58,
   "id": "73df98ec",
   "metadata": {},
   "outputs": [],
   "source": [
    "high_value_customers = high_value_customers.drop([\"arpu_9\", \"recent_rech_9\", \"recent_rech_data_9\"], axis=1)"
   ]
  },
  {
   "cell_type": "markdown",
   "id": "abced92e",
   "metadata": {},
   "source": [
    "## 3.  EDA"
   ]
  },
  {
   "cell_type": "markdown",
   "id": "230f6f0f",
   "metadata": {},
   "source": [
    "## Derive some new feautres from the existing columns"
   ]
  },
  {
   "cell_type": "code",
   "execution_count": 61,
   "id": "a87b9910",
   "metadata": {},
   "outputs": [
    {
     "name": "stdout",
     "output_type": "stream",
     "text": [
      "Column uniquely belong to 6th and 7th months\n"
     ]
    },
    {
     "data": {
      "text/plain": [
       "Index(['arpu', 'onnet_mou', 'offnet_mou', 'roam_ic_mou', 'roam_og_mou',\n",
       "       'loc_og_t2t_mou', 'loc_og_t2m_mou', 'loc_og_t2f_mou', 'loc_og_t2c_mou',\n",
       "       'loc_og_mou', 'std_og_t2t_mou', 'std_og_t2m_mou', 'std_og_t2f_mou',\n",
       "       'std_og_t2c_mou', 'std_og_mou', 'isd_og_mou', 'spl_og_mou', 'og_others',\n",
       "       'total_og_mou', 'loc_ic_t2t_mou', 'loc_ic_t2m_mou', 'loc_ic_t2f_mou',\n",
       "       'loc_ic_mou', 'std_ic_t2t_mou', 'std_ic_t2m_mou', 'std_ic_t2f_mou',\n",
       "       'std_ic_t2o_mou', 'std_ic_mou', 'total_ic_mou', 'spl_ic_mou',\n",
       "       'isd_ic_mou', 'ic_others', 'total_rech_num', 'max_rech_amt',\n",
       "       'last_day_rch_amt', 'max_rech_data', 'count_rech_2g', 'count_rech_3g',\n",
       "       'vol_2g_mb', 'vol_3g_mb', 'arpu_3g', 'arpu_2g', 'night_pck_user',\n",
       "       'monthly_2g', 'sachet_2g', 'monthly_3g', 'sachet_3g', 'fb_user',\n",
       "       'recent_rech', 'recent_rech_data'],\n",
       "      dtype='object')"
      ]
     },
     "execution_count": 61,
     "metadata": {},
     "output_type": "execute_result"
    }
   ],
   "source": [
    "# average  of 6th & 7th months\n",
    "# 6th and 7th months\n",
    "col_list = high_value_customers.filter(regex='_6|_7').columns.str[:-2]\n",
    "print('Column uniquely belong to 6th and 7th months')\n",
    "col_list.unique()"
   ]
  },
  {
   "cell_type": "markdown",
   "id": "91e0fbaf",
   "metadata": {},
   "source": [
    "## calculate Average value of  6 and 7 "
   ]
  },
  {
   "cell_type": "code",
   "execution_count": 62,
   "id": "bf70deb2",
   "metadata": {},
   "outputs": [],
   "source": [
    "for idx, col in enumerate(col_list.unique()):\n",
    "    avg_col_name = \"avg_\"+col+\"_av67\"\n",
    "    col_6 = col+\"_6\"\n",
    "    col_7 = col+\"_7\"\n",
    "    high_value_customers[avg_col_name] = (high_value_customers[col_6]  + high_value_customers[col_7])/ 2"
   ]
  },
  {
   "cell_type": "code",
   "execution_count": 63,
   "id": "2c49b266",
   "metadata": {},
   "outputs": [
    {
     "name": "stdout",
     "output_type": "stream",
     "text": [
      "Dataset dimention after creating derived features: (29953, 214)\n"
     ]
    }
   ],
   "source": [
    "print (\"Dataset dimention after creating derived features:\",high_value_customers.shape)"
   ]
  },
  {
   "cell_type": "code",
   "execution_count": 64,
   "id": "8e9fe85a",
   "metadata": {},
   "outputs": [
    {
     "name": "stdout",
     "output_type": "stream",
     "text": [
      "Dataset dimention after dropping not required columns (other than 6th 7th month data): (29953, 114)\n"
     ]
    }
   ],
   "source": [
    "# Drop the original columns\n",
    "col_to_drop = high_value_customers.filter(regex='_6|_7').columns\n",
    "high_value_customers.drop(col_to_drop, axis=1, inplace=True)\n",
    "\n",
    "print(\"Dataset dimention after dropping not required columns (other than 6th 7th month data):\",high_value_customers.shape)"
   ]
  },
  {
   "cell_type": "markdown",
   "id": "5e776f25",
   "metadata": {},
   "source": [
    "## calculate AON interms of month"
   ]
  },
  {
   "cell_type": "code",
   "execution_count": 65,
   "id": "a3533ea7",
   "metadata": {},
   "outputs": [
    {
     "data": {
      "text/plain": [
       "0     32.27\n",
       "7     26.73\n",
       "8     10.50\n",
       "21    24.00\n",
       "23    20.13\n",
       "Name: aon_mon, dtype: float64"
      ]
     },
     "execution_count": 65,
     "metadata": {},
     "output_type": "execute_result"
    }
   ],
   "source": [
    "# Age on network - number of days the customer is using the operator T network its in days \n",
    "# Conevrt AON in months\n",
    "\n",
    "high_value_customers['aon_mon'] = high_value_customers['aon']/30\n",
    "high_value_customers.drop('aon', axis=1, inplace=True)\n",
    "round(high_value_customers['aon_mon'].head(),2)"
   ]
  },
  {
   "cell_type": "markdown",
   "id": "eace4c93",
   "metadata": {},
   "source": [
    " ## Correlation  between features for high valued customer"
   ]
  },
  {
   "cell_type": "code",
   "execution_count": 66,
   "id": "769d367f",
   "metadata": {},
   "outputs": [
    {
     "data": {
      "text/plain": [
       "Text(0.5, 1.0, 'Tenure Graph')"
      ]
     },
     "execution_count": 66,
     "metadata": {},
     "output_type": "execute_result"
    },
    {
     "data": {
      "image/png": "[encoded data removed]",
      "text/plain": [
       "<Figure size 432x288 with 1 Axes>"
      ]
     },
     "metadata": {
      "needs_background": "light"
     },
     "output_type": "display_data"
    }
   ],
   "source": [
    "ax = sns.distplot(high_value_customers['aon_mon'], hist=True, kde=False, \n",
    "             bins=int(180/5), color = 'blue', \n",
    "             hist_kws={'edgecolor':'red'},\n",
    "             kde_kws={'linewidth': 10})\n",
    "ax.set_ylabel('No of Customers')\n",
    "ax.set_xlabel('Tenure in months')\n",
    "ax.set_title('Tenure Graph')"
   ]
  },
  {
   "cell_type": "code",
   "execution_count": 67,
   "id": "ed4d1f7e",
   "metadata": {},
   "outputs": [
    {
     "data": {
      "text/plain": [
       "0         2-5 Yrs\n",
       "7         2-5 Yrs\n",
       "8     6-12 Months\n",
       "21        1-2 Yrs\n",
       "23        1-2 Yrs\n",
       "Name: tenure_range, dtype: category\n",
       "Categories (5, object): ['0-6 Months' < '6-12 Months' < '1-2 Yrs' < '2-5 Yrs' < '5 Yrs and above']"
      ]
     },
     "execution_count": 67,
     "metadata": {},
     "output_type": "execute_result"
    }
   ],
   "source": [
    "tenure_range = [0, 6, 12, 24, 60, 61]\n",
    "tenure_label = [ '0-6 Months', '6-12 Months', '1-2 Yrs', '2-5 Yrs', '5 Yrs and above']\n",
    "high_value_customers['tenure_range'] = pd.cut(high_value_customers['aon_mon'], tenure_range, labels=tenure_label)\n",
    "high_value_customers['tenure_range'].head()"
   ]
  },
  {
   "cell_type": "markdown",
   "id": "4cbbed37",
   "metadata": {},
   "source": [
    "### Inference : \n",
    "-  There are many cusotmers less than a year than more than customers 40 month  with service providers\n",
    " - These longevity of the cusotmer with service provider is not consider for high valued cusotmer."
   ]
  },
  {
   "cell_type": "markdown",
   "id": "f1a064a5",
   "metadata": {},
   "source": [
    "## correlation of churn with other columns"
   ]
  },
  {
   "cell_type": "code",
   "execution_count": 68,
   "id": "d2498eb2",
   "metadata": {},
   "outputs": [
    {
     "data": {
      "text/plain": [
       "<AxesSubplot:>"
      ]
     },
     "execution_count": 68,
     "metadata": {},
     "output_type": "execute_result"
    },
    {
     "data": {
      "image/png": "[encoded data removed]",
      "text/plain": [
       "<Figure size 1440x720 with 1 Axes>"
      ]
     },
     "metadata": {
      "needs_background": "light"
     },
     "output_type": "display_data"
    }
   ],
   "source": [
    "#  correlation of churn with other columns\n",
    "plt.figure(figsize=(20,10))\n",
    "high_value_customers.corr()['churn'].sort_values(ascending = False).plot(kind='bar')"
   ]
  },
  {
   "cell_type": "markdown",
   "id": "aecee2c9",
   "metadata": {},
   "source": [
    "### Inference : \n",
    "-  Avg Outgoing Calls & calls on romaning for 6 & 7th months are positively correlated with churn. \n",
    "-  Avg Revenue, No. Of Recharge for 8th month has negative correlation with churn."
   ]
  },
  {
   "cell_type": "markdown",
   "id": "25cce395",
   "metadata": {},
   "source": [
    "### Relation between Total recharge vs avg revenue for the 8th month"
   ]
  },
  {
   "cell_type": "code",
   "execution_count": 69,
   "id": "85686d4e",
   "metadata": {},
   "outputs": [
    {
     "data": {
      "text/plain": [
       "<AxesSubplot:xlabel='total_rech_num_8', ylabel='arpu_8'>"
      ]
     },
     "execution_count": 69,
     "metadata": {},
     "output_type": "execute_result"
    },
    {
     "data": {
      "image/png": "[encoded data removed]",
      "text/plain": [
       "<Figure size 432x288 with 1 Axes>"
      ]
     },
     "metadata": {
      "needs_background": "light"
     },
     "output_type": "display_data"
    }
   ],
   "source": [
    "high_value_customers[['total_rech_num_8', 'arpu_8']].plot.scatter(x = 'total_rech_num_8',\n",
    "                                                              y='arpu_8')"
   ]
  },
  {
   "cell_type": "markdown",
   "id": "fab789fa",
   "metadata": {},
   "source": [
    "### Inference:\n",
    "\n",
    " -  Relation between Total recharge vs avg revenue for the 8th month  is  not provoding much insight"
   ]
  },
  {
   "cell_type": "markdown",
   "id": "4a6e2da3",
   "metadata": {},
   "source": [
    "### Relation between  tenure/AON monthly  vs revenue (avg arpu)"
   ]
  },
  {
   "cell_type": "code",
   "execution_count": 70,
   "id": "7f106db8",
   "metadata": {},
   "outputs": [
    {
     "data": {
      "text/plain": [
       "<AxesSubplot:xlabel='aon_mon', ylabel='avg_arpu_av67'>"
      ]
     },
     "execution_count": 70,
     "metadata": {},
     "output_type": "execute_result"
    },
    {
     "data": {
      "image/png": "[encoded data removed]",
      "text/plain": [
       "<Figure size 432x288 with 1 Axes>"
      ]
     },
     "metadata": {
      "needs_background": "light"
     },
     "output_type": "display_data"
    }
   ],
   "source": [
    "# plot between tenure vs revenue\n",
    "high_value_customers[['aon_mon', 'avg_arpu_av67']].plot.scatter(x = 'aon_mon',\n",
    "                                                              y='avg_arpu_av67')"
   ]
  },
  {
   "cell_type": "markdown",
   "id": "1089fb01",
   "metadata": {},
   "source": [
    "### Inference:\n",
    "\n",
    " -  Relation between  tenure/AON monthly  vs revenue (avg arpu) is direclty proportional Aon_mon vs Avg arpu for 6 and 7th month     is very consistent"
   ]
  },
  {
   "cell_type": "markdown",
   "id": "199c6c47",
   "metadata": {},
   "source": [
    "### Relation between  tenure/AON monthly  vs Churn"
   ]
  },
  {
   "cell_type": "code",
   "execution_count": 71,
   "id": "ebc52af9",
   "metadata": {},
   "outputs": [
    {
     "data": {
      "text/plain": [
       "<AxesSubplot:xlabel='churn', ylabel='aon_mon'>"
      ]
     },
     "execution_count": 71,
     "metadata": {},
     "output_type": "execute_result"
    },
    {
     "data": {
      "image/png": "[encoded data removed]",
      "text/plain": [
       "<Figure size 432x288 with 1 Axes>"
      ]
     },
     "metadata": {
      "needs_background": "light"
     },
     "output_type": "display_data"
    }
   ],
   "source": [
    "sns.boxplot(x = high_value_customers.churn, y = high_value_customers.aon_mon)"
   ]
  },
  {
   "cell_type": "markdown",
   "id": "68a3b485",
   "metadata": {},
   "source": [
    "### Inference:\n",
    "\n",
    "-  the cusomter who has attributing to long  AON  tend to less chance of churn  than those who has less AON with service provider."
   ]
  },
  {
   "cell_type": "markdown",
   "id": "04c7d136",
   "metadata": {},
   "source": [
    "### Relation between Churn Vs Average recharge amount  (6th & 7th month)  (volume Base cost )"
   ]
  },
  {
   "cell_type": "code",
   "execution_count": 72,
   "id": "9a6c41a9",
   "metadata": {},
   "outputs": [
    {
     "data": {
      "text/plain": [
       "Text(0.5, 1.0, 'Churn Vs Base Cost')"
      ]
     },
     "execution_count": 72,
     "metadata": {},
     "output_type": "execute_result"
    },
    {
     "data": {
      "image/png": "[encoded data removed]",
      "text/plain": [
       "<Figure size 432x288 with 1 Axes>"
      ]
     },
     "metadata": {
      "needs_background": "light"
     },
     "output_type": "display_data"
    }
   ],
   "source": [
    "ax = sns.kdeplot(high_value_customers.avg_max_rech_amt_av67[(high_value_customers[\"churn\"] == 0)],\n",
    "                color=\"Green\", shade = True)\n",
    "ax = sns.kdeplot(high_value_customers.avg_max_rech_amt_av67[(high_value_customers[\"churn\"] == 1)],\n",
    "                ax =ax, color=\"Red\", shade= True)\n",
    "ax.legend([\"No-Churn\",\"Churn\"],loc='upper right')\n",
    "ax.set_ylabel('Density')\n",
    "ax.set_xlabel('Volume based cost')\n",
    "ax.set_title('Churn Vs Base Cost')"
   ]
  },
  {
   "cell_type": "markdown",
   "id": "2ed5abca",
   "metadata": {},
   "source": [
    " ### Relation between Churn Vs Max  recharge amount  in 8th month (volume Base cost )"
   ]
  },
  {
   "cell_type": "code",
   "execution_count": 73,
   "id": "a2703098",
   "metadata": {},
   "outputs": [
    {
     "data": {
      "text/plain": [
       "Text(0.5, 1.0, 'Distribution of Max Recharge Amount by churn')"
      ]
     },
     "execution_count": 73,
     "metadata": {},
     "output_type": "execute_result"
    },
    {
     "data": {
      "image/png": "[encoded data removed]",
      "text/plain": [
       "<Figure size 432x288 with 1 Axes>"
      ]
     },
     "metadata": {
      "needs_background": "light"
     },
     "output_type": "display_data"
    }
   ],
   "source": [
    "ax = sns.kdeplot(high_value_customers.max_rech_amt_8[(high_value_customers[\"churn\"] == 0)],\n",
    "                color=\"Green\", shade = True)\n",
    "ax = sns.kdeplot(high_value_customers.max_rech_amt_8[(high_value_customers[\"churn\"] == 1)],\n",
    "                ax =ax, color=\"Red\", shade= True)\n",
    "ax.legend([\"No-Churn\",\"Churn\"],loc='upper right')\n",
    "ax.set_ylabel('Density')\n",
    "ax.set_xlabel('Volume based cost')\n",
    "ax.set_title('Distribution of Max Recharge Amount by churn')"
   ]
  },
  {
   "cell_type": "markdown",
   "id": "c9a13d7a",
   "metadata": {},
   "source": [
    "### Inference:\n",
    "\n",
    "-  The high volume of people who has recharged , density of  the Avergare recharge indicate less likely to churn\n",
    "- In continum to  Maximum rechanrge amount in 8th month and density clearly indicates the people are very least liekly to churn , hence we in other way less volument based cost customer high rate of churning based on the 6th 7th, 8th month data\n",
    "- Local Incoming for 8th month, Arpu for 8th month and Max Recharge Amount for 8th month  are the positve impact on the retaining a reccuring customer."
   ]
  },
  {
   "cell_type": "markdown",
   "id": "74b94577",
   "metadata": {},
   "source": [
    "## 4.0  Modelling"
   ]
  },
  {
   "cell_type": "code",
   "execution_count": 74,
   "id": "f5a9d7f9",
   "metadata": {},
   "outputs": [],
   "source": [
    "# we will create a new dataset for model_df building\n",
    "model_df = high_value_customers[:].copy()"
   ]
  },
  {
   "cell_type": "code",
   "execution_count": 75,
   "id": "61f02fb4",
   "metadata": {},
   "outputs": [
    {
     "name": "stdout",
     "output_type": "stream",
     "text": [
      "1\n",
      "['tenure_range']\n"
     ]
    }
   ],
   "source": [
    "nullcolums = []\n",
    "\n",
    "# are null column more than 0 nul val exist \n",
    "for i in model_df.isnull().sum().index:\n",
    "    if model_df.isnull().sum()[i] > 0:\n",
    "        nullcolums.append(i)\n",
    "   \n",
    " \n",
    "print(len(nullcolums))\n",
    "print(nullcolums)"
   ]
  },
  {
   "cell_type": "markdown",
   "id": "3a488c06",
   "metadata": {},
   "source": [
    "###  4.1  tenure is not adding value -  correlated with AON month"
   ]
  },
  {
   "cell_type": "code",
   "execution_count": 76,
   "id": "ef4103f3",
   "metadata": {},
   "outputs": [
    {
     "name": "stdout",
     "output_type": "stream",
     "text": [
      "<class 'pandas.core.frame.DataFrame'>\n",
      "Int64Index: 29953 entries, 0 to 99997\n",
      "Columns: 113 entries, circle_id to aon_mon\n",
      "dtypes: float64(103), int64(10)\n",
      "memory usage: 26.1 MB\n"
     ]
    }
   ],
   "source": [
    "model_df.drop('tenure_range', axis=1, inplace=True)\n",
    "model_df.drop('mobile_number', axis=1, inplace=True)\n",
    "model_df.info()"
   ]
  },
  {
   "cell_type": "markdown",
   "id": "505e13bb",
   "metadata": {},
   "source": [
    "### 4.2 Creating  X & y dataset for model_df building, \n",
    "\n",
    " -  X will obviously  independent features\n",
    " -  y will only have \"churn\""
   ]
  },
  {
   "cell_type": "code",
   "execution_count": 77,
   "id": "c9fdf007",
   "metadata": {},
   "outputs": [
    {
     "name": "stdout",
     "output_type": "stream",
     "text": [
      "<class 'pandas.core.frame.DataFrame'>\n",
      "Int64Index: 29953 entries, 0 to 99997\n",
      "Columns: 112 entries, circle_id to aon_mon\n",
      "dtypes: float64(103), int64(9)\n",
      "memory usage: 25.8 MB\n"
     ]
    }
   ],
   "source": [
    "X = model_df.drop(['churn'], axis=1)\n",
    "y = model_df['churn']\n",
    "\n",
    "model_df.drop('churn', axis=1, inplace=True)\n",
    "\n",
    "model_df.info()"
   ]
  },
  {
   "cell_type": "markdown",
   "id": "cafc44f8",
   "metadata": {},
   "source": [
    "## 4.3  Scalling the data \n",
    "- used here standard scaler"
   ]
  },
  {
   "cell_type": "code",
   "execution_count": 78,
   "id": "6d0c642d",
   "metadata": {},
   "outputs": [],
   "source": [
    "# apply scaling on the dataset\n",
    "from sklearn import preprocessing\n",
    "from sklearn.preprocessing import StandardScaler\n",
    "\n",
    "scaler = StandardScaler()\n",
    "X = scaler.fit_transform(X)"
   ]
  },
  {
   "cell_type": "markdown",
   "id": "d9b3ea8a",
   "metadata": {},
   "source": [
    "### We have to deal with class imbalance at the time of train-test split. We have to use the stratify parameter"
   ]
  },
  {
   "cell_type": "code",
   "execution_count": 79,
   "id": "8b603047",
   "metadata": {},
   "outputs": [
    {
     "name": "stdout",
     "output_type": "stream",
     "text": [
      "Dimension of X_train: (20967, 112)\n",
      "Dimension of X_test: (8986, 112)\n"
     ]
    }
   ],
   "source": [
    "# split the dateset into train and test datasets\n",
    "from sklearn.model_selection import train_test_split\n",
    "\n",
    "X_train, X_test, y_train, y_test = train_test_split(X, y, test_size=0.3, train_size=0.7, random_state=1, stratify=y)\n",
    "print(\"Dimension of X_train:\", X_train.shape)\n",
    "print(\"Dimension of X_test:\", X_test.shape)"
   ]
  },
  {
   "cell_type": "markdown",
   "id": "3cf31850",
   "metadata": {},
   "source": [
    "## 4.4  Now that we have the correct split, we need to increase the number of churns so that our models learn better. Lets use Synthetic Minority Oversampling Technique SMOTE over here"
   ]
  },
  {
   "cell_type": "code",
   "execution_count": 81,
   "id": "1dbda5dc",
   "metadata": {},
   "outputs": [
    {
     "name": "stdout",
     "output_type": "stream",
     "text": [
      "Collecting imblearn\n",
      "  Downloading imblearn-0.0-py2.py3-none-any.whl (1.9 kB)\n",
      "Collecting imbalanced-learn\n",
      "  Downloading imbalanced_learn-0.8.1-py3-none-any.whl (189 kB)\n",
      "\u001b[K     |████████████████████████████████| 189 kB 5.4 MB/s eta 0:00:01\n",
      "\u001b[?25hRequirement already satisfied: scikit-learn>=0.24 in /Users/aparnachetan/opt/anaconda3/lib/python3.8/site-packages (from imbalanced-learn->imblearn) (0.24.1)\n",
      "Requirement already satisfied: joblib>=0.11 in /Users/aparnachetan/opt/anaconda3/lib/python3.8/site-packages (from imbalanced-learn->imblearn) (1.0.1)\n",
      "Requirement already satisfied: scipy>=0.19.1 in /Users/aparnachetan/opt/anaconda3/lib/python3.8/site-packages (from imbalanced-learn->imblearn) (1.6.2)\n",
      "Requirement already satisfied: numpy>=1.13.3 in /Users/aparnachetan/opt/anaconda3/lib/python3.8/site-packages (from imbalanced-learn->imblearn) (1.20.1)\n",
      "Requirement already satisfied: threadpoolctl>=2.0.0 in /Users/aparnachetan/opt/anaconda3/lib/python3.8/site-packages (from scikit-learn>=0.24->imbalanced-learn->imblearn) (2.1.0)\n",
      "Installing collected packages: imbalanced-learn, imblearn\n",
      "Successfully installed imbalanced-learn-0.8.1 imblearn-0.0\n",
      "Note: you may need to restart the kernel to use updated packages.\n"
     ]
    }
   ],
   "source": [
    "pip install imblearn"
   ]
  },
  {
   "cell_type": "code",
   "execution_count": 82,
   "id": "44374e33",
   "metadata": {},
   "outputs": [],
   "source": [
    "from collections import Counter\n",
    "from sklearn.datasets import make_classification\n",
    "from imblearn.over_sampling import SMOTE "
   ]
  },
  {
   "cell_type": "code",
   "execution_count": 85,
   "id": "590b3cf4",
   "metadata": {},
   "outputs": [],
   "source": [
    "#  given dataset is skewed, balance dataset\n",
    "sm = SMOTE(random_state=42)\n",
    "X_tr,y_tr = sm.fit_resample(X_train,y_train)"
   ]
  },
  {
   "cell_type": "code",
   "execution_count": 86,
   "id": "e5300abf",
   "metadata": {},
   "outputs": [
    {
     "name": "stdout",
     "output_type": "stream",
     "text": [
      "Dimension of X_tr Shape: (38528, 112)\n",
      "Dimension of y_tr Shape: (38528,)\n",
      "Imbalance in Training dataset: 1.0\n"
     ]
    }
   ],
   "source": [
    "print(\"Dimension of X_tr Shape:\", X_tr.shape)\n",
    "print(\"Dimension of y_tr Shape:\", y_tr.shape)\n",
    "\n",
    "print(\"Imbalance in Training dataset:\",(y_tr != 0).sum()/(y_tr == 0).sum())"
   ]
  },
  {
   "cell_type": "markdown",
   "id": "8c087113",
   "metadata": {},
   "source": [
    "# 5.0 PCA"
   ]
  },
  {
   "cell_type": "code",
   "execution_count": 87,
   "id": "511481c8",
   "metadata": {},
   "outputs": [
    {
     "data": {
      "text/plain": [
       "PCA(random_state=42)"
      ]
     },
     "execution_count": 87,
     "metadata": {},
     "output_type": "execute_result"
    }
   ],
   "source": [
    "# import PCA\n",
    "from sklearn.decomposition import PCA\n",
    "pca = PCA(random_state=42)\n",
    "\n",
    "# apply PCA on train data\n",
    "pca.fit(X_tr)"
   ]
  },
  {
   "cell_type": "code",
   "execution_count": 88,
   "id": "5e81a87a",
   "metadata": {},
   "outputs": [
    {
     "data": {
      "text/plain": [
       "array([[ 2.60309419e-19, -1.66533454e-16,  2.22044605e-16, ...,\n",
       "        -2.23560999e-01, -2.23560999e-01,  3.18128547e-02],\n",
       "       [-1.58757040e-19, -8.32667268e-17,  8.32667268e-17, ...,\n",
       "         6.06265400e-02,  6.06265400e-02,  6.68437822e-02],\n",
       "       [ 5.36550022e-20, -2.08166817e-17,  3.81639165e-17, ...,\n",
       "         5.87428756e-02,  5.87428756e-02, -7.14413591e-02],\n",
       "       ...,\n",
       "       [-0.00000000e+00, -3.41524130e-06,  2.59043742e-06, ...,\n",
       "         2.21340755e-07, -2.21340755e-07, -4.22330628e-18],\n",
       "       [ 9.99999278e-01, -6.31638565e-04,  8.19571693e-04, ...,\n",
       "        -1.57319454e-05,  1.57319454e-05, -3.90312782e-18],\n",
       "       [ 0.00000000e+00,  1.35093908e-01, -7.99413871e-02, ...,\n",
       "        -7.24186168e-02,  7.24186168e-02,  6.93889390e-17]])"
      ]
     },
     "execution_count": 88,
     "metadata": {},
     "output_type": "execute_result"
    }
   ],
   "source": [
    "pca.components_"
   ]
  },
  {
   "cell_type": "code",
   "execution_count": 89,
   "id": "0cd4cff5",
   "metadata": {},
   "outputs": [
    {
     "data": {
      "text/plain": [
       "array([1.34251942e-01, 1.01401659e-01, 6.24167319e-02, 6.14242881e-02,\n",
       "       4.79764441e-02, 3.57411373e-02, 3.46790467e-02, 3.35988356e-02,\n",
       "       3.11903853e-02, 2.47083487e-02, 2.20310813e-02, 2.07270410e-02,\n",
       "       1.99265430e-02, 1.79613057e-02, 1.78040098e-02, 1.56370059e-02,\n",
       "       1.47395228e-02, 1.42431043e-02, 1.26733057e-02, 1.22171494e-02,\n",
       "       1.21715437e-02, 1.17617037e-02, 1.16151598e-02, 1.14572303e-02,\n",
       "       1.09476926e-02, 1.02947913e-02, 9.94096595e-03, 9.52361814e-03,\n",
       "       8.67830271e-03, 8.47242117e-03, 7.90923975e-03, 7.77613876e-03,\n",
       "       7.55614086e-03, 7.16699074e-03, 7.09240760e-03, 6.91956447e-03,\n",
       "       6.58358238e-03, 6.46601382e-03, 5.90787083e-03, 5.86025600e-03,\n",
       "       5.60399310e-03, 5.54233857e-03, 5.05717585e-03, 4.54969719e-03,\n",
       "       3.95343942e-03, 3.70929022e-03, 3.63863622e-03, 3.58502967e-03,\n",
       "       3.31398263e-03, 3.14669475e-03, 2.98421743e-03, 2.84679313e-03,\n",
       "       2.73885108e-03, 2.69118654e-03, 2.55595777e-03, 2.42558850e-03,\n",
       "       2.32270405e-03, 2.26314347e-03, 2.18335060e-03, 2.11779598e-03,\n",
       "       2.04826298e-03, 1.96053017e-03, 1.88344373e-03, 1.77771485e-03,\n",
       "       1.66681917e-03, 1.59122267e-03, 1.52148264e-03, 1.44868271e-03,\n",
       "       1.34875253e-03, 1.21926592e-03, 1.00538597e-03, 9.39254552e-04,\n",
       "       8.98269557e-04, 7.65850886e-04, 6.20567902e-04, 5.67275812e-04,\n",
       "       5.15315383e-04, 4.33949393e-04, 4.24085640e-04, 3.01047676e-04,\n",
       "       2.34951304e-04, 1.13719130e-04, 3.07930153e-05, 2.34734510e-06,\n",
       "       6.20721378e-07, 9.04843183e-12, 4.00199144e-12, 3.58995130e-12,\n",
       "       1.86101687e-12, 1.32403393e-12, 1.09608244e-12, 8.35158396e-13,\n",
       "       6.94616904e-13, 4.94200213e-13, 3.29382086e-13, 1.87372965e-13,\n",
       "       1.33399512e-13, 6.73119269e-29, 2.64783191e-32, 2.86368960e-33,\n",
       "       1.58075422e-33, 7.32067152e-34, 5.54053243e-34, 5.54053243e-34,\n",
       "       5.54053243e-34, 5.54053243e-34, 5.54053243e-34, 5.54053243e-34,\n",
       "       5.54053243e-34, 5.54053243e-34, 5.52922875e-34, 1.05726349e-35])"
      ]
     },
     "execution_count": 89,
     "metadata": {},
     "output_type": "execute_result"
    }
   ],
   "source": [
    "pca.explained_variance_ratio_"
   ]
  },
  {
   "cell_type": "code",
   "execution_count": 90,
   "id": "efb9aea8",
   "metadata": {},
   "outputs": [
    {
     "data": {
      "text/plain": [
       "<BarContainer object of 112 artists>"
      ]
     },
     "execution_count": 90,
     "metadata": {},
     "output_type": "execute_result"
    },
    {
     "data": {
      "image/png": "[encoded data removed]",
      "text/plain": [
       "<Figure size 432x288 with 1 Axes>"
      ]
     },
     "metadata": {
      "needs_background": "light"
     },
     "output_type": "display_data"
    }
   ],
   "source": [
    "plt.bar(range(1,len(pca.explained_variance_ratio_)+1), pca.explained_variance_ratio_)"
   ]
  },
  {
   "cell_type": "code",
   "execution_count": 91,
   "id": "02738a79",
   "metadata": {},
   "outputs": [],
   "source": [
    "pca_cumsum =  np.cumsum(pca.explained_variance_ratio_) "
   ]
  },
  {
   "cell_type": "code",
   "execution_count": 92,
   "id": "97fab54d",
   "metadata": {},
   "outputs": [
    {
     "name": "stdout",
     "output_type": "stream",
     "text": [
      "(38528, 112)\n",
      "(8986, 112)\n"
     ]
    }
   ],
   "source": [
    "X_tr_pca = pca.fit_transform(X_tr)\n",
    "print(X_tr_pca.shape)\n",
    "\n",
    "X_test_pca = pca.transform(X_test)\n",
    "print(X_test_pca.shape)"
   ]
  },
  {
   "cell_type": "code",
   "execution_count": 93,
   "id": "ddaf6020",
   "metadata": {},
   "outputs": [],
   "source": [
    "from sklearn.linear_model import LogisticRegression\n",
    "from sklearn import metrics\n",
    "lr_pca = LogisticRegression(C=1e9)\n",
    "lr_pca.fit(X_tr_pca, y_tr)\n",
    "\n",
    "# make the predictions\n",
    "y_pred = lr_pca.predict(X_test_pca)\n",
    "\n",
    "# convert prediction array into a dataframe\n",
    "y_pred_model_df = pd.DataFrame(y_pred)"
   ]
  },
  {
   "cell_type": "code",
   "execution_count": 94,
   "id": "8ab90f99",
   "metadata": {},
   "outputs": [
    {
     "name": "stdout",
     "output_type": "stream",
     "text": [
      "[[6758 1498]\n",
      " [ 133  597]]\n",
      "Accuracy of the logistic regression model_df with PCA:  0.8184954373469842\n"
     ]
    }
   ],
   "source": [
    "from sklearn.metrics import classification_report, confusion_matrix, accuracy_score\n",
    "\n",
    "# Printing confusion matrix\n",
    "from sklearn.metrics import confusion_matrix\n",
    "print(confusion_matrix(y_test,y_pred))\n",
    "print(\"Accuracy of the logistic regression model_df with PCA: \",accuracy_score(y_test,y_pred))"
   ]
  },
  {
   "cell_type": "markdown",
   "id": "054a0f6c",
   "metadata": {},
   "source": [
    "## 5.1 Assuming 3 prinicple components "
   ]
  },
  {
   "cell_type": "code",
   "execution_count": 95,
   "id": "6b173d2c",
   "metadata": {},
   "outputs": [
    {
     "data": {
      "text/html": [
       "<div>\n",
       "<style scoped>\n",
       "    .dataframe tbody tr th:only-of-type {\n",
       "        vertical-align: middle;\n",
       "    }\n",
       "\n",
       "    .dataframe tbody tr th {\n",
       "        vertical-align: top;\n",
       "    }\n",
       "\n",
       "    .dataframe thead th {\n",
       "        text-align: right;\n",
       "    }\n",
       "</style>\n",
       "<table border=\"1\" class=\"dataframe\">\n",
       "  <thead>\n",
       "    <tr style=\"text-align: right;\">\n",
       "      <th></th>\n",
       "      <th>PC-1</th>\n",
       "      <th>PC-2</th>\n",
       "      <th>PC-3</th>\n",
       "      <th>Feature</th>\n",
       "    </tr>\n",
       "  </thead>\n",
       "  <tbody>\n",
       "    <tr>\n",
       "      <th>0</th>\n",
       "      <td>2.603094e-19</td>\n",
       "      <td>-1.587570e-19</td>\n",
       "      <td>5.365500e-20</td>\n",
       "      <td>circle_id</td>\n",
       "    </tr>\n",
       "    <tr>\n",
       "      <th>1</th>\n",
       "      <td>-1.665335e-16</td>\n",
       "      <td>-8.326673e-17</td>\n",
       "      <td>-2.081668e-17</td>\n",
       "      <td>loc_og_t2o_mou</td>\n",
       "    </tr>\n",
       "    <tr>\n",
       "      <th>2</th>\n",
       "      <td>2.220446e-16</td>\n",
       "      <td>8.326673e-17</td>\n",
       "      <td>3.816392e-17</td>\n",
       "      <td>std_og_t2o_mou</td>\n",
       "    </tr>\n",
       "    <tr>\n",
       "      <th>3</th>\n",
       "      <td>-0.000000e+00</td>\n",
       "      <td>-1.665335e-16</td>\n",
       "      <td>-6.938894e-17</td>\n",
       "      <td>loc_ic_t2o_mou</td>\n",
       "    </tr>\n",
       "    <tr>\n",
       "      <th>4</th>\n",
       "      <td>3.096692e-02</td>\n",
       "      <td>2.551449e-01</td>\n",
       "      <td>6.407687e-02</td>\n",
       "      <td>arpu_8</td>\n",
       "    </tr>\n",
       "    <tr>\n",
       "      <th>5</th>\n",
       "      <td>-6.351790e-02</td>\n",
       "      <td>1.503383e-01</td>\n",
       "      <td>5.505487e-02</td>\n",
       "      <td>onnet_mou_8</td>\n",
       "    </tr>\n",
       "    <tr>\n",
       "      <th>6</th>\n",
       "      <td>-4.335522e-02</td>\n",
       "      <td>1.930741e-01</td>\n",
       "      <td>-1.107538e-02</td>\n",
       "      <td>offnet_mou_8</td>\n",
       "    </tr>\n",
       "    <tr>\n",
       "      <th>7</th>\n",
       "      <td>-2.016580e-02</td>\n",
       "      <td>3.933625e-02</td>\n",
       "      <td>1.431200e-01</td>\n",
       "      <td>roam_ic_mou_8</td>\n",
       "    </tr>\n",
       "    <tr>\n",
       "      <th>8</th>\n",
       "      <td>-3.369520e-02</td>\n",
       "      <td>6.776654e-02</td>\n",
       "      <td>1.935789e-01</td>\n",
       "      <td>roam_og_mou_8</td>\n",
       "    </tr>\n",
       "    <tr>\n",
       "      <th>9</th>\n",
       "      <td>7.716765e-03</td>\n",
       "      <td>9.867228e-02</td>\n",
       "      <td>-8.435730e-02</td>\n",
       "      <td>loc_og_t2t_mou_8</td>\n",
       "    </tr>\n",
       "  </tbody>\n",
       "</table>\n",
       "</div>"
      ],
      "text/plain": [
       "           PC-1          PC-2          PC-3           Feature\n",
       "0  2.603094e-19 -1.587570e-19  5.365500e-20         circle_id\n",
       "1 -1.665335e-16 -8.326673e-17 -2.081668e-17    loc_og_t2o_mou\n",
       "2  2.220446e-16  8.326673e-17  3.816392e-17    std_og_t2o_mou\n",
       "3 -0.000000e+00 -1.665335e-16 -6.938894e-17    loc_ic_t2o_mou\n",
       "4  3.096692e-02  2.551449e-01  6.407687e-02            arpu_8\n",
       "5 -6.351790e-02  1.503383e-01  5.505487e-02       onnet_mou_8\n",
       "6 -4.335522e-02  1.930741e-01 -1.107538e-02      offnet_mou_8\n",
       "7 -2.016580e-02  3.933625e-02  1.431200e-01     roam_ic_mou_8\n",
       "8 -3.369520e-02  6.776654e-02  1.935789e-01     roam_og_mou_8\n",
       "9  7.716765e-03  9.867228e-02 -8.435730e-02  loc_og_t2t_mou_8"
      ]
     },
     "execution_count": 95,
     "metadata": {},
     "output_type": "execute_result"
    }
   ],
   "source": [
    "col = list(model_df.columns)\n",
    "model_df_pca = pd.DataFrame({'PC-1':pca.components_[0],'PC-2':pca.components_[1], 'PC-3':pca.components_[2],'Feature':col})\n",
    "model_df_pca.head(10)"
   ]
  },
  {
   "cell_type": "markdown",
   "id": "2b4f84c2",
   "metadata": {},
   "source": [
    "## 5.2 Initial  scree plot "
   ]
  },
  {
   "cell_type": "code",
   "execution_count": 96,
   "id": "70585d2e",
   "metadata": {},
   "outputs": [
    {
     "data": {
      "image/png": "[encoded data removed]",
      "text/plain": [
       "<Figure size 432x288 with 1 Axes>"
      ]
     },
     "metadata": {
      "needs_background": "light"
     },
     "output_type": "display_data"
    }
   ],
   "source": [
    "#plt.plot(range(1,len(pca_cumsum)+1), pca_cumsum)\n",
    "\n",
    "# scree plot to check the variance explained by different PCAs\n",
    "fig = plt.figure(figsize = (6,4))\n",
    "plt.plot(pca_cumsum)\n",
    "plt.xlabel('no of principal components')\n",
    "plt.ylabel('explained variance - cumulative')\n",
    "plt.show()"
   ]
  },
  {
   "cell_type": "code",
   "execution_count": 97,
   "id": "e83fc941",
   "metadata": {},
   "outputs": [
    {
     "data": {
      "text/plain": [
       "array([ 13.4,  23.5,  29.7,  35.8,  40.6,  44.2,  47.7,  51.1,  54.2,\n",
       "        56.7,  58.9,  61. ,  63. ,  64.8,  66.6,  68.2,  69.7,  71.1,\n",
       "        72.4,  73.6,  74.8,  76. ,  77.2,  78.3,  79.4,  80.4,  81.4,\n",
       "        82.4,  83.3,  84.1,  84.9,  85.7,  86.5,  87.2,  87.9,  88.6,\n",
       "        89.3,  89.9,  90.5,  91.1,  91.7,  92.3,  92.8,  93.3,  93.7,\n",
       "        94.1,  94.5,  94.9,  95.2,  95.5,  95.8,  96.1,  96.4,  96.7,\n",
       "        97. ,  97.2,  97.4,  97.6,  97.8,  98. ,  98.2,  98.4,  98.6,\n",
       "        98.8,  99. ,  99.2,  99.4,  99.5,  99.6,  99.7,  99.8,  99.9,\n",
       "       100. , 100.1, 100.2, 100.3, 100.4, 100.4, 100.4, 100.4, 100.4,\n",
       "       100.4, 100.4, 100.4, 100.4, 100.4, 100.4, 100.4, 100.4, 100.4,\n",
       "       100.4, 100.4, 100.4, 100.4, 100.4, 100.4, 100.4, 100.4, 100.4,\n",
       "       100.4, 100.4, 100.4, 100.4, 100.4, 100.4, 100.4, 100.4, 100.4,\n",
       "       100.4, 100.4, 100.4, 100.4])"
      ]
     },
     "execution_count": 97,
     "metadata": {},
     "output_type": "execute_result"
    }
   ],
   "source": [
    "np.cumsum(np.round(pca.explained_variance_ratio_, decimals=3)*100)"
   ]
  },
  {
   "cell_type": "markdown",
   "id": "7669abfe",
   "metadata": {},
   "source": [
    "### Inference: \n",
    " -  **40 columns explains ~90% of the variance**"
   ]
  },
  {
   "cell_type": "markdown",
   "id": "d2a8edfe",
   "metadata": {},
   "source": [
    "## 5.3 PCA with reduced features"
   ]
  },
  {
   "cell_type": "code",
   "execution_count": 99,
   "id": "8e7c4671",
   "metadata": {},
   "outputs": [
    {
     "name": "stdout",
     "output_type": "stream",
     "text": [
      "(38528, 40)\n",
      "(8986, 40)\n"
     ]
    }
   ],
   "source": [
    "# apply PCA with  components\n",
    "reduced_dim =40\n",
    "pca_reduced_vars = PCA(n_components=reduced_dim)\n",
    "\n",
    "df_pca_reduced_vars = pca_reduced_vars.fit_transform(X_tr)\n",
    "print(df_pca_reduced_vars.shape)\n",
    "\n",
    "model_df_test_pca_reduced_vars = pca_reduced_vars.transform(X_test)\n",
    "print(model_df_test_pca_reduced_vars.shape)"
   ]
  },
  {
   "cell_type": "code",
   "execution_count": 100,
   "id": "391374f9",
   "metadata": {},
   "outputs": [
    {
     "name": "stdout",
     "output_type": "stream",
     "text": [
      "Accuracy with 40 PCAs:  0.8102604050745604\n"
     ]
    }
   ],
   "source": [
    "# Let's run the model_df using the selected variables\n",
    "from sklearn.linear_model import LogisticRegression\n",
    "regularised_var =  1e9\n",
    "lr_pca1 = LogisticRegression(C = regularised_var)\n",
    "lr_pca1.fit(df_pca_reduced_vars, y_tr)\n",
    "\n",
    "# Predicted probabilities\n",
    "y_pred_reduced_dim = lr_pca1.predict(model_df_test_pca_reduced_vars)\n",
    "\n",
    "# Converting y_pred to a dataframe which is an array\n",
    "model_df_y_pred = pd.DataFrame(y_pred_reduced_dim)\n",
    "\n",
    "print(\"Accuracy with\",reduced_dim,\"PCAs: \",accuracy_score(y_test,y_pred_reduced_dim))"
   ]
  },
  {
   "cell_type": "code",
   "execution_count": 101,
   "id": "257c391d",
   "metadata": {},
   "outputs": [
    {
     "name": "stdout",
     "output_type": "stream",
     "text": [
      "[[6680 1576]\n",
      " [ 129  601]]\n"
     ]
    }
   ],
   "source": [
    "print(confusion_matrix(y_test,y_pred_reduced_dim))"
   ]
  },
  {
   "cell_type": "code",
   "execution_count": 102,
   "id": "54e522b6",
   "metadata": {},
   "outputs": [
    {
     "data": {
      "text/plain": [
       "<BarContainer object of 40 artists>"
      ]
     },
     "execution_count": 102,
     "metadata": {},
     "output_type": "execute_result"
    },
    {
     "data": {
      "image/png": "[encoded data removed]",
      "text/plain": [
       "<Figure size 432x288 with 1 Axes>"
      ]
     },
     "metadata": {
      "needs_background": "light"
     },
     "output_type": "display_data"
    }
   ],
   "source": [
    "plt.bar(range(1,len(pca_reduced_vars.explained_variance_ratio_)+1), pca_reduced_vars.explained_variance_ratio_)"
   ]
  },
  {
   "cell_type": "code",
   "execution_count": 103,
   "id": "59532b50",
   "metadata": {},
   "outputs": [],
   "source": [
    "pca_reduced_cumsum =  np.cumsum(pca_reduced_vars.explained_variance_ratio_) "
   ]
  },
  {
   "cell_type": "code",
   "execution_count": 104,
   "id": "6cf7777e",
   "metadata": {},
   "outputs": [
    {
     "data": {
      "image/png": "[encoded data removed]",
      "text/plain": [
       "<Figure size 432x288 with 1 Axes>"
      ]
     },
     "metadata": {
      "needs_background": "light"
     },
     "output_type": "display_data"
    }
   ],
   "source": [
    "fig = plt.figure(figsize = (6,4))\n",
    "plt.plot(pca_reduced_cumsum)\n",
    "plt.xlabel('no of principal components')\n",
    "plt.ylabel('explained variance - cumulative')\n",
    "plt.show()"
   ]
  },
  {
   "cell_type": "code",
   "execution_count": 105,
   "id": "7ff3a7bc",
   "metadata": {},
   "outputs": [
    {
     "data": {
      "text/html": [
       "<div>\n",
       "<style scoped>\n",
       "    .dataframe tbody tr th:only-of-type {\n",
       "        vertical-align: middle;\n",
       "    }\n",
       "\n",
       "    .dataframe tbody tr th {\n",
       "        vertical-align: top;\n",
       "    }\n",
       "\n",
       "    .dataframe thead th {\n",
       "        text-align: right;\n",
       "    }\n",
       "</style>\n",
       "<table border=\"1\" class=\"dataframe\">\n",
       "  <thead>\n",
       "    <tr style=\"text-align: right;\">\n",
       "      <th></th>\n",
       "      <th>PC-1</th>\n",
       "      <th>PC-2</th>\n",
       "      <th>PC-3</th>\n",
       "      <th>Feature</th>\n",
       "    </tr>\n",
       "  </thead>\n",
       "  <tbody>\n",
       "    <tr>\n",
       "      <th>0</th>\n",
       "      <td>-1.110223e-16</td>\n",
       "      <td>-1.110223e-16</td>\n",
       "      <td>2.081668e-17</td>\n",
       "      <td>circle_id</td>\n",
       "    </tr>\n",
       "    <tr>\n",
       "      <th>1</th>\n",
       "      <td>-0.000000e+00</td>\n",
       "      <td>-1.110223e-16</td>\n",
       "      <td>-6.938894e-17</td>\n",
       "      <td>loc_og_t2o_mou</td>\n",
       "    </tr>\n",
       "    <tr>\n",
       "      <th>2</th>\n",
       "      <td>-1.387779e-17</td>\n",
       "      <td>-2.775558e-17</td>\n",
       "      <td>4.996004e-16</td>\n",
       "      <td>std_og_t2o_mou</td>\n",
       "    </tr>\n",
       "    <tr>\n",
       "      <th>3</th>\n",
       "      <td>-0.000000e+00</td>\n",
       "      <td>-0.000000e+00</td>\n",
       "      <td>-1.942890e-16</td>\n",
       "      <td>loc_ic_t2o_mou</td>\n",
       "    </tr>\n",
       "    <tr>\n",
       "      <th>4</th>\n",
       "      <td>3.096692e-02</td>\n",
       "      <td>2.551449e-01</td>\n",
       "      <td>6.407687e-02</td>\n",
       "      <td>arpu_8</td>\n",
       "    </tr>\n",
       "    <tr>\n",
       "      <th>5</th>\n",
       "      <td>-6.351790e-02</td>\n",
       "      <td>1.503383e-01</td>\n",
       "      <td>5.505488e-02</td>\n",
       "      <td>onnet_mou_8</td>\n",
       "    </tr>\n",
       "    <tr>\n",
       "      <th>6</th>\n",
       "      <td>-4.335522e-02</td>\n",
       "      <td>1.930741e-01</td>\n",
       "      <td>-1.107537e-02</td>\n",
       "      <td>offnet_mou_8</td>\n",
       "    </tr>\n",
       "    <tr>\n",
       "      <th>7</th>\n",
       "      <td>-2.016580e-02</td>\n",
       "      <td>3.933625e-02</td>\n",
       "      <td>1.431200e-01</td>\n",
       "      <td>roam_ic_mou_8</td>\n",
       "    </tr>\n",
       "    <tr>\n",
       "      <th>8</th>\n",
       "      <td>-3.369520e-02</td>\n",
       "      <td>6.776654e-02</td>\n",
       "      <td>1.935789e-01</td>\n",
       "      <td>roam_og_mou_8</td>\n",
       "    </tr>\n",
       "    <tr>\n",
       "      <th>9</th>\n",
       "      <td>7.716766e-03</td>\n",
       "      <td>9.867227e-02</td>\n",
       "      <td>-8.435724e-02</td>\n",
       "      <td>loc_og_t2t_mou_8</td>\n",
       "    </tr>\n",
       "  </tbody>\n",
       "</table>\n",
       "</div>"
      ],
      "text/plain": [
       "           PC-1          PC-2          PC-3           Feature\n",
       "0 -1.110223e-16 -1.110223e-16  2.081668e-17         circle_id\n",
       "1 -0.000000e+00 -1.110223e-16 -6.938894e-17    loc_og_t2o_mou\n",
       "2 -1.387779e-17 -2.775558e-17  4.996004e-16    std_og_t2o_mou\n",
       "3 -0.000000e+00 -0.000000e+00 -1.942890e-16    loc_ic_t2o_mou\n",
       "4  3.096692e-02  2.551449e-01  6.407687e-02            arpu_8\n",
       "5 -6.351790e-02  1.503383e-01  5.505488e-02       onnet_mou_8\n",
       "6 -4.335522e-02  1.930741e-01 -1.107537e-02      offnet_mou_8\n",
       "7 -2.016580e-02  3.933625e-02  1.431200e-01     roam_ic_mou_8\n",
       "8 -3.369520e-02  6.776654e-02  1.935789e-01     roam_og_mou_8\n",
       "9  7.716766e-03  9.867227e-02 -8.435724e-02  loc_og_t2t_mou_8"
      ]
     },
     "execution_count": 105,
     "metadata": {},
     "output_type": "execute_result"
    }
   ],
   "source": [
    "col = list(model_df.columns)\n",
    "model_df_reduced = pd.DataFrame({'PC-1':pca_reduced_vars.components_[0],'PC-2':pca_reduced_vars.components_[1], 'PC-3':pca_reduced_vars.components_[2],'Feature':col})\n",
    "model_df_reduced.head(10)"
   ]
  },
  {
   "cell_type": "code",
   "execution_count": 106,
   "id": "0b122890",
   "metadata": {},
   "outputs": [
    {
     "name": "stdout",
     "output_type": "stream",
     "text": [
      "0            circle_id\n",
      "1       loc_og_t2o_mou\n",
      "2       std_og_t2o_mou\n",
      "3       loc_ic_t2o_mou\n",
      "4               arpu_8\n",
      "5          onnet_mou_8\n",
      "6         offnet_mou_8\n",
      "7        roam_ic_mou_8\n",
      "8        roam_og_mou_8\n",
      "9     loc_og_t2t_mou_8\n",
      "10    loc_og_t2m_mou_8\n",
      "11    loc_og_t2f_mou_8\n",
      "12    loc_og_t2c_mou_8\n",
      "13        loc_og_mou_8\n",
      "14    std_og_t2t_mou_8\n",
      "Name: Feature, dtype: object\n"
     ]
    }
   ],
   "source": [
    "print(model_df_reduced['Feature'].head(15))"
   ]
  },
  {
   "cell_type": "markdown",
   "id": "90f32593",
   "metadata": {},
   "source": [
    "### Inference:\n",
    "\n",
    "\n",
    "\n",
    " - model_df has 81% Accuracy\n",
    "-  40 features can explain 90% variance in the dataset\n",
    " - Again most **imp features**: \n",
    " \n",
    "-            circle_id\n",
    "-       loc_og_t2o_mou\n",
    "-       std_og_t2o_mou\n",
    "-       loc_ic_t2o_mou\n",
    "-               arpu_8\n",
    "-          onnet_mou_8\n",
    "-         offnet_mou_8\n",
    "-        roam_ic_mou_8\n",
    "-        roam_og_mou_8\n",
    "-     loc_og_t2t_mou_8"
   ]
  },
  {
   "cell_type": "markdown",
   "id": "db174b3b",
   "metadata": {},
   "source": [
    "## 6. logstic Regression"
   ]
  },
  {
   "cell_type": "code",
   "execution_count": 107,
   "id": "fa4aa4df",
   "metadata": {},
   "outputs": [],
   "source": [
    "# we will now using RFE for feature reduction\n",
    "from sklearn.linear_model import LogisticRegression\n",
    "lr = LogisticRegression()\n",
    "from sklearn.feature_selection import RFE\n",
    "\n",
    "#  RFE select 11 most imp features for us\n",
    "rfe = RFE(lr, 11)   \n",
    "rfe = rfe.fit(X_tr, y_tr)"
   ]
  },
  {
   "cell_type": "code",
   "execution_count": 108,
   "id": "d2854725",
   "metadata": {},
   "outputs": [
    {
     "name": "stdout",
     "output_type": "stream",
     "text": [
      "11 most important features selected by RFE  ['onnet_mou_8', 'loc_og_mou_8', 'std_og_t2t_mou_8', 'loc_ic_mou_8', 'total_ic_mou_8', 'spl_ic_mou_8', 'total_rech_num_8', 'last_day_rch_amt_8', 'fb_user_8', 'avg_arpu_av67', 'avg_total_ic_mou_av67']\n"
     ]
    }
   ],
   "source": [
    "rfe_features = list(model_df.columns[rfe.support_])\n",
    "print(\"11 most important features selected by RFE \", rfe_features)"
   ]
  },
  {
   "cell_type": "code",
   "execution_count": 109,
   "id": "ace6584e",
   "metadata": {},
   "outputs": [],
   "source": [
    "X_rfe = pd.DataFrame(data=X_tr).iloc[:, rfe.support_]\n",
    "y_rfe = y_tr"
   ]
  },
  {
   "cell_type": "code",
   "execution_count": 110,
   "id": "c9429f77",
   "metadata": {},
   "outputs": [
    {
     "data": {
      "text/plain": [
       "LogisticRegression(random_state=1)"
      ]
     },
     "execution_count": 110,
     "metadata": {},
     "output_type": "execute_result"
    }
   ],
   "source": [
    "# lets create a Logisctic Regression model_df on the seleted columns by RFE\n",
    "from sklearn.linear_model import LogisticRegression\n",
    "lr = LogisticRegression(random_state=1)\n",
    "lr.fit(X_rfe, y_rfe)"
   ]
  },
  {
   "cell_type": "code",
   "execution_count": 111,
   "id": "4db20c54",
   "metadata": {},
   "outputs": [
    {
     "name": "stdout",
     "output_type": "stream",
     "text": [
      "[[6740 1516]\n",
      " [ 140  590]]\n",
      "Accuracy on the test dataset: 0.8157133318495438\n"
     ]
    }
   ],
   "source": [
    "X_test_rfe = pd.DataFrame(data=X_test).iloc[:, rfe.support_]\n",
    "\n",
    "y_pred = lr.predict(X_test_rfe)\n",
    "\n",
    "from sklearn.metrics import confusion_matrix\n",
    "confusion_matrix = confusion_matrix(y_test, y_pred)\n",
    "print(confusion_matrix)\n",
    "print('Accuracy on the test dataset:',lr.score(X_test_rfe, y_test))"
   ]
  },
  {
   "cell_type": "code",
   "execution_count": 112,
   "id": "21f93236",
   "metadata": {},
   "outputs": [
    {
     "name": "stdout",
     "output_type": "stream",
     "text": [
      "              precision    recall  f1-score   support\n",
      "\n",
      "           0       0.98      0.82      0.89      8256\n",
      "           1       0.28      0.81      0.42       730\n",
      "\n",
      "    accuracy                           0.82      8986\n",
      "   macro avg       0.63      0.81      0.65      8986\n",
      "weighted avg       0.92      0.82      0.85      8986\n",
      "\n"
     ]
    }
   ],
   "source": [
    "# lets check classification report on the test dataset\n",
    "from sklearn.metrics import classification_report\n",
    "print(classification_report(y_test, y_pred))"
   ]
  },
  {
   "cell_type": "markdown",
   "id": "e3a827a7",
   "metadata": {},
   "source": [
    "## Inference :\n",
    "\n",
    "- model_df Accuracy is approx 82%\n",
    "- Confusion matix shows high false positive rate, which is not good,"
   ]
  },
  {
   "cell_type": "markdown",
   "id": "966167e0",
   "metadata": {},
   "source": [
    "## 7.0 SVM"
   ]
  },
  {
   "cell_type": "code",
   "execution_count": 113,
   "id": "82db33de",
   "metadata": {},
   "outputs": [
    {
     "name": "stdout",
     "output_type": "stream",
     "text": [
      " X Lasso  Shape: (38528, 36)\n",
      "Position of Features: [  6   8  10  13  16  20  22  24  26  32  33  36  37  39  40  42  44  45\n",
      "  50  54  55  58  59  61  62  64  65  75  89  93  94 104 105 107 108 111]\n"
     ]
    }
   ],
   "source": [
    "# feature selection using lasso remove\n",
    "from sklearn.svm import LinearSVC\n",
    "from sklearn.feature_selection import SelectFromModel\n",
    " \n",
    "svc = LinearSVC(C=0.001, penalty=\"l1\", dual=False).fit(X_tr, y_tr)\n",
    "svc_model_df = SelectFromModel(svc, prefit=True)\n",
    "X_lasso = svc_model_df.transform(X_tr)\n",
    "position = svc_model_df.get_support(indices=True)\n",
    "\n",
    "print(\" X Lasso  Shape:\", X_lasso.shape)\n",
    "print(\"Position of Features:\", position)"
   ]
  },
  {
   "cell_type": "code",
   "execution_count": 114,
   "id": "ea38de84",
   "metadata": {},
   "outputs": [
    {
     "name": "stdout",
     "output_type": "stream",
     "text": [
      "Lasso Features: ['offnet_mou_8', 'roam_og_mou_8', 'loc_og_t2m_mou_8', 'loc_og_mou_8', 'std_og_t2f_mou_8', 'spl_og_mou_8', 'total_og_mou_8', 'loc_ic_t2m_mou_8', 'loc_ic_mou_8', 'total_ic_mou_8', 'spl_ic_mou_8', 'total_rech_num_8', 'total_rech_amt_8', 'last_day_rch_amt_8', 'total_rech_data_8', 'count_rech_2g_8', 'av_rech_amt_data_8', 'vol_2g_mb_8', 'monthly_2g_8', 'fb_user_8', 'aug_vbc_3g', 'recent_rech_8', 'recent_rech_data_8', 'avg_arpu_av67', 'avg_onnet_mou_av67', 'avg_roam_ic_mou_av67', 'avg_roam_og_mou_av67', 'avg_std_og_mou_av67', 'avg_total_ic_mou_av67', 'avg_total_rech_num_av67', 'avg_max_rech_amt_av67', 'avg_monthly_2g_av67', 'avg_sachet_2g_av67', 'avg_sachet_3g_av67', 'avg_fb_user_av67', 'aon_mon']\n"
     ]
    }
   ],
   "source": [
    "# feature vector for decision tree  Remove\n",
    "lasso_features = list(model_df.columns[position])\n",
    "print(\"Lasso Features:\", lasso_features)"
   ]
  },
  {
   "cell_type": "markdown",
   "id": "47bc556e",
   "metadata": {},
   "source": [
    "### Inference:\n",
    "\n",
    "\n",
    "- Again most **imp features**: \n",
    "    'offnet_mou_8'\n",
    "    'roam_og_mou_8'\n",
    "    'loc_og_t2m_mou_8'\n",
    "    'loc_og_mou_8'\n",
    "    'std_og_t2f_mou_8'\n",
    "    'spl_og_mou_8'\n",
    "    'total_og_mou_8'\n",
    "    'loc_ic_t2m_mou_8'\n",
    "    'loc_ic_mou_8'\n",
    "    'total_ic_mou_8'"
   ]
  },
  {
   "cell_type": "markdown",
   "id": "89d2c218",
   "metadata": {},
   "source": [
    "## 8.0 Decision tree"
   ]
  },
  {
   "cell_type": "code",
   "execution_count": 115,
   "id": "5d372dbb",
   "metadata": {},
   "outputs": [
    {
     "data": {
      "text/plain": [
       "DecisionTreeClassifier(max_depth=5)"
      ]
     },
     "execution_count": 115,
     "metadata": {},
     "output_type": "execute_result"
    }
   ],
   "source": [
    "# import decision tree libraries\n",
    "from sklearn.tree import DecisionTreeClassifier\n",
    "from sklearn import tree\n",
    "\n",
    "# lets create a decision tree with the default hyper parameters except max depth to make the tree readable\n",
    "decision_tree = DecisionTreeClassifier(max_depth=5)\n",
    "decision_tree.fit(X_lasso, y_tr)"
   ]
  },
  {
   "cell_type": "code",
   "execution_count": 116,
   "id": "75d6bf04",
   "metadata": {},
   "outputs": [
    {
     "name": "stdout",
     "output_type": "stream",
     "text": [
      "              precision    recall  f1-score   support\n",
      "\n",
      "           0       0.98      0.87      0.92      8256\n",
      "           1       0.35      0.79      0.48       730\n",
      "\n",
      "    accuracy                           0.86      8986\n",
      "   macro avg       0.66      0.83      0.70      8986\n",
      "weighted avg       0.93      0.86      0.89      8986\n",
      "\n"
     ]
    }
   ],
   "source": [
    "from sklearn.metrics import classification_report, confusion_matrix, accuracy_score\n",
    "\n",
    "# model_df predictions\n",
    "X_test = pd.DataFrame(data=X_test).iloc[:, position]\n",
    "y_pred1 = decision_tree.predict(X_test)\n",
    "\n",
    "# classification report\n",
    "print(classification_report(y_test, y_pred1))"
   ]
  },
  {
   "cell_type": "code",
   "execution_count": 117,
   "id": "91d4bd79",
   "metadata": {},
   "outputs": [
    {
     "name": "stdout",
     "output_type": "stream",
     "text": [
      "[[7173 1083]\n",
      " [ 151  579]]\n",
      "Decision Tree - Accuracy : 0.8626752726463387\n"
     ]
    }
   ],
   "source": [
    "# confusion matrix\n",
    "print(confusion_matrix(y_test,y_pred1))\n",
    "# accuracy of the decision tree\n",
    "print('Decision Tree - Accuracy :',accuracy_score(y_test,y_pred1))"
   ]
  },
  {
   "cell_type": "markdown",
   "id": "76140c1f",
   "metadata": {},
   "source": [
    "### Inference:\n",
    "\n",
    " - The accuracy without tuning tend to be 0.86"
   ]
  },
  {
   "cell_type": "markdown",
   "id": "f3d50c87",
   "metadata": {},
   "source": [
    "## 8.1 Hyperparameters fine tuning"
   ]
  },
  {
   "cell_type": "code",
   "execution_count": 119,
   "id": "4cfc3e8a",
   "metadata": {},
   "outputs": [
    {
     "name": "stdout",
     "output_type": "stream",
     "text": [
      "CPU times: user 3min 2s, sys: 1.12 s, total: 3min 3s\n",
      "Wall time: 3min 8s\n"
     ]
    },
    {
     "data": {
      "text/plain": [
       "GridSearchCV(cv=5, estimator=DecisionTreeClassifier(random_state=100),\n",
       "             param_grid={'max_depth': range(1, 40)}, return_train_score=True,\n",
       "             scoring='accuracy')"
      ]
     },
     "execution_count": 119,
     "metadata": {},
     "output_type": "execute_result"
    }
   ],
   "source": [
    "%%time\n",
    "# GridSearchCV to find optimal max_depth\n",
    "from sklearn.model_selection import GridSearchCV\n",
    "\n",
    "# specify number of folds for k-fold CV\n",
    "n_folds = 5\n",
    "\n",
    "# parameters to build the model_df on\n",
    "parameters = {'max_depth': range(1, 40)}\n",
    "\n",
    "# instantiate the model_df\n",
    "dtree = DecisionTreeClassifier(criterion = \"gini\", \n",
    "                               random_state = 100)\n",
    "                               \n",
    "# fit tree on training data\n",
    "tree = GridSearchCV(dtree, parameters, \n",
    "                    cv=n_folds, \n",
    "                   scoring=\"accuracy\",\n",
    "                   return_train_score=True)\n",
    "tree.fit(X_lasso, y_tr)"
   ]
  },
  {
   "cell_type": "code",
   "execution_count": 120,
   "id": "898b094e",
   "metadata": {},
   "outputs": [
    {
     "data": {
      "text/html": [
       "<div>\n",
       "<style scoped>\n",
       "    .dataframe tbody tr th:only-of-type {\n",
       "        vertical-align: middle;\n",
       "    }\n",
       "\n",
       "    .dataframe tbody tr th {\n",
       "        vertical-align: top;\n",
       "    }\n",
       "\n",
       "    .dataframe thead th {\n",
       "        text-align: right;\n",
       "    }\n",
       "</style>\n",
       "<table border=\"1\" class=\"dataframe\">\n",
       "  <thead>\n",
       "    <tr style=\"text-align: right;\">\n",
       "      <th></th>\n",
       "      <th>mean_fit_time</th>\n",
       "      <th>std_fit_time</th>\n",
       "      <th>mean_score_time</th>\n",
       "      <th>std_score_time</th>\n",
       "      <th>param_max_depth</th>\n",
       "      <th>params</th>\n",
       "      <th>split0_test_score</th>\n",
       "      <th>split1_test_score</th>\n",
       "      <th>split2_test_score</th>\n",
       "      <th>split3_test_score</th>\n",
       "      <th>...</th>\n",
       "      <th>mean_test_score</th>\n",
       "      <th>std_test_score</th>\n",
       "      <th>rank_test_score</th>\n",
       "      <th>split0_train_score</th>\n",
       "      <th>split1_train_score</th>\n",
       "      <th>split2_train_score</th>\n",
       "      <th>split3_train_score</th>\n",
       "      <th>split4_train_score</th>\n",
       "      <th>mean_train_score</th>\n",
       "      <th>std_train_score</th>\n",
       "    </tr>\n",
       "  </thead>\n",
       "  <tbody>\n",
       "    <tr>\n",
       "      <th>0</th>\n",
       "      <td>0.136188</td>\n",
       "      <td>0.042166</td>\n",
       "      <td>0.002780</td>\n",
       "      <td>0.001409</td>\n",
       "      <td>1</td>\n",
       "      <td>{'max_depth': 1}</td>\n",
       "      <td>0.780561</td>\n",
       "      <td>0.792499</td>\n",
       "      <td>0.784454</td>\n",
       "      <td>0.787670</td>\n",
       "      <td>...</td>\n",
       "      <td>0.786493</td>\n",
       "      <td>0.003935</td>\n",
       "      <td>39</td>\n",
       "      <td>0.792453</td>\n",
       "      <td>0.789988</td>\n",
       "      <td>0.787717</td>\n",
       "      <td>0.791519</td>\n",
       "      <td>0.789508</td>\n",
       "      <td>0.790237</td>\n",
       "      <td>0.001643</td>\n",
       "    </tr>\n",
       "    <tr>\n",
       "      <th>1</th>\n",
       "      <td>0.182097</td>\n",
       "      <td>0.046187</td>\n",
       "      <td>0.001634</td>\n",
       "      <td>0.000088</td>\n",
       "      <td>2</td>\n",
       "      <td>{'max_depth': 2}</td>\n",
       "      <td>0.807812</td>\n",
       "      <td>0.813652</td>\n",
       "      <td>0.821697</td>\n",
       "      <td>0.815964</td>\n",
       "      <td>...</td>\n",
       "      <td>0.817328</td>\n",
       "      <td>0.006764</td>\n",
       "      <td>38</td>\n",
       "      <td>0.821329</td>\n",
       "      <td>0.816268</td>\n",
       "      <td>0.822562</td>\n",
       "      <td>0.818317</td>\n",
       "      <td>0.815170</td>\n",
       "      <td>0.818729</td>\n",
       "      <td>0.002840</td>\n",
       "    </tr>\n",
       "    <tr>\n",
       "      <th>2</th>\n",
       "      <td>0.222733</td>\n",
       "      <td>0.013845</td>\n",
       "      <td>0.001653</td>\n",
       "      <td>0.000127</td>\n",
       "      <td>3</td>\n",
       "      <td>{'max_depth': 3}</td>\n",
       "      <td>0.828575</td>\n",
       "      <td>0.845705</td>\n",
       "      <td>0.850506</td>\n",
       "      <td>0.845295</td>\n",
       "      <td>...</td>\n",
       "      <td>0.843880</td>\n",
       "      <td>0.007913</td>\n",
       "      <td>37</td>\n",
       "      <td>0.848420</td>\n",
       "      <td>0.845176</td>\n",
       "      <td>0.848031</td>\n",
       "      <td>0.846251</td>\n",
       "      <td>0.847452</td>\n",
       "      <td>0.847066</td>\n",
       "      <td>0.001196</td>\n",
       "    </tr>\n",
       "    <tr>\n",
       "      <th>3</th>\n",
       "      <td>0.279610</td>\n",
       "      <td>0.008015</td>\n",
       "      <td>0.001625</td>\n",
       "      <td>0.000302</td>\n",
       "      <td>4</td>\n",
       "      <td>{'max_depth': 4}</td>\n",
       "      <td>0.853880</td>\n",
       "      <td>0.869582</td>\n",
       "      <td>0.871010</td>\n",
       "      <td>0.867229</td>\n",
       "      <td>...</td>\n",
       "      <td>0.866046</td>\n",
       "      <td>0.006208</td>\n",
       "      <td>36</td>\n",
       "      <td>0.873759</td>\n",
       "      <td>0.870871</td>\n",
       "      <td>0.867465</td>\n",
       "      <td>0.868702</td>\n",
       "      <td>0.865944</td>\n",
       "      <td>0.869348</td>\n",
       "      <td>0.002732</td>\n",
       "    </tr>\n",
       "    <tr>\n",
       "      <th>4</th>\n",
       "      <td>0.343132</td>\n",
       "      <td>0.013150</td>\n",
       "      <td>0.001545</td>\n",
       "      <td>0.000064</td>\n",
       "      <td>5</td>\n",
       "      <td>{'max_depth': 5}</td>\n",
       "      <td>0.859071</td>\n",
       "      <td>0.875811</td>\n",
       "      <td>0.878406</td>\n",
       "      <td>0.876963</td>\n",
       "      <td>...</td>\n",
       "      <td>0.874585</td>\n",
       "      <td>0.008098</td>\n",
       "      <td>35</td>\n",
       "      <td>0.883817</td>\n",
       "      <td>0.878399</td>\n",
       "      <td>0.877815</td>\n",
       "      <td>0.877981</td>\n",
       "      <td>0.878889</td>\n",
       "      <td>0.879380</td>\n",
       "      <td>0.002249</td>\n",
       "    </tr>\n",
       "  </tbody>\n",
       "</table>\n",
       "<p>5 rows × 21 columns</p>\n",
       "</div>"
      ],
      "text/plain": [
       "   mean_fit_time  std_fit_time  mean_score_time  std_score_time  \\\n",
       "0       0.136188      0.042166         0.002780        0.001409   \n",
       "1       0.182097      0.046187         0.001634        0.000088   \n",
       "2       0.222733      0.013845         0.001653        0.000127   \n",
       "3       0.279610      0.008015         0.001625        0.000302   \n",
       "4       0.343132      0.013150         0.001545        0.000064   \n",
       "\n",
       "  param_max_depth            params  split0_test_score  split1_test_score  \\\n",
       "0               1  {'max_depth': 1}           0.780561           0.792499   \n",
       "1               2  {'max_depth': 2}           0.807812           0.813652   \n",
       "2               3  {'max_depth': 3}           0.828575           0.845705   \n",
       "3               4  {'max_depth': 4}           0.853880           0.869582   \n",
       "4               5  {'max_depth': 5}           0.859071           0.875811   \n",
       "\n",
       "   split2_test_score  split3_test_score  ...  mean_test_score  std_test_score  \\\n",
       "0           0.784454           0.787670  ...         0.786493        0.003935   \n",
       "1           0.821697           0.815964  ...         0.817328        0.006764   \n",
       "2           0.850506           0.845295  ...         0.843880        0.007913   \n",
       "3           0.871010           0.867229  ...         0.866046        0.006208   \n",
       "4           0.878406           0.876963  ...         0.874585        0.008098   \n",
       "\n",
       "   rank_test_score  split0_train_score  split1_train_score  \\\n",
       "0               39            0.792453            0.789988   \n",
       "1               38            0.821329            0.816268   \n",
       "2               37            0.848420            0.845176   \n",
       "3               36            0.873759            0.870871   \n",
       "4               35            0.883817            0.878399   \n",
       "\n",
       "   split2_train_score  split3_train_score  split4_train_score  \\\n",
       "0            0.787717            0.791519            0.789508   \n",
       "1            0.822562            0.818317            0.815170   \n",
       "2            0.848031            0.846251            0.847452   \n",
       "3            0.867465            0.868702            0.865944   \n",
       "4            0.877815            0.877981            0.878889   \n",
       "\n",
       "   mean_train_score  std_train_score  \n",
       "0          0.790237         0.001643  \n",
       "1          0.818729         0.002840  \n",
       "2          0.847066         0.001196  \n",
       "3          0.869348         0.002732  \n",
       "4          0.879380         0.002249  \n",
       "\n",
       "[5 rows x 21 columns]"
      ]
     },
     "execution_count": 120,
     "metadata": {},
     "output_type": "execute_result"
    }
   ],
   "source": [
    "# grid search results\n",
    "score = tree.cv_results_\n",
    "pd.DataFrame(score).head()"
   ]
  },
  {
   "cell_type": "code",
   "execution_count": 121,
   "id": "a38c2f95",
   "metadata": {},
   "outputs": [
    {
     "data": {
      "image/png": "[encoded data removed]",
      "text/plain": [
       "<Figure size 432x288 with 1 Axes>"
      ]
     },
     "metadata": {
      "needs_background": "light"
     },
     "output_type": "display_data"
    }
   ],
   "source": [
    "# plotting accuracies with max_depth\n",
    "plt.figure()\n",
    "plt.plot(score[\"param_max_depth\"], \n",
    "         score[\"mean_train_score\"], \n",
    "         label=\"training accuracy\")\n",
    "plt.plot(score[\"param_max_depth\"], \n",
    "         score[\"mean_test_score\"], \n",
    "         label=\"test accuracy\")\n",
    "plt.xlabel(\"max_depth\")\n",
    "plt.ylabel(\"Accuracy\")\n",
    "plt.legend()\n",
    "plt.show()\n",
    "\n",
    "\n",
    "# max_depth =10 seems to be the optimal one"
   ]
  },
  {
   "cell_type": "code",
   "execution_count": 122,
   "id": "4bf40697",
   "metadata": {},
   "outputs": [
    {
     "name": "stdout",
     "output_type": "stream",
     "text": [
      "CPU times: user 46 s, sys: 591 ms, total: 46.6 s\n",
      "Wall time: 52.6 s\n"
     ]
    },
    {
     "data": {
      "text/plain": [
       "GridSearchCV(cv=5, estimator=DecisionTreeClassifier(random_state=100),\n",
       "             param_grid={'min_samples_leaf': range(5, 200, 20)},\n",
       "             return_train_score=True, scoring='accuracy')"
      ]
     },
     "execution_count": 122,
     "metadata": {},
     "output_type": "execute_result"
    }
   ],
   "source": [
    "%%time\n",
    "# lets find optimal value of minimum sample leaf\n",
    "\n",
    "from sklearn.model_selection import GridSearchCV\n",
    "\n",
    "\n",
    "# specify number of folds for k-fold CV\n",
    "n_folds = 5\n",
    "\n",
    "# parameters to build the model_df on\n",
    "parameters = {'min_samples_leaf': range(5, 200, 20)}\n",
    "\n",
    "# instantiate the model_df\n",
    "dtree = DecisionTreeClassifier(criterion = \"gini\", \n",
    "                               random_state = 100)\n",
    "\n",
    "# fit tree on training data\n",
    "tree = GridSearchCV(dtree, parameters, \n",
    "                    cv=n_folds, \n",
    "                   scoring=\"accuracy\",\n",
    "                   return_train_score=True)\n",
    "tree.fit(X_lasso, y_tr)"
   ]
  },
  {
   "cell_type": "code",
   "execution_count": 123,
   "id": "b9d9e44a",
   "metadata": {},
   "outputs": [
    {
     "data": {
      "text/html": [
       "<div>\n",
       "<style scoped>\n",
       "    .dataframe tbody tr th:only-of-type {\n",
       "        vertical-align: middle;\n",
       "    }\n",
       "\n",
       "    .dataframe tbody tr th {\n",
       "        vertical-align: top;\n",
       "    }\n",
       "\n",
       "    .dataframe thead th {\n",
       "        text-align: right;\n",
       "    }\n",
       "</style>\n",
       "<table border=\"1\" class=\"dataframe\">\n",
       "  <thead>\n",
       "    <tr style=\"text-align: right;\">\n",
       "      <th></th>\n",
       "      <th>mean_fit_time</th>\n",
       "      <th>std_fit_time</th>\n",
       "      <th>mean_score_time</th>\n",
       "      <th>std_score_time</th>\n",
       "      <th>param_min_samples_leaf</th>\n",
       "      <th>params</th>\n",
       "      <th>split0_test_score</th>\n",
       "      <th>split1_test_score</th>\n",
       "      <th>split2_test_score</th>\n",
       "      <th>split3_test_score</th>\n",
       "      <th>...</th>\n",
       "      <th>mean_test_score</th>\n",
       "      <th>std_test_score</th>\n",
       "      <th>rank_test_score</th>\n",
       "      <th>split0_train_score</th>\n",
       "      <th>split1_train_score</th>\n",
       "      <th>split2_train_score</th>\n",
       "      <th>split3_train_score</th>\n",
       "      <th>split4_train_score</th>\n",
       "      <th>mean_train_score</th>\n",
       "      <th>std_train_score</th>\n",
       "    </tr>\n",
       "  </thead>\n",
       "  <tbody>\n",
       "    <tr>\n",
       "      <th>0</th>\n",
       "      <td>1.167100</td>\n",
       "      <td>0.093075</td>\n",
       "      <td>0.003498</td>\n",
       "      <td>0.000551</td>\n",
       "      <td>5</td>\n",
       "      <td>{'min_samples_leaf': 5}</td>\n",
       "      <td>0.877887</td>\n",
       "      <td>0.908253</td>\n",
       "      <td>0.913833</td>\n",
       "      <td>0.921220</td>\n",
       "      <td>...</td>\n",
       "      <td>0.908275</td>\n",
       "      <td>0.015897</td>\n",
       "      <td>1</td>\n",
       "      <td>0.970833</td>\n",
       "      <td>0.965447</td>\n",
       "      <td>0.965479</td>\n",
       "      <td>0.964929</td>\n",
       "      <td>0.965156</td>\n",
       "      <td>0.966369</td>\n",
       "      <td>0.002241</td>\n",
       "    </tr>\n",
       "    <tr>\n",
       "      <th>1</th>\n",
       "      <td>1.008182</td>\n",
       "      <td>0.046607</td>\n",
       "      <td>0.004122</td>\n",
       "      <td>0.000993</td>\n",
       "      <td>25</td>\n",
       "      <td>{'min_samples_leaf': 25}</td>\n",
       "      <td>0.876071</td>\n",
       "      <td>0.903582</td>\n",
       "      <td>0.902154</td>\n",
       "      <td>0.897339</td>\n",
       "      <td>...</td>\n",
       "      <td>0.895842</td>\n",
       "      <td>0.010107</td>\n",
       "      <td>2</td>\n",
       "      <td>0.926838</td>\n",
       "      <td>0.921647</td>\n",
       "      <td>0.920349</td>\n",
       "      <td>0.919313</td>\n",
       "      <td>0.919605</td>\n",
       "      <td>0.921551</td>\n",
       "      <td>0.002764</td>\n",
       "    </tr>\n",
       "    <tr>\n",
       "      <th>2</th>\n",
       "      <td>0.925692</td>\n",
       "      <td>0.060331</td>\n",
       "      <td>0.004129</td>\n",
       "      <td>0.000327</td>\n",
       "      <td>45</td>\n",
       "      <td>{'min_samples_leaf': 45}</td>\n",
       "      <td>0.871399</td>\n",
       "      <td>0.892811</td>\n",
       "      <td>0.895406</td>\n",
       "      <td>0.895263</td>\n",
       "      <td>...</td>\n",
       "      <td>0.890262</td>\n",
       "      <td>0.009506</td>\n",
       "      <td>3</td>\n",
       "      <td>0.911297</td>\n",
       "      <td>0.908896</td>\n",
       "      <td>0.904451</td>\n",
       "      <td>0.907407</td>\n",
       "      <td>0.907537</td>\n",
       "      <td>0.907918</td>\n",
       "      <td>0.002227</td>\n",
       "    </tr>\n",
       "    <tr>\n",
       "      <th>3</th>\n",
       "      <td>0.867902</td>\n",
       "      <td>0.039580</td>\n",
       "      <td>0.004172</td>\n",
       "      <td>0.001754</td>\n",
       "      <td>65</td>\n",
       "      <td>{'min_samples_leaf': 65}</td>\n",
       "      <td>0.872697</td>\n",
       "      <td>0.893070</td>\n",
       "      <td>0.896574</td>\n",
       "      <td>0.889293</td>\n",
       "      <td>...</td>\n",
       "      <td>0.889353</td>\n",
       "      <td>0.008681</td>\n",
       "      <td>4</td>\n",
       "      <td>0.904322</td>\n",
       "      <td>0.900201</td>\n",
       "      <td>0.900590</td>\n",
       "      <td>0.898809</td>\n",
       "      <td>0.897771</td>\n",
       "      <td>0.900339</td>\n",
       "      <td>0.002231</td>\n",
       "    </tr>\n",
       "    <tr>\n",
       "      <th>4</th>\n",
       "      <td>1.041508</td>\n",
       "      <td>0.049355</td>\n",
       "      <td>0.004238</td>\n",
       "      <td>0.001328</td>\n",
       "      <td>85</td>\n",
       "      <td>{'min_samples_leaf': 85}</td>\n",
       "      <td>0.870620</td>\n",
       "      <td>0.891513</td>\n",
       "      <td>0.893460</td>\n",
       "      <td>0.887476</td>\n",
       "      <td>...</td>\n",
       "      <td>0.886914</td>\n",
       "      <td>0.008376</td>\n",
       "      <td>5</td>\n",
       "      <td>0.901694</td>\n",
       "      <td>0.896859</td>\n",
       "      <td>0.895627</td>\n",
       "      <td>0.894884</td>\n",
       "      <td>0.892094</td>\n",
       "      <td>0.896231</td>\n",
       "      <td>0.003148</td>\n",
       "    </tr>\n",
       "  </tbody>\n",
       "</table>\n",
       "<p>5 rows × 21 columns</p>\n",
       "</div>"
      ],
      "text/plain": [
       "   mean_fit_time  std_fit_time  mean_score_time  std_score_time  \\\n",
       "0       1.167100      0.093075         0.003498        0.000551   \n",
       "1       1.008182      0.046607         0.004122        0.000993   \n",
       "2       0.925692      0.060331         0.004129        0.000327   \n",
       "3       0.867902      0.039580         0.004172        0.001754   \n",
       "4       1.041508      0.049355         0.004238        0.001328   \n",
       "\n",
       "  param_min_samples_leaf                    params  split0_test_score  \\\n",
       "0                      5   {'min_samples_leaf': 5}           0.877887   \n",
       "1                     25  {'min_samples_leaf': 25}           0.876071   \n",
       "2                     45  {'min_samples_leaf': 45}           0.871399   \n",
       "3                     65  {'min_samples_leaf': 65}           0.872697   \n",
       "4                     85  {'min_samples_leaf': 85}           0.870620   \n",
       "\n",
       "   split1_test_score  split2_test_score  split3_test_score  ...  \\\n",
       "0           0.908253           0.913833           0.921220  ...   \n",
       "1           0.903582           0.902154           0.897339  ...   \n",
       "2           0.892811           0.895406           0.895263  ...   \n",
       "3           0.893070           0.896574           0.889293  ...   \n",
       "4           0.891513           0.893460           0.887476  ...   \n",
       "\n",
       "   mean_test_score  std_test_score  rank_test_score  split0_train_score  \\\n",
       "0         0.908275        0.015897                1            0.970833   \n",
       "1         0.895842        0.010107                2            0.926838   \n",
       "2         0.890262        0.009506                3            0.911297   \n",
       "3         0.889353        0.008681                4            0.904322   \n",
       "4         0.886914        0.008376                5            0.901694   \n",
       "\n",
       "   split1_train_score  split2_train_score  split3_train_score  \\\n",
       "0            0.965447            0.965479            0.964929   \n",
       "1            0.921647            0.920349            0.919313   \n",
       "2            0.908896            0.904451            0.907407   \n",
       "3            0.900201            0.900590            0.898809   \n",
       "4            0.896859            0.895627            0.894884   \n",
       "\n",
       "   split4_train_score  mean_train_score  std_train_score  \n",
       "0            0.965156          0.966369         0.002241  \n",
       "1            0.919605          0.921551         0.002764  \n",
       "2            0.907537          0.907918         0.002227  \n",
       "3            0.897771          0.900339         0.002231  \n",
       "4            0.892094          0.896231         0.003148  \n",
       "\n",
       "[5 rows x 21 columns]"
      ]
     },
     "execution_count": 123,
     "metadata": {},
     "output_type": "execute_result"
    }
   ],
   "source": [
    "# grid search results\n",
    "score = tree.cv_results_\n",
    "pd.DataFrame(score).head()"
   ]
  },
  {
   "cell_type": "code",
   "execution_count": 124,
   "id": "1ce4b3d7",
   "metadata": {},
   "outputs": [
    {
     "data": {
      "image/png": "[encoded data removed]",
      "text/plain": [
       "<Figure size 432x288 with 1 Axes>"
      ]
     },
     "metadata": {
      "needs_background": "light"
     },
     "output_type": "display_data"
    }
   ],
   "source": [
    "# plotting accuracies with min_sample_leaf\n",
    "plt.figure()\n",
    "plt.plot(score[\"param_min_samples_leaf\"], \n",
    "         score[\"mean_train_score\"], \n",
    "         label=\"training accuracy\")\n",
    "plt.plot(score[\"param_min_samples_leaf\"], \n",
    "         score[\"mean_test_score\"], \n",
    "         label=\"test accuracy\")\n",
    "plt.xlabel(\"min_sample_leaf\")\n",
    "plt.ylabel(\"Accuracy\")\n",
    "plt.legend()\n",
    "plt.show()\n",
    "\n",
    "# min_sample_leaf =25  optimal values"
   ]
  },
  {
   "cell_type": "code",
   "execution_count": 125,
   "id": "2e6f88eb",
   "metadata": {},
   "outputs": [
    {
     "name": "stdout",
     "output_type": "stream",
     "text": [
      "CPU times: user 1min 5s, sys: 489 ms, total: 1min 6s\n",
      "Wall time: 1min 9s\n"
     ]
    },
    {
     "data": {
      "text/plain": [
       "GridSearchCV(cv=5, estimator=DecisionTreeClassifier(random_state=100),\n",
       "             param_grid={'min_samples_split': range(5, 200, 20)},\n",
       "             return_train_score=True, scoring='accuracy')"
      ]
     },
     "execution_count": 125,
     "metadata": {},
     "output_type": "execute_result"
    }
   ],
   "source": [
    "%%time\n",
    "\n",
    "from sklearn.model_selection import GridSearchCV\n",
    "\n",
    "\n",
    "# specify number of folds for k-fold CV\n",
    "n_folds = 5\n",
    "\n",
    "# parameters to build the model_df on\n",
    "parameters = {'min_samples_split': range(5, 200, 20)}\n",
    "\n",
    "# instantiate the model_df\n",
    "dtree = DecisionTreeClassifier(criterion = \"gini\", \n",
    "                               random_state = 100)\n",
    "\n",
    "# fit tree on training data\n",
    "tree = GridSearchCV(dtree, parameters, \n",
    "                    cv=n_folds, \n",
    "                   scoring=\"accuracy\",\n",
    "                   return_train_score=True)\n",
    "tree.fit(X_lasso, y_tr)"
   ]
  },
  {
   "cell_type": "code",
   "execution_count": 126,
   "id": "e866973d",
   "metadata": {},
   "outputs": [
    {
     "data": {
      "text/html": [
       "<div>\n",
       "<style scoped>\n",
       "    .dataframe tbody tr th:only-of-type {\n",
       "        vertical-align: middle;\n",
       "    }\n",
       "\n",
       "    .dataframe tbody tr th {\n",
       "        vertical-align: top;\n",
       "    }\n",
       "\n",
       "    .dataframe thead th {\n",
       "        text-align: right;\n",
       "    }\n",
       "</style>\n",
       "<table border=\"1\" class=\"dataframe\">\n",
       "  <thead>\n",
       "    <tr style=\"text-align: right;\">\n",
       "      <th></th>\n",
       "      <th>mean_fit_time</th>\n",
       "      <th>std_fit_time</th>\n",
       "      <th>mean_score_time</th>\n",
       "      <th>std_score_time</th>\n",
       "      <th>param_min_samples_split</th>\n",
       "      <th>params</th>\n",
       "      <th>split0_test_score</th>\n",
       "      <th>split1_test_score</th>\n",
       "      <th>split2_test_score</th>\n",
       "      <th>split3_test_score</th>\n",
       "      <th>...</th>\n",
       "      <th>mean_test_score</th>\n",
       "      <th>std_test_score</th>\n",
       "      <th>rank_test_score</th>\n",
       "      <th>split0_train_score</th>\n",
       "      <th>split1_train_score</th>\n",
       "      <th>split2_train_score</th>\n",
       "      <th>split3_train_score</th>\n",
       "      <th>split4_train_score</th>\n",
       "      <th>mean_train_score</th>\n",
       "      <th>std_train_score</th>\n",
       "    </tr>\n",
       "  </thead>\n",
       "  <tbody>\n",
       "    <tr>\n",
       "      <th>0</th>\n",
       "      <td>1.893718</td>\n",
       "      <td>0.206394</td>\n",
       "      <td>0.004339</td>\n",
       "      <td>0.000781</td>\n",
       "      <td>5</td>\n",
       "      <td>{'min_samples_split': 5}</td>\n",
       "      <td>0.874903</td>\n",
       "      <td>0.918116</td>\n",
       "      <td>0.920581</td>\n",
       "      <td>0.921609</td>\n",
       "      <td>...</td>\n",
       "      <td>0.910819</td>\n",
       "      <td>0.018000</td>\n",
       "      <td>1</td>\n",
       "      <td>0.994874</td>\n",
       "      <td>0.993122</td>\n",
       "      <td>0.993479</td>\n",
       "      <td>0.993836</td>\n",
       "      <td>0.993738</td>\n",
       "      <td>0.993810</td>\n",
       "      <td>0.000587</td>\n",
       "    </tr>\n",
       "    <tr>\n",
       "      <th>1</th>\n",
       "      <td>1.621992</td>\n",
       "      <td>0.337545</td>\n",
       "      <td>0.005085</td>\n",
       "      <td>0.001369</td>\n",
       "      <td>25</td>\n",
       "      <td>{'min_samples_split': 25}</td>\n",
       "      <td>0.874254</td>\n",
       "      <td>0.914872</td>\n",
       "      <td>0.909421</td>\n",
       "      <td>0.912784</td>\n",
       "      <td>...</td>\n",
       "      <td>0.904434</td>\n",
       "      <td>0.015201</td>\n",
       "      <td>2</td>\n",
       "      <td>0.968205</td>\n",
       "      <td>0.960677</td>\n",
       "      <td>0.960158</td>\n",
       "      <td>0.961100</td>\n",
       "      <td>0.959057</td>\n",
       "      <td>0.961839</td>\n",
       "      <td>0.003255</td>\n",
       "    </tr>\n",
       "    <tr>\n",
       "      <th>2</th>\n",
       "      <td>1.375695</td>\n",
       "      <td>0.046583</td>\n",
       "      <td>0.003228</td>\n",
       "      <td>0.000580</td>\n",
       "      <td>45</td>\n",
       "      <td>{'min_samples_split': 45}</td>\n",
       "      <td>0.866208</td>\n",
       "      <td>0.910330</td>\n",
       "      <td>0.902154</td>\n",
       "      <td>0.905646</td>\n",
       "      <td>...</td>\n",
       "      <td>0.898282</td>\n",
       "      <td>0.016250</td>\n",
       "      <td>3</td>\n",
       "      <td>0.949873</td>\n",
       "      <td>0.947635</td>\n",
       "      <td>0.944066</td>\n",
       "      <td>0.944652</td>\n",
       "      <td>0.942316</td>\n",
       "      <td>0.945708</td>\n",
       "      <td>0.002698</td>\n",
       "    </tr>\n",
       "    <tr>\n",
       "      <th>3</th>\n",
       "      <td>1.326724</td>\n",
       "      <td>0.056461</td>\n",
       "      <td>0.003185</td>\n",
       "      <td>0.000579</td>\n",
       "      <td>65</td>\n",
       "      <td>{'min_samples_split': 65}</td>\n",
       "      <td>0.866597</td>\n",
       "      <td>0.906307</td>\n",
       "      <td>0.903582</td>\n",
       "      <td>0.903958</td>\n",
       "      <td>...</td>\n",
       "      <td>0.896699</td>\n",
       "      <td>0.015092</td>\n",
       "      <td>4</td>\n",
       "      <td>0.940562</td>\n",
       "      <td>0.938940</td>\n",
       "      <td>0.935403</td>\n",
       "      <td>0.935568</td>\n",
       "      <td>0.934432</td>\n",
       "      <td>0.936981</td>\n",
       "      <td>0.002351</td>\n",
       "    </tr>\n",
       "    <tr>\n",
       "      <th>4</th>\n",
       "      <td>1.321281</td>\n",
       "      <td>0.067014</td>\n",
       "      <td>0.003263</td>\n",
       "      <td>0.000453</td>\n",
       "      <td>85</td>\n",
       "      <td>{'min_samples_split': 85}</td>\n",
       "      <td>0.865040</td>\n",
       "      <td>0.899169</td>\n",
       "      <td>0.903322</td>\n",
       "      <td>0.900324</td>\n",
       "      <td>...</td>\n",
       "      <td>0.894181</td>\n",
       "      <td>0.014656</td>\n",
       "      <td>5</td>\n",
       "      <td>0.932808</td>\n",
       "      <td>0.929823</td>\n",
       "      <td>0.929790</td>\n",
       "      <td>0.928560</td>\n",
       "      <td>0.928787</td>\n",
       "      <td>0.929954</td>\n",
       "      <td>0.001516</td>\n",
       "    </tr>\n",
       "  </tbody>\n",
       "</table>\n",
       "<p>5 rows × 21 columns</p>\n",
       "</div>"
      ],
      "text/plain": [
       "   mean_fit_time  std_fit_time  mean_score_time  std_score_time  \\\n",
       "0       1.893718      0.206394         0.004339        0.000781   \n",
       "1       1.621992      0.337545         0.005085        0.001369   \n",
       "2       1.375695      0.046583         0.003228        0.000580   \n",
       "3       1.326724      0.056461         0.003185        0.000579   \n",
       "4       1.321281      0.067014         0.003263        0.000453   \n",
       "\n",
       "  param_min_samples_split                     params  split0_test_score  \\\n",
       "0                       5   {'min_samples_split': 5}           0.874903   \n",
       "1                      25  {'min_samples_split': 25}           0.874254   \n",
       "2                      45  {'min_samples_split': 45}           0.866208   \n",
       "3                      65  {'min_samples_split': 65}           0.866597   \n",
       "4                      85  {'min_samples_split': 85}           0.865040   \n",
       "\n",
       "   split1_test_score  split2_test_score  split3_test_score  ...  \\\n",
       "0           0.918116           0.920581           0.921609  ...   \n",
       "1           0.914872           0.909421           0.912784  ...   \n",
       "2           0.910330           0.902154           0.905646  ...   \n",
       "3           0.906307           0.903582           0.903958  ...   \n",
       "4           0.899169           0.903322           0.900324  ...   \n",
       "\n",
       "   mean_test_score  std_test_score  rank_test_score  split0_train_score  \\\n",
       "0         0.910819        0.018000                1            0.994874   \n",
       "1         0.904434        0.015201                2            0.968205   \n",
       "2         0.898282        0.016250                3            0.949873   \n",
       "3         0.896699        0.015092                4            0.940562   \n",
       "4         0.894181        0.014656                5            0.932808   \n",
       "\n",
       "   split1_train_score  split2_train_score  split3_train_score  \\\n",
       "0            0.993122            0.993479            0.993836   \n",
       "1            0.960677            0.960158            0.961100   \n",
       "2            0.947635            0.944066            0.944652   \n",
       "3            0.938940            0.935403            0.935568   \n",
       "4            0.929823            0.929790            0.928560   \n",
       "\n",
       "   split4_train_score  mean_train_score  std_train_score  \n",
       "0            0.993738          0.993810         0.000587  \n",
       "1            0.959057          0.961839         0.003255  \n",
       "2            0.942316          0.945708         0.002698  \n",
       "3            0.934432          0.936981         0.002351  \n",
       "4            0.928787          0.929954         0.001516  \n",
       "\n",
       "[5 rows x 21 columns]"
      ]
     },
     "execution_count": 126,
     "metadata": {},
     "output_type": "execute_result"
    }
   ],
   "source": [
    "# scores of GridSearch CV\n",
    "scores = tree.cv_results_\n",
    "pd.DataFrame(scores).head()"
   ]
  },
  {
   "cell_type": "code",
   "execution_count": 127,
   "id": "9dad381f",
   "metadata": {},
   "outputs": [
    {
     "data": {
      "image/png": "[encoded data removed]",
      "text/plain": [
       "<Figure size 432x288 with 1 Axes>"
      ]
     },
     "metadata": {
      "needs_background": "light"
     },
     "output_type": "display_data"
    }
   ],
   "source": [
    "# plotting accuracies with min_samples_leaf\n",
    "plt.figure()\n",
    "plt.plot(scores[\"param_min_samples_split\"], \n",
    "         scores[\"mean_train_score\"], \n",
    "         label=\"training accuracy\")\n",
    "plt.plot(scores[\"param_min_samples_split\"], \n",
    "         scores[\"mean_test_score\"], \n",
    "         label=\"test accuracy\")\n",
    "plt.xlabel(\"min_samples_split\")\n",
    "plt.ylabel(\"Accuracy\")\n",
    "plt.legend()\n",
    "plt.show()\n",
    "\n",
    "# min_samples_leaf=50  optimal values"
   ]
  },
  {
   "cell_type": "code",
   "execution_count": 128,
   "id": "f0b2a23f",
   "metadata": {},
   "outputs": [
    {
     "name": "stdout",
     "output_type": "stream",
     "text": [
      "Fitting 5 folds for each of 24 candidates, totalling 120 fits\n"
     ]
    },
    {
     "data": {
      "text/plain": [
       "GridSearchCV(cv=5, estimator=DecisionTreeClassifier(),\n",
       "             param_grid={'criterion': ['entropy', 'gini'],\n",
       "                         'max_depth': range(5, 15, 5),\n",
       "                         'min_samples_leaf': range(25, 175, 50),\n",
       "                         'min_samples_split': range(50, 150, 50)},\n",
       "             verbose=1)"
      ]
     },
     "execution_count": 128,
     "metadata": {},
     "output_type": "execute_result"
    }
   ],
   "source": [
    "# Create the parameter grid \n",
    "param_grid = {\n",
    "    'max_depth': range(5, 15, 5),\n",
    "    'min_samples_leaf': range(25, 175, 50),\n",
    "    'min_samples_split': range(50, 150, 50),\n",
    "    'criterion': [\"entropy\", \"gini\"]\n",
    "}\n",
    "\n",
    "n_folds = 5\n",
    "\n",
    "# Instantiate the grid search model_df\n",
    "dtree = DecisionTreeClassifier()\n",
    "grid_search = GridSearchCV(estimator = dtree, param_grid = param_grid, \n",
    "                          cv = n_folds, verbose = 1)\n",
    "\n",
    "# Fit the grid search to the data\n",
    "grid_search.fit(X_lasso, y_tr)"
   ]
  },
  {
   "cell_type": "code",
   "execution_count": 129,
   "id": "4d65e9b7",
   "metadata": {},
   "outputs": [
    {
     "name": "stdout",
     "output_type": "stream",
     "text": [
      "Best Accuracy 0.8948039342663116\n"
     ]
    }
   ],
   "source": [
    "# cv results\n",
    "cv_results = pd.DataFrame(grid_search.cv_results_)\n",
    "cv_results\n",
    "#  optimal accuracy score and hyperparameters\n",
    "print(\"Best Accuracy\", grid_search.best_score_)"
   ]
  },
  {
   "cell_type": "code",
   "execution_count": 130,
   "id": "f8305ba7",
   "metadata": {},
   "outputs": [
    {
     "name": "stdout",
     "output_type": "stream",
     "text": [
      "DecisionTreeClassifier(max_depth=10, min_samples_leaf=25, min_samples_split=50)\n"
     ]
    }
   ],
   "source": [
    "print(grid_search.best_estimator_)"
   ]
  },
  {
   "cell_type": "code",
   "execution_count": 131,
   "id": "7d815b3a",
   "metadata": {},
   "outputs": [
    {
     "name": "stdout",
     "output_type": "stream",
     "text": [
      "CPU times: user 491 ms, sys: 5.31 ms, total: 496 ms\n",
      "Wall time: 508 ms\n"
     ]
    },
    {
     "data": {
      "text/plain": [
       "DecisionTreeClassifier(max_depth=5, min_samples_leaf=25, min_samples_split=50,\n",
       "                       random_state=100)"
      ]
     },
     "execution_count": 131,
     "metadata": {},
     "output_type": "execute_result"
    }
   ],
   "source": [
    "%%time\n",
    "# model_df with optimal hyperparameters\n",
    "clf_gini = DecisionTreeClassifier(criterion = \"gini\", \n",
    "                                  random_state = 100,\n",
    "                                  max_depth=5, \n",
    "                                  min_samples_leaf=25,\n",
    "                                  min_samples_split=50)\n",
    "clf_gini.fit(X_lasso, y_tr)"
   ]
  },
  {
   "cell_type": "code",
   "execution_count": 132,
   "id": "5d81d408",
   "metadata": {},
   "outputs": [
    {
     "name": "stdout",
     "output_type": "stream",
     "text": [
      "Accuracy Score for Decision Tree Final model_df : 0.8633429779657245\n"
     ]
    }
   ],
   "source": [
    "# accuracy score\n",
    "print ('Accuracy Score for Decision Tree Final model_df :',clf_gini.score(X_test,y_test))"
   ]
  },
  {
   "cell_type": "markdown",
   "id": "fbdc82d5",
   "metadata": {},
   "source": [
    "### Inferences :\n",
    "\n",
    "-  86% accuracy on the test dataset\n",
    "- lots of false positives in the confusion matrix"
   ]
  },
  {
   "cell_type": "markdown",
   "id": "a2587269",
   "metadata": {},
   "source": [
    "## 9. Random Forest"
   ]
  },
  {
   "cell_type": "code",
   "execution_count": 134,
   "id": "57b7a9bd",
   "metadata": {},
   "outputs": [
    {
     "name": "stdout",
     "output_type": "stream",
     "text": [
      "Randon Forest Accuracy with Default Hyperparameter 0.9248831515691075\n",
      "CPU times: user 16.1 s, sys: 168 ms, total: 16.3 s\n",
      "Wall time: 17.2 s\n"
     ]
    }
   ],
   "source": [
    "%%time\n",
    "from sklearn.ensemble import RandomForestClassifier\n",
    "from sklearn import metrics\n",
    "\n",
    "model_df_rf = RandomForestClassifier()\n",
    "model_df_rf.fit(X_lasso, y_tr)\n",
    "\n",
    "# Make predictions\n",
    "prediction_test = model_df_rf.predict(X_test)\n",
    "print ('Randon Forest Accuracy with Default Hyperparameter',metrics.accuracy_score(y_test, prediction_test))"
   ]
  },
  {
   "cell_type": "code",
   "execution_count": 135,
   "id": "041942b3",
   "metadata": {},
   "outputs": [
    {
     "name": "stdout",
     "output_type": "stream",
     "text": [
      "              precision    recall  f1-score   support\n",
      "\n",
      "           0       0.97      0.95      0.96      8256\n",
      "           1       0.53      0.68      0.59       730\n",
      "\n",
      "    accuracy                           0.92      8986\n",
      "   macro avg       0.75      0.81      0.78      8986\n",
      "weighted avg       0.93      0.92      0.93      8986\n",
      "\n"
     ]
    }
   ],
   "source": [
    "print(classification_report(y_test,prediction_test))"
   ]
  },
  {
   "cell_type": "code",
   "execution_count": 138,
   "id": "33a08b4f",
   "metadata": {},
   "outputs": [
    {
     "name": "stdout",
     "output_type": "stream",
     "text": [
      "[[7817  439]\n",
      " [ 236  494]]\n"
     ]
    }
   ],
   "source": [
    "# Printing confusion matrix\n",
    "\n",
    "print(confusion_matrix(y_test, prediction_test))"
   ]
  },
  {
   "cell_type": "code",
   "execution_count": 139,
   "id": "78ab64ce",
   "metadata": {},
   "outputs": [
    {
     "name": "stdout",
     "output_type": "stream",
     "text": [
      "CPU times: user 2min 38s, sys: 1.06 s, total: 2min 39s\n",
      "Wall time: 2min 41s\n"
     ]
    },
    {
     "data": {
      "text/plain": [
       "GridSearchCV(cv=5, estimator=RandomForestClassifier(),\n",
       "             param_grid={'max_depth': range(2, 20, 5)}, return_train_score=True,\n",
       "             scoring='accuracy')"
      ]
     },
     "execution_count": 139,
     "metadata": {},
     "output_type": "execute_result"
    }
   ],
   "source": [
    "%%time\n",
    "# GridSearchCV to find optimal n_estimators\n",
    "\n",
    "from sklearn.model_selection import KFold\n",
    "from sklearn.model_selection import GridSearchCV\n",
    "from sklearn.ensemble import RandomForestClassifier\n",
    "\n",
    "# specify number of folds for k-fold CV\n",
    "n_folds = 5\n",
    "\n",
    "# parameters to build the model_df on\n",
    "parameters = {'max_depth': range(2, 20, 5)}\n",
    "\n",
    "# instantiate the model_df\n",
    "rf = RandomForestClassifier()\n",
    "\n",
    "\n",
    "# fit tree on training data\n",
    "rf = GridSearchCV(rf, parameters, \n",
    "                    cv=n_folds, \n",
    "                   scoring=\"accuracy\",\n",
    "                  return_train_score=True)\n",
    "rf.fit(X_lasso, y_tr)"
   ]
  },
  {
   "cell_type": "code",
   "execution_count": 140,
   "id": "78ef1d70",
   "metadata": {},
   "outputs": [
    {
     "data": {
      "text/html": [
       "<div>\n",
       "<style scoped>\n",
       "    .dataframe tbody tr th:only-of-type {\n",
       "        vertical-align: middle;\n",
       "    }\n",
       "\n",
       "    .dataframe tbody tr th {\n",
       "        vertical-align: top;\n",
       "    }\n",
       "\n",
       "    .dataframe thead th {\n",
       "        text-align: right;\n",
       "    }\n",
       "</style>\n",
       "<table border=\"1\" class=\"dataframe\">\n",
       "  <thead>\n",
       "    <tr style=\"text-align: right;\">\n",
       "      <th></th>\n",
       "      <th>mean_fit_time</th>\n",
       "      <th>std_fit_time</th>\n",
       "      <th>mean_score_time</th>\n",
       "      <th>std_score_time</th>\n",
       "      <th>param_max_depth</th>\n",
       "      <th>params</th>\n",
       "      <th>split0_test_score</th>\n",
       "      <th>split1_test_score</th>\n",
       "      <th>split2_test_score</th>\n",
       "      <th>split3_test_score</th>\n",
       "      <th>...</th>\n",
       "      <th>mean_test_score</th>\n",
       "      <th>std_test_score</th>\n",
       "      <th>rank_test_score</th>\n",
       "      <th>split0_train_score</th>\n",
       "      <th>split1_train_score</th>\n",
       "      <th>split2_train_score</th>\n",
       "      <th>split3_train_score</th>\n",
       "      <th>split4_train_score</th>\n",
       "      <th>mean_train_score</th>\n",
       "      <th>std_train_score</th>\n",
       "    </tr>\n",
       "  </thead>\n",
       "  <tbody>\n",
       "    <tr>\n",
       "      <th>0</th>\n",
       "      <td>2.564429</td>\n",
       "      <td>0.254951</td>\n",
       "      <td>0.079175</td>\n",
       "      <td>0.027084</td>\n",
       "      <td>2</td>\n",
       "      <td>{'max_depth': 2}</td>\n",
       "      <td>0.816636</td>\n",
       "      <td>0.819232</td>\n",
       "      <td>0.817026</td>\n",
       "      <td>0.819857</td>\n",
       "      <td>...</td>\n",
       "      <td>0.817743</td>\n",
       "      <td>0.001523</td>\n",
       "      <td>4</td>\n",
       "      <td>0.822951</td>\n",
       "      <td>0.816916</td>\n",
       "      <td>0.820583</td>\n",
       "      <td>0.820653</td>\n",
       "      <td>0.816663</td>\n",
       "      <td>0.819553</td>\n",
       "      <td>0.002413</td>\n",
       "    </tr>\n",
       "    <tr>\n",
       "      <th>1</th>\n",
       "      <td>5.762927</td>\n",
       "      <td>0.098490</td>\n",
       "      <td>0.084252</td>\n",
       "      <td>0.016578</td>\n",
       "      <td>7</td>\n",
       "      <td>{'max_depth': 7}</td>\n",
       "      <td>0.888788</td>\n",
       "      <td>0.906826</td>\n",
       "      <td>0.906566</td>\n",
       "      <td>0.904218</td>\n",
       "      <td>...</td>\n",
       "      <td>0.903317</td>\n",
       "      <td>0.007510</td>\n",
       "      <td>3</td>\n",
       "      <td>0.915450</td>\n",
       "      <td>0.911297</td>\n",
       "      <td>0.909350</td>\n",
       "      <td>0.912468</td>\n",
       "      <td>0.909483</td>\n",
       "      <td>0.911610</td>\n",
       "      <td>0.002245</td>\n",
       "    </tr>\n",
       "    <tr>\n",
       "      <th>2</th>\n",
       "      <td>9.083110</td>\n",
       "      <td>0.254623</td>\n",
       "      <td>0.110821</td>\n",
       "      <td>0.006029</td>\n",
       "      <td>12</td>\n",
       "      <td>{'max_depth': 12}</td>\n",
       "      <td>0.925513</td>\n",
       "      <td>0.943421</td>\n",
       "      <td>0.946795</td>\n",
       "      <td>0.943154</td>\n",
       "      <td>...</td>\n",
       "      <td>0.941082</td>\n",
       "      <td>0.007931</td>\n",
       "      <td>2</td>\n",
       "      <td>0.971579</td>\n",
       "      <td>0.969145</td>\n",
       "      <td>0.968432</td>\n",
       "      <td>0.968498</td>\n",
       "      <td>0.968757</td>\n",
       "      <td>0.969282</td>\n",
       "      <td>0.001175</td>\n",
       "    </tr>\n",
       "    <tr>\n",
       "      <th>3</th>\n",
       "      <td>10.405583</td>\n",
       "      <td>0.386382</td>\n",
       "      <td>0.133725</td>\n",
       "      <td>0.010704</td>\n",
       "      <td>17</td>\n",
       "      <td>{'max_depth': 17}</td>\n",
       "      <td>0.941993</td>\n",
       "      <td>0.955619</td>\n",
       "      <td>0.957566</td>\n",
       "      <td>0.956132</td>\n",
       "      <td>...</td>\n",
       "      <td>0.954371</td>\n",
       "      <td>0.006422</td>\n",
       "      <td>1</td>\n",
       "      <td>0.989326</td>\n",
       "      <td>0.989553</td>\n",
       "      <td>0.989910</td>\n",
       "      <td>0.989067</td>\n",
       "      <td>0.989780</td>\n",
       "      <td>0.989527</td>\n",
       "      <td>0.000305</td>\n",
       "    </tr>\n",
       "  </tbody>\n",
       "</table>\n",
       "<p>4 rows × 21 columns</p>\n",
       "</div>"
      ],
      "text/plain": [
       "   mean_fit_time  std_fit_time  mean_score_time  std_score_time  \\\n",
       "0       2.564429      0.254951         0.079175        0.027084   \n",
       "1       5.762927      0.098490         0.084252        0.016578   \n",
       "2       9.083110      0.254623         0.110821        0.006029   \n",
       "3      10.405583      0.386382         0.133725        0.010704   \n",
       "\n",
       "  param_max_depth             params  split0_test_score  split1_test_score  \\\n",
       "0               2   {'max_depth': 2}           0.816636           0.819232   \n",
       "1               7   {'max_depth': 7}           0.888788           0.906826   \n",
       "2              12  {'max_depth': 12}           0.925513           0.943421   \n",
       "3              17  {'max_depth': 17}           0.941993           0.955619   \n",
       "\n",
       "   split2_test_score  split3_test_score  ...  mean_test_score  std_test_score  \\\n",
       "0           0.817026           0.819857  ...         0.817743        0.001523   \n",
       "1           0.906566           0.904218  ...         0.903317        0.007510   \n",
       "2           0.946795           0.943154  ...         0.941082        0.007931   \n",
       "3           0.957566           0.956132  ...         0.954371        0.006422   \n",
       "\n",
       "   rank_test_score  split0_train_score  split1_train_score  \\\n",
       "0                4            0.822951            0.816916   \n",
       "1                3            0.915450            0.911297   \n",
       "2                2            0.971579            0.969145   \n",
       "3                1            0.989326            0.989553   \n",
       "\n",
       "   split2_train_score  split3_train_score  split4_train_score  \\\n",
       "0            0.820583            0.820653            0.816663   \n",
       "1            0.909350            0.912468            0.909483   \n",
       "2            0.968432            0.968498            0.968757   \n",
       "3            0.989910            0.989067            0.989780   \n",
       "\n",
       "   mean_train_score  std_train_score  \n",
       "0          0.819553         0.002413  \n",
       "1          0.911610         0.002245  \n",
       "2          0.969282         0.001175  \n",
       "3          0.989527         0.000305  \n",
       "\n",
       "[4 rows x 21 columns]"
      ]
     },
     "execution_count": 140,
     "metadata": {},
     "output_type": "execute_result"
    }
   ],
   "source": [
    "# scores of GridSearch CV\n",
    "scores = rf.cv_results_\n",
    "pd.DataFrame(scores).head()"
   ]
  },
  {
   "cell_type": "code",
   "execution_count": 141,
   "id": "b005b419",
   "metadata": {},
   "outputs": [
    {
     "data": {
      "image/png": "[encoded data removed]",
      "text/plain": [
       "<Figure size 432x288 with 1 Axes>"
      ]
     },
     "metadata": {
      "needs_background": "light"
     },
     "output_type": "display_data"
    }
   ],
   "source": [
    "# plotting accuracies with max_depth\n",
    "plt.figure()\n",
    "plt.plot(scores[\"param_max_depth\"], \n",
    "         scores[\"mean_train_score\"], \n",
    "         label=\"training accuracy\")\n",
    "plt.plot(scores[\"param_max_depth\"], \n",
    "         scores[\"mean_test_score\"], \n",
    "         label=\"test accuracy\")\n",
    "plt.xlabel(\"max_depth\")\n",
    "plt.ylabel(\"Accuracy\")\n",
    "plt.legend()\n",
    "plt.show()"
   ]
  },
  {
   "cell_type": "code",
   "execution_count": 142,
   "id": "a651e4bd",
   "metadata": {},
   "outputs": [
    {
     "name": "stdout",
     "output_type": "stream",
     "text": [
      "CPU times: user 9min 44s, sys: 2.65 s, total: 9min 47s\n",
      "Wall time: 9min 53s\n"
     ]
    },
    {
     "data": {
      "text/plain": [
       "GridSearchCV(cv=5, estimator=RandomForestClassifier(max_depth=4),\n",
       "             param_grid={'n_estimators': range(100, 1500, 400)},\n",
       "             return_train_score=True, scoring='accuracy')"
      ]
     },
     "execution_count": 142,
     "metadata": {},
     "output_type": "execute_result"
    }
   ],
   "source": [
    "%%time\n",
    "from sklearn.model_selection import KFold\n",
    "from sklearn.model_selection import GridSearchCV\n",
    "from sklearn.ensemble import RandomForestClassifier\n",
    "##Tuning n_estimators\n",
    "## GridSearchCV to find optimal n_estimators\n",
    "#from sklearn.model_df_selection import KFold\n",
    "## specify number of folds for k-fold CV\n",
    "n_folds = 5\n",
    "#\n",
    "## parameters to build the model_df on\n",
    "parameters = {'n_estimators': range(100, 1500, 400)}\n",
    "#\n",
    "## instantiate the model_df (note we are specifying a max_depth)\n",
    "rf = RandomForestClassifier(max_depth=4)\n",
    "#\n",
    "#\n",
    "## fit tree on training data\n",
    "rf = GridSearchCV(rf, parameters, \n",
    "                    cv=n_folds, \n",
    "                   scoring=\"accuracy\",\n",
    "                  return_train_score=True)\n",
    "rf.fit(X_lasso, y_tr)"
   ]
  },
  {
   "cell_type": "code",
   "execution_count": 143,
   "id": "655cacf7",
   "metadata": {},
   "outputs": [
    {
     "data": {
      "image/png": "[encoded data removed]",
      "text/plain": [
       "<Figure size 432x288 with 1 Axes>"
      ]
     },
     "metadata": {
      "needs_background": "light"
     },
     "output_type": "display_data"
    }
   ],
   "source": [
    "## scores of GridSearch CV\n",
    "scores = rf.cv_results_\n",
    "#\n",
    "## plotting accuracies with n_estimators\n",
    "plt.figure()\n",
    "plt.plot(scores[\"param_n_estimators\"], \n",
    "         scores[\"mean_train_score\"], \n",
    "         label=\"training accuracy\")\n",
    "plt.plot(scores[\"param_n_estimators\"], \n",
    "         scores[\"mean_test_score\"], \n",
    "         label=\"test accuracy\")\n",
    "plt.xlabel(\"n_estimators\")\n",
    "plt.ylabel(\"Accuracy\")\n",
    "plt.legend()\n",
    "plt.show()"
   ]
  },
  {
   "cell_type": "code",
   "execution_count": 144,
   "id": "6ff538b9",
   "metadata": {},
   "outputs": [
    {
     "name": "stdout",
     "output_type": "stream",
     "text": [
      "CPU times: user 17min 20s, sys: 3.94 s, total: 17min 24s\n",
      "Wall time: 17min 31s\n"
     ]
    },
    {
     "data": {
      "text/plain": [
       "GridSearchCV(cv=5, estimator=RandomForestClassifier(),\n",
       "             param_grid={'min_samples_leaf': range(50, 400, 10)},\n",
       "             return_train_score=True, scoring='accuracy')"
      ]
     },
     "execution_count": 144,
     "metadata": {},
     "output_type": "execute_result"
    }
   ],
   "source": [
    "%%time\n",
    "# GridSearchCV to find optimal min_samples_leaf\n",
    "\n",
    "from sklearn.model_selection import GridSearchCV\n",
    "from sklearn.ensemble import RandomForestClassifier\n",
    "\n",
    "# specify number of folds for k-fold CV\n",
    "n_folds = 5\n",
    "\n",
    "# parameters to build the model_df on\n",
    "parameters = {'min_samples_leaf': range(50, 400, 10)}\n",
    "\n",
    "# instantiate the model_df\n",
    "rf = RandomForestClassifier()\n",
    "\n",
    "\n",
    "# fit tree on training data\n",
    "rf = GridSearchCV(rf, parameters, \n",
    "                    cv=n_folds, \n",
    "                   scoring=\"accuracy\",\n",
    "                  return_train_score=True)\n",
    "rf.fit(X_lasso, y_tr)"
   ]
  },
  {
   "cell_type": "code",
   "execution_count": 145,
   "id": "335239f1",
   "metadata": {},
   "outputs": [
    {
     "data": {
      "image/png": "[encoded data removed]",
      "text/plain": [
       "<Figure size 432x288 with 1 Axes>"
      ]
     },
     "metadata": {
      "needs_background": "light"
     },
     "output_type": "display_data"
    }
   ],
   "source": [
    "# scores of GridSearch CV\n",
    "scores = rf.cv_results_\n",
    "\n",
    "# plotting accuracies with min_samples_leaf\n",
    "plt.figure()\n",
    "plt.plot(scores[\"param_min_samples_leaf\"], \n",
    "         scores[\"mean_train_score\"], \n",
    "         label=\"training accuracy\")\n",
    "plt.plot(scores[\"param_min_samples_leaf\"], \n",
    "         scores[\"mean_test_score\"], \n",
    "         label=\"test accuracy\")\n",
    "plt.xlabel(\"min_samples_leaf\")\n",
    "plt.ylabel(\"Accuracy\")\n",
    "plt.legend()\n",
    "plt.show()"
   ]
  },
  {
   "cell_type": "code",
   "execution_count": 146,
   "id": "103689d0",
   "metadata": {},
   "outputs": [
    {
     "name": "stdout",
     "output_type": "stream",
     "text": [
      "CPU times: user 11min 45s, sys: 2.08 s, total: 11min 47s\n",
      "Wall time: 11min 50s\n"
     ]
    },
    {
     "data": {
      "text/plain": [
       "GridSearchCV(cv=5, estimator=RandomForestClassifier(),\n",
       "             param_grid={'min_samples_split': range(100, 500, 25)},\n",
       "             return_train_score=True, scoring='accuracy')"
      ]
     },
     "execution_count": 146,
     "metadata": {},
     "output_type": "execute_result"
    }
   ],
   "source": [
    "%%time\n",
    "# GridSearchCV to find optimal min_samples_split\n",
    "from sklearn.ensemble import RandomForestClassifier\n",
    "from sklearn.model_selection import GridSearchCV\n",
    "\n",
    "\n",
    "# specify number of folds for k-fold CV\n",
    "n_folds = 5\n",
    "\n",
    "# parameters to build the model_df on\n",
    "parameters = {'min_samples_split': range(100, 500, 25)}\n",
    "\n",
    "# instantiate the model_df\n",
    "rf = RandomForestClassifier()\n",
    "\n",
    "\n",
    "# fit tree on training data\n",
    "rf = GridSearchCV(rf, parameters, \n",
    "                    cv=n_folds, \n",
    "                   scoring=\"accuracy\",\n",
    "                   return_train_score=True)\n",
    "rf.fit(X_lasso, y_tr)"
   ]
  },
  {
   "cell_type": "code",
   "execution_count": 147,
   "id": "8b8a7a57",
   "metadata": {},
   "outputs": [
    {
     "data": {
      "image/png": "[encoded data removed]",
      "text/plain": [
       "<Figure size 432x288 with 1 Axes>"
      ]
     },
     "metadata": {
      "needs_background": "light"
     },
     "output_type": "display_data"
    }
   ],
   "source": [
    "# scores of GridSearch CV\n",
    "scores = rf.cv_results_\n",
    "\n",
    "# plotting accuracies with min_samples_split\n",
    "plt.figure()\n",
    "plt.plot(scores[\"param_min_samples_split\"], \n",
    "         scores[\"mean_train_score\"], \n",
    "         label=\"training accuracy\")\n",
    "plt.plot(scores[\"param_min_samples_split\"], \n",
    "         scores[\"mean_test_score\"], \n",
    "         label=\"test accuracy\")\n",
    "plt.xlabel(\"min_samples_split\")\n",
    "plt.ylabel(\"Accuracy\")\n",
    "plt.legend()\n",
    "plt.show()"
   ]
  },
  {
   "cell_type": "code",
   "execution_count": 148,
   "id": "65586fcc",
   "metadata": {},
   "outputs": [
    {
     "name": "stdout",
     "output_type": "stream",
     "text": [
      "CPU times: user 411 µs, sys: 1.68 ms, total: 2.09 ms\n",
      "Wall time: 2.53 ms\n"
     ]
    }
   ],
   "source": [
    "%%time\n",
    "\n",
    "from sklearn.ensemble import RandomForestClassifier\n",
    "from sklearn.model_selection import GridSearchCV\n",
    "# random search \n",
    "param_grid = {\n",
    "    'max_depth': [4,8,10],\n",
    "    'min_samples_leaf': range(100, 300, 100),\n",
    "    'min_samples_split': range(200, 500, 100),\n",
    "    'n_estimators': [500,700], \n",
    "    'max_features': [10,20,25]\n",
    "}\n",
    "# Create a based model_df\n",
    "rf = RandomForestClassifier()\n",
    "\n",
    "grid_search = GridSearchCV(estimator = rf, param_grid = param_grid, \n",
    "                          cv = 3, n_jobs = -1,verbose = 1)"
   ]
  },
  {
   "cell_type": "code",
   "execution_count": 149,
   "id": "997d71c9",
   "metadata": {},
   "outputs": [
    {
     "name": "stdout",
     "output_type": "stream",
     "text": [
      "Fitting 3 folds for each of 108 candidates, totalling 324 fits\n",
      "Accuracy is 0.8951413609253867 using {'max_depth': 10, 'max_features': 20, 'min_samples_leaf': 100, 'min_samples_split': 200, 'n_estimators': 500}\n",
      "CPU times: user 1min 56s, sys: 697 ms, total: 1min 56s\n",
      "Wall time: 2h 55min 31s\n"
     ]
    }
   ],
   "source": [
    "%%time\n",
    "# fit the grid search with the data\n",
    "grid_search.fit(X_lasso, y_tr)\n",
    "print('Accuracy is',grid_search.best_score_,'using',grid_search.best_params_)"
   ]
  },
  {
   "cell_type": "code",
   "execution_count": 150,
   "id": "f7cdd5bb",
   "metadata": {},
   "outputs": [
    {
     "name": "stdout",
     "output_type": "stream",
     "text": [
      "CPU times: user 2min 8s, sys: 731 ms, total: 2min 9s\n",
      "Wall time: 38.3 s\n"
     ]
    }
   ],
   "source": [
    "%%time\n",
    "from sklearn.ensemble import RandomForestClassifier\n",
    "from sklearn import metrics\n",
    "\n",
    "X_train, X_test, y_train, y_test = train_test_split(X, y, test_size=0.2, random_state=101)\n",
    "\n",
    "model_df_rf = RandomForestClassifier(bootstrap=True,\n",
    "                                  max_depth=10,\n",
    "                                  min_samples_leaf=100, \n",
    "                                  min_samples_split=200,\n",
    "                                  n_estimators=1000 ,\n",
    "                                  oob_score = True, n_jobs = -1,\n",
    "                                  random_state =50,\n",
    "                                  max_features = 15,\n",
    "                                  max_leaf_nodes = 30)\n",
    "model_df_rf.fit(X_train, y_train)\n",
    "\n",
    "# predictions\n",
    "prediction_test = model_df_rf.predict(X_test)"
   ]
  },
  {
   "cell_type": "code",
   "execution_count": 151,
   "id": "cf31a08b",
   "metadata": {},
   "outputs": [
    {
     "name": "stdout",
     "output_type": "stream",
     "text": [
      "              precision    recall  f1-score   support\n",
      "\n",
      "           0       0.96      0.98      0.97      5515\n",
      "           1       0.72      0.48      0.58       476\n",
      "\n",
      "    accuracy                           0.94      5991\n",
      "   macro avg       0.84      0.73      0.77      5991\n",
      "weighted avg       0.94      0.94      0.94      5991\n",
      "\n",
      "[[5426   89]\n",
      " [ 246  230]]\n"
     ]
    }
   ],
   "source": [
    "#  metrics\n",
    "from sklearn.metrics import classification_report,confusion_matrix\n",
    "print(classification_report(y_test,prediction_test))\n",
    "print(confusion_matrix(y_test,prediction_test))"
   ]
  },
  {
   "cell_type": "code",
   "execution_count": 152,
   "id": "cbee1e22",
   "metadata": {},
   "outputs": [
    {
     "name": "stdout",
     "output_type": "stream",
     "text": [
      "Accuracy Score for Random Forest Final model_df : 0.9440827908529461\n"
     ]
    }
   ],
   "source": [
    "# score\n",
    "print ('Accuracy Score for Random Forest Final model_df :',metrics.accuracy_score(y_test, prediction_test))"
   ]
  },
  {
   "cell_type": "code",
   "execution_count": 153,
   "id": "a25425a2",
   "metadata": {},
   "outputs": [
    {
     "data": {
      "text/plain": [
       "<AxesSubplot:>"
      ]
     },
     "execution_count": 153,
     "metadata": {},
     "output_type": "execute_result"
    },
    {
     "data": {
      "image/png": "[encoded data removed]",
      "text/plain": [
       "<Figure size 432x288 with 1 Axes>"
      ]
     },
     "metadata": {
      "needs_background": "light"
     },
     "output_type": "display_data"
    }
   ],
   "source": [
    "# list of important features\n",
    "X = model_df\n",
    "features = X.columns.values\n",
    "X = pd.DataFrame(scaler.transform(X))\n",
    "X.columns = features\n",
    "\n",
    "importances = model_df_rf.feature_importances_\n",
    "imp_features = pd.Series(importances,\n",
    "                 index=X.columns.values)\n",
    "imp_features.sort_values()[-10:].plot(kind = 'bar')"
   ]
  },
  {
   "cell_type": "markdown",
   "id": "03370379",
   "metadata": {},
   "source": [
    "### Inference with Models\n",
    "\n",
    "- Using RFE reduced the variable and tried PCA \n",
    "-  Created first model with logistic regression. Using a logistic regression model as a baseline (benchmark) model.It gave  an idea about the important variables.\n",
    "- Used decision trees and compared their performance with the logistic regression model. \n",
    "- Random forest showed significant improvement in performance, \n",
    "- SVM tend to be slowest ( couldnt optimise much)\n",
    "- Random Forest produced the best prediction results followed by SVM"
   ]
  },
  {
   "cell_type": "markdown",
   "id": "d9a2188f",
   "metadata": {},
   "source": [
    "# Overall Inferecne\n",
    "\n",
    "Following are important features to consider for modelling to check on possiblity of Churn\n",
    "\n",
    "-  **Std Outgoing Calls** \n",
    "-  **Revenue Per Customer** \n",
    "-  **Local Incoming call**\n",
    "-  **Outgoing Calls for 8th Month** \n",
    "-  **avg revenue in 8th Month**.\n",
    "-  **cutomers with tenure less than 40 months are more likely to churn**.\n",
    "-  **Max Recharge Amount**"
   ]
  },
  {
   "cell_type": "markdown",
   "id": "bc10e5ce",
   "metadata": {},
   "source": [
    "## References:"
   ]
  },
  {
   "cell_type": "markdown",
   "id": "5889a066",
   "metadata": {},
   "source": [
    "[1] : np.where : https://www.geeksforgeeks.org/numpy-where-in-python/\n",
    "\n",
    "[2] plotting in 2D & 3D  https://www.southampton.ac.uk/~feeg1001/notebooks/Matplotlib.html\n",
    "\n",
    "[3] SMOTE & Six: https://stackoverflow.com/questions/61867945/python-import-error-cannot-import-name-six-from-sklearn-externals\n",
    "\n",
    "[4] https://imbalanced-learn.org/stable/references/generated/imblearn.over_sampling.SMOTE.html\n",
    "\n",
    "[5] mlrose · PyPI\n",
    "[6] https://imbalanced-learn.org/stable/install.html\n",
    "\n",
    "[7] https://stackoverflow.com/questions/60145652/no-module-named-sklearn-neighbors-base\n",
    "\n",
    "https://towardsdatascience.com/methods-for-dealing-with-imbalanced-data-5b761be45a18![image.png](attachment:image.png)\n",
    "\n",
    "[8] https://machinelearningmastery.com/rfe-feature-selection-in-python/\n",
    "\n",
    "[9]https://stats.idre.ucla.edu/r/library/r-library-contrast-coding-systems-for-categorical-variables/\n",
    "\n",
    "[10] https://www.geeksforgeeks.org/anscombes-quartet/\n",
    "\n",
    "[11] https://www.analyticsvidhya.com/blog/2016/01/guide-data-exploration/\n",
    "\n",
    "[12] Drop Outliers :   Python code snippet \n",
    "\t https://www.analyticsvidhya.com/blog/2021/03/zooming-out-a-look-at-outlier-and-how-to-deal-with-them-indata-science/\n",
    "     \n",
    "[13] RFE with VIF  automated path:   https://machinelearningmastery.com/rfe-feature-selection-in-python/![image.png]\n",
    "(attachment:image.png)"
   ]
  },
  {
   "cell_type": "code",
   "execution_count": null,
   "id": "99cdf126",
   "metadata": {},
   "outputs": [],
   "source": []
  }
 ],
 "metadata": {
  "kernelspec": {
   "display_name": "Python 3 (ipykernel)",
   "language": "python",
   "name": "python3"
  },
  "language_info": {
   "codemirror_mode": {
    "name": "ipython",
    "version": 3
   },
   "file_extension": ".py",
   "mimetype": "text/x-python",
   "name": "python",
   "nbconvert_exporter": "python",
   "pygments_lexer": "ipython3",
   "version": "3.10.4"
  }
 },
 "nbformat": 4,
 "nbformat_minor": 5
}
